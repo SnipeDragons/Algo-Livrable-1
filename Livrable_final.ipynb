{
 "cells": [
  {
   "cell_type": "markdown",
   "metadata": {
    "collapsed": false,
    "pycharm": {
     "name": "#%% md\n"
    }
   },
   "source": [
    "# Livrable Final"
   ]
  },
  {
   "cell_type": "markdown",
   "metadata": {
    "collapsed": false,
    "pycharm": {
     "name": "#%% md\n"
    }
   },
   "source": [
    "## Table des matières\n",
    "- Introduction\n",
    "1. Contraintes\n",
    "2. Modélisation\n",
    "3. Implémentation\n",
    "4. Exploitation\n",
    "- Conclusion"
   ]
  },
  {
   "cell_type": "markdown",
   "metadata": {
    "collapsed": false,
    "pycharm": {
     "name": "#%% md\n"
    }
   },
   "source": [
    " ## Introduction\n",
    "\n",
    "L’ADEME (Agence de l’Environnement et de la Maîtrise de l’Energie) a récemment lancé un appel à manifestation d’intérêt pour promouvoir la réalisation de démonstrations et d’expérimentations de nouvelles solutions de mobilité pour les personnes et les marchandises adaptées à différents types de territoires.   Notre équipe fait partie de la structure CesiCDP déjà implantée dans le domaine et nous avons été mobilisé pour répondre à cet appel. CesiCDP souhaite que l’on oriente l’étude sur la gestion de tournées de livraison. Le problème algorithmique consiste a calculer, sur un réseau routier quelconque, une tournée permettant de relier entre elles un sous-ensemble de villes avec pour but de revenir au point de départ en un minimum de temps. Une méthode algorithme permettrant de répondre a ce problème est attendu. Il est aussi demandé d’ajouter des contraintes supplémentaires afin de rendre le model plus réaliste possible.\n"
   ]
  },
  {
   "cell_type": "markdown",
   "source": [
    "## 1.Cadre d'étude et Contraintes\n",
    "\n",
    "Afin de répondre à l’appel d’offre de l’ADEME, nous nous sommes défini un environnement clair.\n",
    "\n",
    "Notre étude sur la gestion de tournées de livraison concerne la distribution d’un réseau de villes en fonction de la fluctuation de la circulation. Nous cherchons donc à déterminer l’itinéraire le plus rapide (en temps) nécessaire pour livrer chaque ville à l’aide d’un camion qui débutera l’itinéraire et le terminera à sa ville de dépôt. \n",
    "\n",
    "L’itinéraire dépendra donc du nombre de villes devant être livré et du temps variable nécessaire pour le transit du camion entre chaque ville.\n",
    "\n",
    "Nous avons donc établi les contraintes suivantes :\n",
    "1.\tLe camion doit commencer et terminer son itinéraire depuis la même ville prédéfinie ;\n",
    "2.\tLe camion doit se rendre dans chaque ville devant être livré ;\n",
    "3.\tLe temps nécessaire pour utiliser une route séparant deux villes varie en fonction de la circulation (on note également qu’à un même instant, le temps nécessaire pour se rendre à une ville B depuis une ville A n’est pas identique à se rendre à une ville A depuis une ville B).\n",
    "\n",
    "Pareillement, nous avons établi les données nécessaires à la résolution de notre problème :\n",
    "1.\tUne liste de villes étant pouvant être une ville entrepôt, des villes à livrer ou des villes sans importance pour notre étude ;\n",
    "2.\tUne carte déterminant les positions des villes ;\n",
    "3.\tLes relevées permettant de la circulation entre les différentes villes.\n"
   ],
   "metadata": {
    "collapsed": false,
    "pycharm": {
     "name": "#%% md\n"
    }
   }
  },
  {
   "cell_type": "markdown",
   "source": [],
   "metadata": {
    "collapsed": false,
    "pycharm": {
     "name": "#%% md\n"
    }
   }
  },
  {
   "cell_type": "markdown",
   "source": [
    "## 2.Modélisation\n",
    "Le problème que l'on nous demande de traiter dans ce projet repose sur un problème plus largement étudier qui est celui du voyageur de commerce. Ce problème est un sujet bien connu en algorithmique du fait de sa complexité initial et du nombre de sous problèmes qu'il soulève. Pour le résoudre nous avons choisis de suivre les études faites sur le sujet et donc d'utiliser des algorithme Heuristiques et Métaheuristiques.\n",
    "\n",
    "Nous avons donc selectionné 3 algorithmes pour nous aider à resoudre notre problèmatique général. Chacun d’eux a ses avantages et ses inconvénients.\n",
    "Il faudra donc retenir qu'on ne retiendra pas la même solution dans la mesure où l’on va privilégié le temps de calcul, la qualité de la solution, ou encore le choix des solutions.\n",
    "\n",
    "On peut commencer par citer le premier algorithme que nous allons utiliser qui fait partie de la famille des algorithmes gloutons. Il s'agit d'une famille d'algorithme qui font le choix de l'optimum local pour chaque étape d'un problème. Celui que nous avons retenu est l’algorithme du plus proche voisin. Il nous permettra de récupérer une solution valide, mais pas optimale.\n",
    "\n",
    "L'algorithme du plus proche voisin se base, comme son nom l'indique, sur la sélection de la ville la plus proche de la position actuelle. Le principe est que la prochaine ville est sélectionnée tel que le poids de l'arrête entre la ville actuelle et la prochaine ville soit le plus petit possible (temps minimal). L'opération sera répété jusqu'à avoir visité toutes les villes et être revenu à la ville de départ du cycle.\n",
    "\n",
    "Nous porterons donc notre choix sur la mise en place d'une combinaison d'algorithmes pour résoudre notre problème.\n",
    "\n",
    "Puis, nous utiliserons un algorithme métaheuristique, qui prendra en entrée la solution précédemment trouvée, et qui essayera de l'améliorer. Pour celui-ci, nous avons choisi l'algorithme métaheuristique du recuit simulé.\n",
    "\n",
    "Pendant nos recherches sur le sujet, nous sommes tombés sur une thèse qui introduit differents algorithmes permettant la résolution du voyageur de commerce.\n",
    "On y retrouve l'algorithme fourmis, l'algorithme génétique et l'algorithme du recuit simulé.\n",
    "Bien que les deux premiers soient intéréssant sur le principe, nous nous sommes concentrés sur le dernier.\n",
    "Un tableau est en annexe et affiche le temps de résolution du problème par chaque algorithme. La conclusion fut que l'algorithme de recuit simulé été le meilleur des trois ce qui a porté notre attention sur ce dernier.\n",
    "\n",
    "\n",
    "Nous avons donc approfondi nos recherches sur l'algorithme du recuit simulé d'après la thèse en annexe et ce que nous avons vue durant nos prosits. L'algorithme du recuit simulé nous a semblé facile au premier regarde mais nous avons vite remarqué que la configuration de cet algorithme serait un peu plus long que prévu du fait de ses nombreux paramêtres.\n",
    "\n",
    "Des études théoriques du recuit simulé ont pu montrer que sous certaines conditions, l'algorithme du recuit convergeait vers un optimum global. Cela veut donc dire que contrairement à d'autres algorithmes métaheuristiques, le recuit simulé peut trouver un état correspondant à la meilleure solution, si on le laisse chercher indéfiniment.\n",
    "\n",
    "\n",
    "Enfin pour prouver que la solution est vérifiable en temps polynomiale nous allons mettre en place un algorithme de certificat :\n",
    "\n",
    "   Mais avant cela qu'est-ce qu'un temps polynomiale ?\n",
    "\n",
    "Un temps polynomial peut être vu comme le temps minimum d’exécution d’un algorithme en fonction des données en\n",
    "entrée. Un algorithme est résolu en temps polynomial si, pour toutes constantes c et n indépendantes, avec n un entier\n",
    "présentant la taille des données en entrée, il s’exécute en moins de c.n<sup>k</sup> opérations élémentaires (et k est une constante indépendante des deux autres).\n",
    "\n",
    "Par la suite, dans notre situation de voyageur de commerce et dans les contraintes demandées, notre solution doit être vérifiable dans un temps polynomiale sur un jeu de données de plusieurs milliers de points. Nous allons donc apporter la preuve :\n",
    "\n",
    "\n",
    "## Section de daniel sur les algos de certificat et la reolution en temps polynomiale"
   ],
   "metadata": {
    "collapsed": false,
    "pycharm": {
     "name": "#%% md\n"
    }
   }
  },
  {
   "cell_type": "markdown",
   "source": [
    "## 2. Modélisation du problème\n",
    "\n",
    "…\n",
    "\n",
    "Un temps polynomial peut être vu comme le temps minimum d’exécution d’un algorithme en fonction des données en entrée. Un algorithme est résolu en temps polynomial si, pour toutes constantes c et n indépendantes, avec n un entier présentant la taille des données en entrée, il s’exécute en moins de c.n^k opérations élémentaires (et k est une constante indépendante des deux autres).\n",
    "\n",
    "…\n",
    "\n",
    "### 2.1 Modélisation formelle de notre problème\n",
    "\n",
    "Afin de définir notre problème, nous avons également réalisé une modélisation formelle afin d’en abstraire le contexte.\n",
    "\n",
    "Données :\n",
    "* Un **graphe orienté complet $G$**$=(V,A,ω(t))$ avec \n",
    "\t* $V$ un ensemble de sommets tel que $V=\\left\\{x_1,x_2,…,x_i,…,x_j,…,x_m\\right\\}$ avec $x_i$ la $i$-ième ville et $m$ le nombre de villes, \n",
    "\t* $A⊆\\left\\{(x_i,x_j)|(x_i,x_j)∈V^2 ⋀[x_i≠x_j]\\right\\}$ un ensemble de flèches d’origine $x_i$ et d’extrémité $x_j$ qui sont des couples de sommets distincts,\n",
    "\t* $ω(t) ∶A→ R^+$ une fonction de coût sur les arcs variant en fonction de l’instant $t$ où l’arc est utilisé,\n",
    "\t* $t∈R$ un instant donné avec $t=0$ le début de la modélisation.\n",
    "* Un **ensemble de sommets $L$** tel que $L∈V$\n",
    "* Un **sommet $D$** tel que $D∈V$\n",
    "\n",
    "Problème :  \n",
    "&nbsp;&nbsp;&nbsp;&nbsp;&nbsp;&nbsp;<span style=\"color:green\">Variante 1</span> (Problème de décision) :  \n",
    "&nbsp;&nbsp;&nbsp;&nbsp;&nbsp;&nbsp;Existe-t-il un **circuit $C_{TD-TSP}$** de coût $k∈R^+$ **passant par chaque sommet $L$** et dont le **point de départ est le sommet $D$** ?\n",
    "\n",
    "&nbsp;&nbsp;&nbsp;&nbsp;&nbsp;&nbsp;<span style=\"color:orange\">Variante 2</span> (Problème d’optimisation) :  \n",
    "&nbsp;&nbsp;&nbsp;&nbsp;&nbsp;&nbsp;Quel est **le plus petit $k$** tel que le **circuit $C_{TD-TSP}$** de coût $k∈R^+$ **passe par chaque sommet $L$** et utilise le **sommet $D$ comme point de départ** ?\n",
    "\n",
    "\n",
    "### 2.2 Preuve de complexité\n",
    "\n",
    "#### 2.2.1 Algorithme de certificat\n",
    "\n",
    "En ayant défini notre problème, nous avons pu réaliser un algorithme de certificat concernant notre <span style=\"color:green\">variante 1</span>.\n",
    "\n",
    "L’algorithme de certificat doit donc vérifier les contraintes suivantes :\n",
    "1. Le circuit $C_{TD-TSP}$ doit commencer et se terminer par le sommet $D$ ;\n",
    "2. Le circuit $C_{TD-TSP}$ atteint chaque sommet $L$ ;\n",
    "3. Le coût du circuit $C_{TD-TSP}$ vaut $k$.\n",
    "\n",
    "L’algorithme de certificat sera donc de la forme suivante :\n",
    "\n",
    "1. Tester si le premier point du circuit $C_{TD-TSP}$ est le sommet $D$  \n",
    "Tester si le dernier point du circuit $C_{TD-TSP}$ est le sommet $D$  \n",
    "\n",
    "\n",
    "2. Pour chaque sommet $x$ dans l’ensemble de sommets $L$  \n",
    "&nbsp;&nbsp;&nbsp;&nbsp;&nbsp;&nbsp;Initialiser un entier $compteur$ à $0$  \n",
    "&nbsp;&nbsp;&nbsp;&nbsp;&nbsp;&nbsp;Pour chaque sommet $y$ du circuit $C_{TD-TSP}$  \n",
    "&nbsp;&nbsp;&nbsp;&nbsp;&nbsp;&nbsp;&nbsp;&nbsp;&nbsp;&nbsp;&nbsp;&nbsp;Si le sommet $x$ est le même sommet que $y$  \n",
    "&nbsp;&nbsp;&nbsp;&nbsp;&nbsp;&nbsp;&nbsp;&nbsp;&nbsp;&nbsp;&nbsp;&nbsp;&nbsp;&nbsp;&nbsp;&nbsp;&nbsp;&nbsp;Incrémenter $compteur$ de $1$  \n",
    "&nbsp;&nbsp;&nbsp;&nbsp;&nbsp;&nbsp;Tester si compteur est strictement supérieur à $0$  \n",
    "\n",
    "3. Initialiser un réel $energie$ = 0  \n",
    "Pour chaque arc $(y_i,y_{i+1})$ du circuit $C_{TD-TSP}$  \n",
    "&nbsp;&nbsp;&nbsp;&nbsp;&nbsp;&nbsp;Incrémenter $energie$ avec le coût de l’arc $(y_i,y_{i+1})$ à l’instant $energie$  \n",
    "Tester si $energie$ vaut $k$  \n",
    "\n",
    "\n",
    "#### 2.2.2 Preuve\n",
    "\n",
    "##### 2.2.2.1 Preuve de la variante 1\n",
    "\n",
    "Ainsi, nous avons pu également déterminer la complexité de notre algorithme.  \n",
    "Nous souhaitons maintenant prouver que nos résultats possèdent un résultat dans un temps polynomial.\n",
    "\n",
    "Soit $n$ le nombre de sommet dans l’ensemble de sommets $L$, nous appelons $O_{TD-TSP}(n)$ la complexité de l’algorithme de certificat.\n",
    "Lors de la recherche du circuit $C_{TD-TSP}$ le plus rapide possible, nous pouvons supposer qu’il devrait contenir un nombre de sommets proches de l’ensemble $L$. Nous supposons donc que parcourir l’ensemble du circuit vaut nécessite $n$ itérations.  \n",
    "\n",
    "Soit $O_{C1}(n)$, $O_{C2}(n)$ et $O_{C3}(n)$ les complexités respectives des fonctions de l’algorithme de certificat implémentant les contraintes 1, 2 et 3.  \n",
    "\n",
    "Nous trouvons donc :  \n",
    "$O_{TD-TSP}(n) = O_{C1}(n) + O_{C2}(n) + O_{C3}(n)$  \n",
    "Avec :  \n",
    "&nbsp;&nbsp;&nbsp;&nbsp;&nbsp;&nbsp;$O_{C1}(n) = 1+1=2$  \n",
    "&nbsp;&nbsp;&nbsp;&nbsp;&nbsp;&nbsp;$O_{C2}(n) = n\\times(1+n\\times3+1)+1=3n^2+2n+1$  \n",
    "&nbsp;&nbsp;&nbsp;&nbsp;&nbsp;&nbsp;$O_{C3}(n) = 1+n\\times(1+1+1)+1+1=3n+3$  \n",
    "\n",
    "D’où :  \n",
    "$O_{TD-TSP}(n)=2+3n^2+2n+1+3n+3=3n^2+5n+6$\n",
    "\n",
    "$O_{TD-TSP}(n)$ est donc d’ordre $n^2$.  \n",
    "L’algorithme de certificat est donc soluble en temps polynomial.  \n",
    "On en conclut que le problème appartient à NP.\n",
    "\n",
    "Nous définissons le problème du cycle Hamiltonien appartenant à NP-Complet par le problème de décision suivant :  \n",
    "\n",
    "Données :  \n",
    "* Un graphe complet $G=(V,A)$ avec \n",
    "\t* $V$ un ensemble de sommets tel que $V=\\left\\{x_1,x_2,…,x_i,…,x_j,…,x_m\\right\\}$ avec $x_i$ la $i$-ième ville et $m$ le nombre de villes,\n",
    "\t* $A⊆\\left\\{\\left\\{x_i,x_j\\right\\}|x_i,x_j∈V ⋀ x_i≠x_j\\right\\}$ un ensemble d'arêtes.\n",
    "\t\n",
    "\n",
    "Question :  \n",
    "&nbsp;&nbsp;&nbsp;&nbsp;&nbsp;&nbsp;Existe-t-il un cycle passant une et une seule fois par chaque sommet $V$ ?\n",
    "\n",
    "Le problème du cycle Hamiltonien est une simplification de notre <span style=\"color:green\">variante 1</span>. En effet, nous exceptons la fonction de coût.  \n",
    "Ainsi, notre problème est au moins aussi difficile que le problème du cycle Hamiltonien.  \n",
    "Par réduction polynomiale, on en conclut donc que notre problème appartient à NP-Complet.  \n",
    "\n",
    "La <span style=\"color:green\">variante 1</span> appartient à NP-Complet.  \n",
    "Nous pouvons conclure qu'elle peut être résolu en temps polynomial par un algorithme non-déterministe.\n",
    "\n",
    "##### 2.2.2.2 Preuve de la variante 2\n",
    "\n",
    "\n",
    "Comme la <span style=\"color:green\">variante 1</span> peut être résolu en temps polynomial par un algorithme non-déterministe, la <span style=\"color:orange\">variante 2</span> peut être résolu également en temps polynomial par un algorithme non-déterministe.  \n",
    "En effet, nous considérons $n=|L|^2$ différentes entrées pour la <span style=\"color:green\">variante 1</span> de notre problème, avec le paramètre $i$ de $1$ à $n$. Chacun des $n$ problèmes peut être résolu en temps polynomial par un algorithme non-déterministe. L’entrée $i$, dont le coût $k$ du circuit $C_{TD-TSP}$ sera le plus faible, pour lequel la réponse de la <span style=\"color:green\">variante 1</span> est « oui », est la solution pour la variante 2 de notre problème.  \n",
    "Ainsi, notre <span style=\"color:orange\">variante 2</span> est également solvable en temps polynomial par un algorithme non-déterministe."
   ],
   "metadata": {
    "collapsed": false,
    "pycharm": {
     "name": "#%% md\n"
    }
   }
  },
  {
   "cell_type": "code",
   "execution_count": 7,
   "outputs": [
    {
     "data": {
      "image/png": "[encoded data removed]",
      "text/plain": "<IPython.core.display.Image object>"
     },
     "metadata": {},
     "output_type": "display_data"
    }
   ],
   "source": [
    "import requests\n",
    "import bs4\n",
    "from IPython import display\n",
    "\n",
    "raw_html = requests.get(\"http://www.sytadin.fr/sys/barometre_courbe_cumul.jsp.html\")\n",
    "soup = bs4.BeautifulSoup(raw_html.text, features=\"html.parser\")\n",
    "\n",
    "elem = soup.find(name=\"img\", attrs={\"alt\":\"Courbe du cumul de bouchon\"})\n",
    "img_path = elem.get(\"src\")\n",
    "img_data = requests.get(f\"http://www.sytadin.fr{img_path}\").content\n",
    "\n",
    "display.display(display.Image(img_data))"
   ],
   "metadata": {
    "collapsed": false,
    "pycharm": {
     "name": "#%%\n"
    }
   }
  },
  {
   "cell_type": "markdown",
   "source": [
    "## 3.Implémentation"
   ],
   "metadata": {
    "collapsed": false,
    "pycharm": {
     "name": "#%% md\n"
    }
   }
  },
  {
   "cell_type": "markdown",
   "source": [
    "## Notre générateur"
   ],
   "metadata": {
    "collapsed": false,
    "pycharm": {
     "name": "#%% md\n"
    }
   }
  },
  {
   "cell_type": "code",
   "execution_count": null,
   "outputs": [],
   "source": [
    "import numpy as np\n",
    "import matplotlib.pyplot as plt\n",
    "import random\n",
    "from math import *\n",
    "import time"
   ],
   "metadata": {
    "collapsed": false,
    "pycharm": {
     "name": "#%%\n"
    }
   }
  },
  {
   "cell_type": "code",
   "execution_count": null,
   "outputs": [],
   "source": [
    "def GeneratorCity(nb_city: int = 10, size_map: tuple = (100, 100)) -> list:\n",
    "    \"\"\"\n",
    "    Return a list of cities with random coordinates and their utility\n",
    "\n",
    "    Arguments:\n",
    "        nb_city: Number of cities\n",
    "        size_map: Area of the map in this format : (max_abscissa, max_ordinate)\n",
    "        display: Draw a diagram of the situation\n",
    "\n",
    "    Return:\n",
    "        An array of cities with the abscissa, ordinate and the use of each cities ;\n",
    "        0 means \"This city is not important\" ;\n",
    "        1 means \"This city must be delivered\" ;\n",
    "        2 means \"This city is the depository\" ;\n",
    "    \"\"\"\n",
    "\n",
    "    # Randomization of points\n",
    "    abscissa = random.sample(range(0, size_map[0]), nb_city)\n",
    "    ordinate = random.sample(range(0, size_map[1]), nb_city)\n",
    "\n",
    "    # Return the list of coordinate\n",
    "    return [[abscissa[i],ordinate[i]] for i in range(nb_city)]\n",
    "\n",
    "\n",
    "def DefinitionCity(cities: list) -> list:\n",
    "    \"\"\"\n",
    "    Defines the type of cities\n",
    "\n",
    "    Arguments:\n",
    "        cities: The cities\n",
    "        only_delivered: Removal of undelivered cities\n",
    "\n",
    "    Return:\n",
    "        The list of cities\n",
    "    \"\"\"\n",
    "\n",
    "    # Define the kind of city\n",
    "    delivered = random.choices(population=[0, 1], k=len(cities))\n",
    "\n",
    "    # Define a repository\n",
    "    delivered[random.randint(1, len(cities)) - 1] = 2\n",
    "\n",
    "    # Return the list of city\n",
    "    return [[cities[i][0],cities[i][1],delivered[i]] for i in range(len(cities))]\n",
    "\n",
    "\n",
    "def GeneratorGraph(cities: list, fluctuation: int = 10, fluctuation_weight: int = 10):\n",
    "    \"\"\"\n",
    "    Return the graph of the instance\n",
    "\n",
    "    Arguments:\n",
    "        cities: The coordinate from the city in this format : [max_abscissa, max_ordinate]\n",
    "        fluctuation: The rate of fluctuation of the cost of the arcs\n",
    "        fluctuation_weight: The fluctuation amplitude of the cost of the arcs\n",
    "\n",
    "    Return:\n",
    "        A matrix of size [nb_city, nb_city, 3]\n",
    "    \"\"\"\n",
    "\n",
    "    # Initialization of the graph matrix\n",
    "    generator = np.array([[(0, 0, 0)] * len(cities)] * len(cities))\n",
    "\n",
    "    # For each element of the graph\n",
    "    for i in range(len(cities)):\n",
    "        for j in range(len(cities)):\n",
    "            if i != j:\n",
    "                # Traffic randomization\n",
    "                if fluctuation == 0:\n",
    "                    arc_fluctuation = 0\n",
    "                else:\n",
    "                    arc_fluctuation = random.randrange(0, fluctuation)\n",
    "                # Calculation of the distance between two points\n",
    "                arc_min_cost = sqrt(pow(cities[i][0] - cities[j][0], 2) + pow(cities[i][1] - cities[j][1], 2))\n",
    "                # Randomization of the traffic amplitude\n",
    "                if fluctuation_weight == 0:\n",
    "                    arc_fluctuation_weight = 0\n",
    "                else:\n",
    "                    arc_fluctuation_weight = random.randrange(0, fluctuation_weight) * arc_min_cost\n",
    "                \n",
    "                # Completion of the matrix\n",
    "                generator[i][j] = (arc_fluctuation, arc_fluctuation_weight, arc_min_cost)\n",
    "\n",
    "    # Return the matrix\n",
    "    return generator\n"
   ],
   "metadata": {
    "collapsed": false,
    "pycharm": {
     "name": "#%%\n"
    }
   }
  },
  {
   "cell_type": "markdown",
   "source": [
    "Création de notre instance"
   ],
   "metadata": {
    "collapsed": false,
    "pycharm": {
     "name": "#%% md\n"
    }
   }
  },
  {
   "cell_type": "code",
   "execution_count": null,
   "outputs": [],
   "source": [
    "###"
   ],
   "metadata": {
    "collapsed": false,
    "pycharm": {
     "name": "#%%\n"
    }
   }
  },
  {
   "cell_type": "markdown",
   "source": [
    "#### K-Nearest Neightbors Algorithm :\n",
    "\n",
    "L'algorithme naïf de recherche de voisinage consiste à passer sur l'ensemble des n points de A et à regarder si ce point est plus proche ou non qu'un des plus proches voisins déjà sélectionné, et si oui, l'insérer. On obtient alors un temps de calcul linéaire en la taille de A : O(n) (tant que k << n). Cette méthode est appelée la recherche séquentielle ou recherche linéaire.\n",
    "\n",
    "Le probleme est que la recherche linéaire souffre d'un problème de lenteur. Si l'ensemble A est grand, il est alors extrêmement coûteux de tester les n points de l'espace.\n",
    "\n",
    "##### Démonstration :"
   ],
   "metadata": {
    "collapsed": false,
    "pycharm": {
     "name": "#%% md\n"
    }
   }
  },
  {
   "cell_type": "code",
   "execution_count": null,
   "outputs": [],
   "source": [
    "def EnergieSum(graph: np.array([[()]]), cycle: tuple) -> float:\n",
    "    \"\"\"\n",
    "    Calculation of the energies of the graph\n",
    "\n",
    "    Arguments:\n",
    "        graph: The graph\n",
    "\n",
    "    Return:\n",
    "        The energie of the graph\n",
    "    \n",
    "    \"\"\"\n",
    "    # Energy initialization\n",
    "    energie = 0\n",
    "\n",
    "    # For each point of the graph\n",
    "    for i in range(len(cycle) - 1):\n",
    "        # Add the energy of the path\n",
    "        energie += CalculArc(graph, energie, (cycle[i], cycle[i+1]))\n",
    "    \n",
    "    return energie\n",
    "\n",
    "\n",
    "def NearestNeightbor(graph: np.array([[()]]), time: float, start_city: int, cities_available: list):\n",
    "    \"\"\"\n",
    "    Get the nearest neightbor city which isn't use\n",
    "\n",
    "    Arguments:\n",
    "        graph: The graph\n",
    "        time: The start time\n",
    "        start_city: The start city\n",
    "        cities_available: The list of cities which are available\n",
    "\n",
    "    Return:\n",
    "        The nearest neightbor city and the add time needed\n",
    "    \"\"\"\n",
    "\n",
    "    nearest_neightbor = cities_available[0]\n",
    "    lowest_time = CalculArc(graph, time, (start_city, cities_available[0]))\n",
    "\n",
    "    for cities in cities_available[1:]:\n",
    "        current_time = CalculArc(graph, time, (start_city, cities))\n",
    "        if current_time < lowest_time:\n",
    "            lowest_time = current_time\n",
    "            nearest_neightbor = cities\n",
    "\n",
    "    if len(cities_available) > 1:\n",
    "        return [nearest_neightbor] + NearestNeightbor(graph, time + lowest_time, nearest_neightbor, [city for city in cities_available if city != nearest_neightbor])\n",
    "    else:\n",
    "        return [nearest_neightbor]\n"
   ],
   "metadata": {
    "collapsed": false,
    "pycharm": {
     "name": "#%%\n"
    }
   }
  },
  {
   "cell_type": "markdown",
   "source": [
    "Calcul de K-Nearest Neightbors avec notre instance"
   ],
   "metadata": {
    "collapsed": false,
    "pycharm": {
     "name": "#%% md\n"
    }
   }
  },
  {
   "cell_type": "code",
   "execution_count": null,
   "outputs": [],
   "source": [
    "###"
   ],
   "metadata": {
    "collapsed": false,
    "pycharm": {
     "name": "#%%\n"
    }
   }
  },
  {
   "cell_type": "markdown",
   "source": [
    "#### Recuit simulé :\n",
    "\n",
    "\" NEED DEFINITION DU RECUIT SIMULE \"\n",
    "\n",
    "##### Démonstration :\n",
    "\n"
   ],
   "metadata": {
    "collapsed": false,
    "pycharm": {
     "name": "#%% md\n"
    }
   }
  },
  {
   "cell_type": "code",
   "execution_count": null,
   "outputs": [],
   "source": [
    "import math\n",
    "import numpy as np\n",
    "import matplotlib.pyplot as plt"
   ],
   "metadata": {
    "collapsed": false,
    "pycharm": {
     "name": "#%%\n"
    }
   }
  },
  {
   "cell_type": "code",
   "execution_count": null,
   "outputs": [],
   "source": [
    "def Pythagore(a, b):\n",
    "    vect = [b[0]-a[0], b[1]-a[1]]\n",
    "    return math.sqrt(vect[0]*vect[0]+vect[1]*vect[1])\n",
    "\n",
    "def EnergieSum(Road, nbPoints):\n",
    "    energie = 0\n",
    "    for i in range(nbPoints-1):\n",
    "        energie += Pythagore(Road[i], Road[i+1])\n",
    "    energie += Pythagore(Road[0], Road[nbPoints-1])\n",
    "    return energie"
   ],
   "metadata": {
    "collapsed": false,
    "pycharm": {
     "name": "#%%\n"
    }
   }
  },
  {
   "cell_type": "code",
   "execution_count": null,
   "outputs": [],
   "source": [
    "def GeneratePoints(nbPoints, minX, maxX, minY,  maxY):\n",
    "    points = []\n",
    "    for _ in range(nbPoints):\n",
    "        point = [np.random.randint(minX, maxX), np.random.randint(minY, maxY)]\n",
    "        points.append(point)\n",
    "    return points\n",
    "\n",
    "def GeneratePointsInSquare(nbPoints, size):\n",
    "    return GeneratePoints(nbPoints, -size, size, -size, size)\n",
    "\n",
    "def plotMap(Road):\n",
    "    x = [i[0] for i in Road]\n",
    "    y = [i[1] for i in Road]\n",
    "    plt.plot(x, y, 'ro')\n",
    "    x.append(x[0])\n",
    "    y.append(y[0])\n",
    "    plt.plot(x, y)#.append(Road[0][0]) .append(Road[0][1])\n",
    "    #plt.plot(Road, 'ro', Road )\n",
    "    plt.show()\n"
   ],
   "metadata": {
    "collapsed": false,
    "pycharm": {
     "name": "#%%\n"
    }
   }
  },
  {
   "cell_type": "code",
   "execution_count": null,
   "outputs": [],
   "source": [
    "def ModificationElementaire(points, nbPoints):\n",
    "    rand1 = np.random.randint(0, nbPoints)\n",
    "    cond = True\n",
    "    while(cond):\n",
    "        rand2 = np.random.randint(0, nbPoints)\n",
    "        cond = rand1 == rand2\n",
    "    if rand1>rand2 :\n",
    "        rand1, rand2 = rand2, rand1\n",
    "    #print(rand1)\n",
    "    #print(rand2)\n",
    "    return points[:rand1]+points[rand2:rand2+1]+points[rand1+1:rand2]+points[rand1:rand1+1]+points[rand2+1:]\n",
    "\n",
    "def Recuit(points, nbPoints, energie, temperature, tempmin = 0.01, multipli = 0.99):\n",
    "    while(temperature>tempmin):\n",
    "        newP = ModificationElementaire(points, nbPoints)\n",
    "        newE = EnergieSum(newP, nbPoints)\n",
    "        if newE<energie or np.random.random() < math.exp(-(newE-energie)/temperature):\n",
    "            energie = newE\n",
    "            points = newP\n",
    "        temperature = temperature*multipli\n",
    "    return points, energie\n",
    "\n",
    "np.random.seed(2)\n",
    "\n",
    "\n",
    "nbPoints = 100\n",
    "points = GeneratePointsInSquare(nbPoints, 10000)\n",
    "\n",
    "energie = EnergieSum(points, nbPoints)\n",
    "print(energie)\n",
    "plotMap(points)\n",
    "\n",
    "points, energie = Recuit(points, nbPoints, energie, 200.0, 0.001, 0.999)\n",
    "print(energie)\n",
    "plotMap(points)"
   ],
   "metadata": {
    "collapsed": false,
    "pycharm": {
     "name": "#%%\n"
    }
   }
  },
  {
   "cell_type": "markdown",
   "source": [
    "Calcul avec l'instance et un chemin aléatoire"
   ],
   "metadata": {
    "collapsed": false,
    "pycharm": {
     "name": "#%% md\n"
    }
   }
  },
  {
   "cell_type": "code",
   "execution_count": null,
   "outputs": [],
   "source": [],
   "metadata": {
    "collapsed": false,
    "pycharm": {
     "name": "#%%\n"
    }
   }
  },
  {
   "cell_type": "markdown",
   "source": [
    "Calcul de l'instance avec chemin K-Nearest Neightbors"
   ],
   "metadata": {
    "collapsed": false,
    "pycharm": {
     "name": "#%% md\n"
    }
   }
  },
  {
   "cell_type": "code",
   "execution_count": null,
   "metadata": {
    "collapsed": false,
    "pycharm": {
     "name": "#%%\n"
    }
   },
   "outputs": [],
   "source": [
    "def GeneratePoints(nbPoints, minX, maxX, minY,  maxY):\n",
    "    points = []\n",
    "    for _ in range(nbPoints):\n",
    "        point = [np.random.randint(minX, maxX), np.random.randint(minY, maxY)]\n",
    "        points.append(point)\n",
    "    return points\n",
    "\n",
    "def GeneratePointsInSquare(nbPoints, size):\n",
    "    return GeneratePoints(nbPoints, -size, size, -size, size)\n",
    "\n",
    "def plotMap(Road):\n",
    "    x = [i[0] for i in Road]\n",
    "    y = [i[1] for i in Road]\n",
    "    plt.plot(x, y, 'ro')\n",
    "    x.append(x[0])\n",
    "    y.append(y[0])\n",
    "    plt.plot(x, y)#.append(Road[0][0]) .append(Road[0][1])\n",
    "    #plt.plot(Road, 'ro', Road )\n",
    "    plt.show()\n"
   ]
  },
  {
   "cell_type": "code",
   "execution_count": null,
   "metadata": {
    "collapsed": false,
    "pycharm": {
     "name": "#%%\n"
    }
   },
   "outputs": [],
   "source": [
    "def ModificationElementaire(points, nbPoints):\n",
    "    rand1 = np.random.randint(0, nbPoints)\n",
    "    cond = True\n",
    "    while(cond):\n",
    "        rand2 = np.random.randint(0, nbPoints)\n",
    "        cond = rand1 == rand2\n",
    "    if rand1>rand2 :\n",
    "        rand1, rand2 = rand2, rand1\n",
    "    #print(rand1)\n",
    "    #print(rand2)\n",
    "    return points[:rand1]+points[rand2:rand2+1]+points[rand1+1:rand2]+points[rand1:rand1+1]+points[rand2+1:]\n",
    "\n",
    "def Recuit(points, nbPoints, energie, temperature, tempmin = 0.01, multipli = 0.99):\n",
    "    while(temperature>tempmin):\n",
    "        newP = ModificationElementaire(points, nbPoints)\n",
    "        newE = EnergieSum(newP, nbPoints)\n",
    "        if newE<energie or np.random.random() < math.exp(-(newE-energie)/temperature):\n",
    "            energie = newE\n",
    "            points = newP\n",
    "        temperature = temperature*multipli\n",
    "    return points, energie\n",
    "\n",
    "np.random.seed(2)\n",
    "\n",
    "\n",
    "nbPoints = 100\n",
    "points = GeneratePointsInSquare(nbPoints, 10000)\n",
    "\n",
    "energie = EnergieSum(points, nbPoints)\n",
    "print(energie)\n",
    "plotMap(points)\n",
    "\n",
    "points, energie = Recuit(points, nbPoints, energie, 200.0, 0.001, 0.999)\n",
    "print(energie)\n",
    "plotMap(points)"
   ]
  },
  {
   "cell_type": "markdown",
   "metadata": {},
   "source": [
    "Calcul avec l'instance et un chemin aléatoire"
   ]
  },
  {
   "cell_type": "code",
   "execution_count": null,
   "metadata": {},
   "outputs": [],
   "source": []
  },
  {
   "cell_type": "markdown",
   "metadata": {},
   "source": [
    "Calcul de l'instance avec chemin K-Nearest Neightbors"
   ]
  },
  {
   "cell_type": "code",
   "execution_count": null,
   "metadata": {},
   "outputs": [],
   "source": []
  },
  {
   "cell_type": "markdown",
   "metadata": {
    "collapsed": false,
    "pycharm": {
     "name": "#%% md\n"
    }
   },
   "source": [
    "#### Hill Climbing :\n",
    "\n",
    "\" NEED DEFINITION HILL CLIMBING \"\n",
    "\n",
    "##### Démonstration :"
   ]
  },
  {
   "cell_type": "code",
   "execution_count": null,
   "metadata": {
    "collapsed": false,
    "pycharm": {
     "name": "#%%\n"
    }
   },
   "outputs": [],
   "source": []
  },
  {
   "cell_type": "markdown",
   "metadata": {
    "collapsed": false,
    "pycharm": {
     "name": "#%% md\n"
    }
   },
   "source": [
    "## 4.Exploitation"
   ]
  },
  {
   "cell_type": "markdown",
   "metadata": {
    "collapsed": false,
    "pycharm": {
     "name": "#%% md\n"
    }
   },
   "source": [
    "## Conclusion"
   ]
  }
 ],
 "metadata": {
  "kernelspec": {
   "display_name": "Python 3.9.12 ('base')",
   "language": "python",
   "name": "python3"
  },
  "language_info": {
   "codemirror_mode": {
    "name": "ipython",
    "version": 3
   },
   "file_extension": ".py",
   "mimetype": "text/x-python",
   "name": "python",
   "nbconvert_exporter": "python",
   "pygments_lexer": "ipython3",
   "version": "3.9.12"
  },
  "vscode": {
   "interpreter": {
    "hash": "ad2bdc8ecc057115af97d19610ffacc2b4e99fae6737bb82f5d7fb13d2f2c186"
   }
  }
 },
 "nbformat": 4,
 "nbformat_minor": 0
}