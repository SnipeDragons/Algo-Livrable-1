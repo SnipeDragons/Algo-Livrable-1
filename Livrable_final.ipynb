{
 "cells": [
  {
   "cell_type": "markdown",
   "metadata": {
    "collapsed": false,
    "pycharm": {
     "name": "#%% md\n"
    }
   },
   "source": [
    "# Livrable Final"
   ]
  },
  {
   "cell_type": "markdown",
   "metadata": {
    "collapsed": false,
    "pycharm": {
     "name": "#%% md\n"
    }
   },
   "source": [
    "## Table des matières\n",
    "- Introduction\n",
    "1. Contraintes\n",
    "2. Modélisation\n",
    "3. Implémentation\n",
    "4. Exploitation\n",
    "- Conclusion"
   ]
  },
  {
   "cell_type": "markdown",
   "metadata": {
    "collapsed": false,
    "pycharm": {
     "name": "#%% md\n"
    }
   },
   "source": [
    " ## Introduction\n",
    "\n",
    "L’ADEME (Agence de l’Environnement et de la Maîtrise de l’Energie) a récemment lancé un appel à manifestation d’intérêt pour promouvoir la réalisation de démonstrations et d’expérimentations de nouvelles solutions de mobilité pour les personnes et les marchandises adaptées à différents types de territoires.   Notre équipe fait partie de la structure CesiCDP déjà implantée dans le domaine et nous avons été mobilisé pour répondre à cet appel. CesiCDP souhaite que l’on oriente l’étude sur la gestion de tournées de livraison. Le problème algorithmique consiste a calculer, sur un réseau routier quelconque, une tournée permettant de relier entre elles un sous-ensemble de villes avec pour but de revenir au point de départ en un minimum de temps. Une méthode algorithme permettrant de répondre a ce problème est attendu. Il est aussi demandé d’ajouter des contraintes supplémentaires afin de rendre le model plus réaliste possible.\n"
   ]
  },
  {
   "cell_type": "markdown",
   "metadata": {
    "collapsed": false,
    "pycharm": {
     "name": "#%% md\n"
    }
   },
   "source": [
    "## 1.Contraintes\n",
    "\n",
    "Afin de répondre à l’appel d’offre de l’ADEME, nous avons donc dû identifier les contraintes que nous voulions traiter de notre algorithme.\n",
    "Notre solution doit :\n",
    "\n",
    "- Réaliser un cycle permettant de passer par toutes les villes souhaitées,\n",
    "- Prendre en compte le temps nécessaire pour le trajet entre deux villes.\n",
    "\n",
    "De plus, nous avons opté pour ajouter une contrainte supplémentaire :\n",
    "\n",
    "Le temps de parcours d’une arête varie au cours du temps. Cette contrainte nous a paru pertinente car le temps nécessaire au transit n’est généralement pas le même en fonction de la densité de circulation qui varie en fonction du temps."
   ]
  },
  {
   "cell_type": "markdown",
   "source": [
    "## 2.Modélisation\n",
    "Le problème que l'on nous demande de traiter dans ce projet repose sur un problème plus largement étudier qui est celui du voyageur de commerce. Ce problème est un sujet bien connu en algorithmique du fait de sa complexité initial et du nombre de sous problèmes qu'il soulève. Pour le résoudre nous avons choisis de suivre les études faites sur le sujet et donc d'utiliser des algorithme Heuristiques et Métaheuristiques.\n",
    "\n",
    "Nous avons donc selectionné 3 algorithmes pour nous aider à resoudre notre problèmatique général. Chacun d’eux a ses avantages et ses inconvénients.\n",
    "Il faudra donc retenir qu'on ne retiendra pas la même solution dans la mesure où l’on va privilégié le temps de calcul, la qualité de la solution, ou encore le choix des solutions.\n",
    "\n",
    "On peut commencer par citer le premier algorithme que nous allons utiliser qui fait partie de la famille des algorithmes gloutons. Il s'agit d'une famille d'algorithme qui font le choix de l'optimum local pour chaque étape d'un problème. Celui que nous avons retenu est l’algorithme du plus proche voisin. Il nous permettra de récupérer une solution valide, mais pas optimale.\n",
    "\n",
    "L'algorithme du plus proche voisin se base, comme son nom l'indique, sur la sélection de la ville la plus proche de la position actuelle. Le principe est que la prochaine ville est sélectionnée tel que le poids de l'arrête entre la ville actuelle et la prochaine ville soit le plus petit possible (temps minimal). L'opération sera répété jusqu'à avoir visité toutes les villes et être revenu à la ville de départ du cycle.\n",
    "\n",
    "Nous porterons donc notre choix sur la mise en place d'une combinaison d'algorithmes pour résoudre notre problème.\n",
    "\n",
    "Puis, nous utiliserons un algorithme métaheuristique, qui prendra en entrée la solution précédemment trouvée, et qui essayera de l'améliorer. Pour celui-ci, nous avons choisi l'algorithme métaheuristique du recuit simulé.\n",
    "\n",
    "Pendant nos recherches sur le sujet, nous sommes tombés sur une thèse qui introduit differents algorithmes permettant la résolution du voyageur de commerce.\n",
    "On y retrouve l'algorithme fourmis, l'algorithme génétique et l'algorithme du recuit simulé.\n",
    "Bien que les deux premiers soient intéréssant sur le principe, nous nous sommes concentrés sur le dernier.\n",
    "Un tableau est en annexe et affiche le temps de résolution du problème par chaque algorithme. La conclusion fut que l'algorithme de recuit simulé été le meilleur des trois ce qui a porté notre attention sur ce dernier.\n",
    "\n",
    "\n",
    "Nous avons donc approfondi nos recherches sur l'algorithme du recuit simulé d'après la thèse en annexe et ce que nous avons vue durant nos prosits. L'algorithme du recuit simulé nous a semblé facile au premier regarde mais nous avons vite remarqué que la configuration de cet algorithme serait un peu plus long que prévu du fait de ses nombreux paramêtres.\n",
    "\n",
    "Des études théoriques du recuit simulé ont pu montrer que sous certaines conditions, l'algorithme du recuit convergeait vers un optimum global. Cela veut donc dire que contrairement à d'autres algorithmes métaheuristiques, le recuit simulé peut trouver un état correspondant à la meilleure solution, si on le laisse chercher indéfiniment.\n",
    "\n",
    "\n",
    "Enfin pour prouver que la solution est vérifiable en temps polynomiale nous allons mettre en place un algorithme de certificat :\n",
    "\n",
    "   Mais avant cela qu'est-ce qu'un temps polynomiale ?\n",
    "\n",
    "Un temps polynomial peut être vu comme le temps minimum d’exécution d’un algorithme en fonction des données en\n",
    "entrée. Un algorithme est résolu en temps polynomial si, pour toutes constantes c et n indépendantes, avec n un entier\n",
    "présentant la taille des données en entrée, il s’exécute en moins de c.n<sup>k</sup> opérations élémentaires (et k est une constante indépendante des deux autres).\n",
    "\n",
    "Par la suite, dans notre situation de voyageur de commerce et dans les contraintes demandées, notre solution doit être vérifiable dans un temps polynomiale sur un jeu de données de plusieurs milliers de points. Nous allons donc apporter la preuve :\n",
    "\n",
    "\n",
    "## Section de daniel sur les algos de certificat et la reolution en temps polynomiale"
   ],
   "metadata": {
    "collapsed": false,
    "pycharm": {
     "name": "#%% md\n"
    }
   }
  },
  {
   "cell_type": "markdown",
   "source": [
    "## 3.Implémentation"
   ],
   "metadata": {
    "collapsed": false,
    "pycharm": {
     "name": "#%% md\n"
    }
   }
  },
  {
   "cell_type": "markdown",
   "source": [
    "#### Notre générateur :\n",
    "\n",
    "\n"
   ],
   "metadata": {
    "collapsed": false,
    "pycharm": {
     "name": "#%% md\n"
    }
   }
  },
  {
   "cell_type": "code",
   "execution_count": 2,
   "outputs": [],
   "source": [
    "import numpy as np\n",
    "import matplotlib.pyplot as plt\n",
    "import random\n",
    "from math import *\n",
    "import time"
   ],
   "metadata": {
    "collapsed": false,
    "pycharm": {
     "name": "#%%\n"
    }
   }
  },
  {
   "cell_type": "code",
   "execution_count": null,
   "outputs": [],
   "source": [
    "def GeneratorCity(nb_city: int = 10, size_map: tuple = (100, 100)) -> list:\n",
    "    \"\"\"\n",
    "    Return a list of cities with random coordinates and their utility\n",
    "\n",
    "    Arguments:\n",
    "        nb_city: Number of cities\n",
    "        size_map: Area of the map in this format : (max_abscissa, max_ordinate)\n",
    "        display: Draw a diagram of the situation\n",
    "\n",
    "    Return:\n",
    "        An array of cities with the abscissa, ordinate and the use of each cities ;\n",
    "        0 means \"This city is not important\" ;\n",
    "        1 means \"This city must be delivered\" ;\n",
    "        2 means \"This city is the depository\" ;\n",
    "    \"\"\"\n",
    "\n",
    "    # Randomization of points\n",
    "    abscissa = random.sample(range(0, size_map[0]), nb_city)\n",
    "    ordinate = random.sample(range(0, size_map[1]), nb_city)\n",
    "\n",
    "    # Return the list of coordinate\n",
    "    return [[abscissa[i],ordinate[i]] for i in range(nb_city)]\n",
    "\n",
    "\n",
    "def DefinitionCity(cities: list, no_delivered: bool = True) -> list:\n",
    "    \"\"\"\n",
    "    Defines the type of cities\n",
    "\n",
    "    Arguments:\n",
    "        cities: The cities\n",
    "        no_delivered: Removal of undelivered cities\n",
    "\n",
    "    Return:\n",
    "        The list of cities\n",
    "    \"\"\"\n",
    "\n",
    "    # Define the kind of city\n",
    "    delivered = random.choices(population=[0, 1], k=len(cities))\n",
    "\n",
    "    # Define a repository\n",
    "    delivered[random.randint(1, len(cities)) - 1] = 2\n",
    "\n",
    "    # Return the list of city\n",
    "    return [[cities[i][0],cities[i][1],delivered[i]] for i in range(len(cities)) if delivered[i] != 0 and no_delivered]\n",
    "\n",
    "\n",
    "def GeneratorGraph(cities: list, fluctuation: int = 10, fluctuation_weight: int = 10):\n",
    "    \"\"\"\n",
    "    Return the graph of the instance\n",
    "\n",
    "    Arguments:\n",
    "        cities: The coordinate from the city in this format : [max_abscissa, max_ordinate]\n",
    "        fluctuation: The rate of fluctuation of the cost of the arcs\n",
    "        fluctuation_weight: The fluctuation amplitude of the cost of the arcs\n",
    "\n",
    "    Return:\n",
    "        A matrix of size [nb_city, nb_city, 3]\n",
    "    \"\"\"\n",
    "\n",
    "    # Initialization of the graph matrix\n",
    "    generator = np.array([[(0, 0, 0)] * len(cities)] * len(cities))\n",
    "\n",
    "    # For each element of the graph\n",
    "    for i in range(len(cities)):\n",
    "        for j in range(len(cities)):\n",
    "            if i != j:\n",
    "                # Traffic randomization\n",
    "                arc_fluctuation = random.randrange(1, fluctuation)\n",
    "                # Calculation of the distance between two points\n",
    "                arc_min_cost = sqrt(pow(cities[i][0] - cities[j][0], 2) + pow(cities[i][1] - cities[j][1], 2))\n",
    "                # Randomization of the traffic amplitude\n",
    "                arc_fluctuation_weight = random.randrange(1, fluctuation_weight) * arc_min_cost\n",
    "\n",
    "                # Completion of the matrix\n",
    "                generator[i][j] = (arc_fluctuation, arc_fluctuation_weight, arc_min_cost)\n",
    "\n",
    "    # Return the matrix\n",
    "    return generator"
   ],
   "metadata": {
    "collapsed": false,
    "pycharm": {
     "name": "#%%\n"
    }
   }
  },
  {
   "cell_type": "markdown",
   "source": [
    "Création de notre instance"
   ],
   "metadata": {
    "collapsed": false,
    "pycharm": {
     "name": "#%% md\n"
    }
   }
  },
  {
   "cell_type": "code",
   "execution_count": null,
   "outputs": [],
   "source": [],
   "metadata": {
    "collapsed": false,
    "pycharm": {
     "name": "#%%\n"
    }
   }
  },
  {
   "cell_type": "markdown",
   "source": [
    "\n",
    "\n",
    "#### K-Nearest Neightbors Algorithm :\n",
    "\n",
    "L'algorithme naïf de recherche de voisinage consiste à passer sur l'ensemble des n points de A et à regarder si ce point est plus proche ou non qu'un des plus proches voisins déjà sélectionné, et si oui, l'insérer. On obtient alors un temps de calcul linéaire en la taille de A : O(n) (tant que k << n). Cette méthode est appelée la recherche séquentielle ou recherche linéaire.\n",
    "\n",
    "Le probleme est que la recherche linéaire souffre d'un problème de lenteur. Si l'ensemble A est grand, il est alors extrêmement coûteux de tester les n points de l'espace.\n",
    "\n",
    "##### Démonstration :"
   ],
   "metadata": {
    "collapsed": false,
    "pycharm": {
     "name": "#%% md\n"
    }
   }
  },
  {
   "cell_type": "code",
   "execution_count": null,
   "outputs": [],
   "source": [
    "def EnergieSum(graph: np.array([[()]]), cycle: tuple) -> float:\n",
    "    \"\"\"\n",
    "    Calculation of the energies of the graph\n",
    "\n",
    "    Arguments:\n",
    "        graph: The graph\n",
    "\n",
    "    Return:\n",
    "        The energie of the graph\n",
    "\n",
    "    \"\"\"\n",
    "    # Energy initialization\n",
    "    energie = 0\n",
    "\n",
    "    # For each point of the graph\n",
    "    for i in range(len(cycle) - 1):\n",
    "        # Add the energy of the path\n",
    "        energie += CalculArc(graph, energie, (cycle[i], cycle[i+1]))\n",
    "\n",
    "    return energie\n",
    "\n",
    "\n",
    "def NearestNeightbor(graph: np.array([[()]]), time: float, start_city: int, cities_available: list):\n",
    "    \"\"\"\n",
    "    Get the nearest neightbor city which isn't use\n",
    "\n",
    "    Arguments:\n",
    "        graph: The graph\n",
    "        time: The start time\n",
    "        start_city: The start city\n",
    "        cities_available: The list of cities which are available\n",
    "\n",
    "    Return:\n",
    "        The nearest neightbor city and the add time needed\n",
    "    \"\"\"\n",
    "\n",
    "    nearest_neightbor = cities_available[0]\n",
    "    lowest_time = CalculArc(graph, time, (start_city, cities_available[0]))\n",
    "\n",
    "    for cities in cities_available[1:]:\n",
    "        current_time = CalculArc(graph, time, (start_city, cities))\n",
    "        if current_time < lowest_time:\n",
    "            lowest_time = current_time\n",
    "            nearest_neightbor = cities\n",
    "\n",
    "    if len(cities_available) > 1:\n",
    "        return [nearest_neightbor] + NearestNeightbor(graph, time + lowest_time, nearest_neightbor, [city for city in cities_available if city != nearest_neightbor])\n",
    "    else:\n",
    "        return [nearest_neightbor]\n"
   ],
   "metadata": {
    "collapsed": false,
    "pycharm": {
     "name": "#%%\n"
    }
   }
  },
  {
   "cell_type": "markdown",
   "source": [
    "Calcul de K-Nearest Neightbor avec notre instance."
   ],
   "metadata": {
    "collapsed": false,
    "pycharm": {
     "name": "#%% md\n"
    }
   }
  },
  {
   "cell_type": "code",
   "execution_count": null,
   "outputs": [],
   "source": [],
   "metadata": {
    "collapsed": false,
    "pycharm": {
     "name": "#%%\n"
    }
   }
  },
  {
   "cell_type": "markdown",
   "source": [
    "#### Recuit simulé :\n",
    "\n",
    "\" NEED DEFINITION DU RECUIT SIMULE \"\n",
    "\n",
    "##### Démonstration :\n",
    "\n"
   ],
   "metadata": {
    "collapsed": false,
    "pycharm": {
     "name": "#%% md\n"
    }
   }
  },
  {
   "cell_type": "code",
   "execution_count": null,
   "outputs": [],
   "source": [
    "def ModificationElementaire(points, nbPoints):\n",
    "    rand1 = np.random.randint(0, nbPoints)\n",
    "    cond = True\n",
    "    while(cond):\n",
    "        rand2 = np.random.randint(0, nbPoints)\n",
    "        cond = rand1 == rand2\n",
    "    if rand1>rand2 :\n",
    "        rand1, rand2 = rand2, rand1\n",
    "    #print(rand1)\n",
    "    #print(rand2)\n",
    "    return points[:rand1]+points[rand2:rand2+1]+points[rand1+1:rand2]+points[rand1:rand1+1]+points[rand2+1:]\n",
    "\n",
    "def Recuit(points, nbPoints, energie, temperature, tempmin = 0.01, multipli = 0.99):\n",
    "    while(temperature>tempmin):\n",
    "        newP = ModificationElementaire(points, nbPoints)\n",
    "        newE = EnergieSum(newP, nbPoints)\n",
    "        if newE<energie or np.random.random() < math.exp(-(newE-energie)/temperature):\n",
    "            energie = newE\n",
    "            points = newP\n",
    "        temperature = temperature*multipli\n",
    "    return points, energie\n"
   ],
   "metadata": {
    "collapsed": false,
    "pycharm": {
     "name": "#%%\n"
    }
   }
  },
  {
   "cell_type": "markdown",
   "source": [
    "Calcul de l'instance avec le recuit simulé avec un path aléatoire"
   ],
   "metadata": {
    "collapsed": false,
    "pycharm": {
     "name": "#%% md\n"
    }
   }
  },
  {
   "cell_type": "code",
   "execution_count": null,
   "outputs": [],
   "source": [],
   "metadata": {
    "collapsed": false,
    "pycharm": {
     "name": "#%%\n"
    }
   }
  },
  {
   "cell_type": "markdown",
   "source": [
    "Calcul de l'instance avec le chemin du K-Nearest Neighbor"
   ],
   "metadata": {
    "collapsed": false,
    "pycharm": {
     "name": "#%% md\n"
    }
   }
  },
  {
   "cell_type": "code",
   "execution_count": null,
   "outputs": [],
   "source": [],
   "metadata": {
    "collapsed": false,
    "pycharm": {
     "name": "#%%\n"
    }
   }
  },
  {
   "cell_type": "markdown",
   "metadata": {
    "collapsed": false,
    "pycharm": {
     "name": "#%% md\n"
    }
   },
   "source": [
    "#### Hill Climbing :\n",
    "\n",
    "\" NEED DEFINITION HILL CLIMBING \"\n",
    "\n",
    "##### Démonstration :"
   ]
  },
  {
   "cell_type": "code",
   "execution_count": null,
   "metadata": {
    "collapsed": false,
    "pycharm": {
     "name": "#%%\n"
    }
   },
   "outputs": [],
   "source": []
  },
  {
   "cell_type": "markdown",
   "metadata": {
    "collapsed": false,
    "pycharm": {
     "name": "#%% md\n"
    }
   },
   "source": [
    "## 4.Exploitation"
   ]
  },
  {
   "cell_type": "markdown",
   "metadata": {
    "collapsed": false,
    "pycharm": {
     "name": "#%% md\n"
    }
   },
   "source": [
    "## Conclusion"
   ]
  }
 ],
 "metadata": {
  "kernelspec": {
   "display_name": "Python 3",
   "language": "python",
   "name": "python3"
  },
  "language_info": {
   "codemirror_mode": {
    "name": "ipython",
    "version": 2
   },
   "file_extension": ".py",
   "mimetype": "text/x-python",
   "name": "python",
   "nbconvert_exporter": "python",
   "pygments_lexer": "ipython2",
   "version": "2.7.6"
  }
 },
 "nbformat": 4,
 "nbformat_minor": 0
}