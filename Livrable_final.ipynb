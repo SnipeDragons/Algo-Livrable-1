{
 "cells": [
  {
   "cell_type": "markdown",
   "metadata": {
    "collapsed": false,
    "pycharm": {
     "name": "#%% md\n"
    }
   },
   "source": [
    "# Livrable Final"
   ]
  },
  {
   "cell_type": "markdown",
   "metadata": {
    "collapsed": false,
    "pycharm": {
     "name": "#%% md\n"
    }
   },
   "source": [
    "## Table des matières\n",
    "- Introduction\n",
    "1. Contraintes\n",
    "2. Modélisation\n",
    "3. Implémentation\n",
    "4. Exploitation\n",
    "- Conclusion"
   ]
  },
  {
   "cell_type": "markdown",
   "metadata": {
    "collapsed": false,
    "pycharm": {
     "name": "#%% md\n"
    }
   },
   "source": [
    " ## Introduction\n",
    "\n",
    "L’ADEME (Agence de l’Environnement et de la Maîtrise de l’Energie) a récemment lancé un appel à manifestation d’intérêt pour promouvoir la réalisation de démonstrations et d’expérimentations de nouvelles solutions de mobilité pour les personnes et les marchandises adaptées à différents types de territoires.   Notre équipe fait partie de la structure CesiCDP déjà implantée dans le domaine et nous avons été mobilisé pour répondre à cet appel. CesiCDP souhaite que l’on oriente l’étude sur la gestion de tournées de livraison. Le problème algorithmique consiste a calculer, sur un réseau routier quelconque, une tournée permettant de relier entre elles un sous-ensemble de villes avec pour but de revenir au point de départ en un minimum de temps. Une méthode algorithme permettrant de répondre a ce problème est attendu. Il est aussi demandé d’ajouter des contraintes supplémentaires afin de rendre le model plus réaliste possible.\n"
   ]
  },
  {
   "cell_type": "markdown",
   "metadata": {
    "collapsed": false,
    "pycharm": {
     "name": "#%% md\n"
    }
   },
   "source": [
    "## 1.Contraintes\n",
    "\n",
    "Afin de répondre à l’appel d’offre de l’ADEME, nous avons donc dû identifier les contraintes que nous voulions traiter de notre algorithme.\n",
    "Notre solution doit :\n",
    "\n",
    "- Réaliser un cycle permettant de passer par toutes les villes souhaitées,\n",
    "- Prendre en compte le temps nécessaire pour le trajet entre deux villes.\n",
    "\n",
    "De plus, nous avons opté pour ajouter une contrainte supplémentaire :\n",
    "\n",
    "Le temps de parcours d’une arête varie au cours du temps. Cette contrainte nous a paru pertinente car le temps nécessaire au transit n’est généralement pas le même en fonction de la densité de circulation qui varie en fonction du temps."
   ]
  },
  {
   "cell_type": "markdown",
   "source": [
    "## 2.Modélisation\n",
    "Le problème que l'on nous demande de traiter dans ce projet repose sur un problème plus largement étudier qui est celui du voyageur de commerce. Ce problème est un sujet bien connu en algorithmique du fait de sa complexité initial et du nombre de sous problèmes qu'il soulève. Pour le résoudre nous avons choisis de suivre les études faites sur le sujet et donc d'utiliser des algorithme Heuristiques et Métaheuristiques.\n",
    "\n",
    "Nous avons donc selectionné 3 algorithmes pour nous aider à resoudre notre problèmatique général. Chacun d’eux a ses avantages et ses inconvénients.\n",
    "Il faudra donc retenir qu'on ne retiendra pas la même solution dans la mesure où l’on va privilégié le temps de calcul, la qualité de la solution, ou encore le choix des solutions.\n",
    "\n",
    "On peut commencer par citer le premier algorithme que nous allons utiliser qui fait partie de la famille des algorithmes gloutons. Il s'agit d'une famille d'algorithme qui font le choix de l'optimum local pour chaque étape d'un problème. Celui que nous avons retenu est l’algorithme du plus proche voisin. Il nous permettra de récupérer une solution valide, mais pas optimale.\n",
    "\n",
    "L'algorithme du plus proche voisin se base, comme son nom l'indique, sur la sélection de la ville la plus proche de la position actuelle. Le principe est que la prochaine ville est sélectionnée tel que le poids de l'arrête entre la ville actuelle et la prochaine ville soit le plus petit possible (temps minimal). L'opération sera répété jusqu'à avoir visité toutes les villes et être revenu à la ville de départ du cycle.\n",
    "\n",
    "Nous porterons donc notre choix sur la mise en place d'une combinaison d'algorithmes pour résoudre notre problème.\n",
    "\n",
    "Puis, nous utiliserons un algorithme métaheuristique, qui prendra en entrée la solution précédemment trouvée, et qui essayera de l'améliorer. Pour celui-ci, nous avons choisi l'algorithme métaheuristique du recuit simulé.\n",
    "\n",
    "Pendant nos recherches sur le sujet, nous sommes tombés sur une thèse qui introduit differents algorithmes permettant la résolution du voyageur de commerce.\n",
    "On y retrouve l'algorithme fourmis, l'algorithme génétique et l'algorithme du recuit simulé.\n",
    "Bien que les deux premiers soient intéréssant sur le principe, nous nous sommes concentrés sur le dernier.\n",
    "Un tableau est en annexe et affiche le temps de résolution du problème par chaque algorithme. La conclusion fut que l'algorithme de recuit simulé été le meilleur des trois ce qui a porté notre attention sur ce dernier.\n",
    "\n",
    "\n",
    "Nous avons donc approfondi nos recherches sur l'algorithme du recuit simulé d'après la thèse en annexe et ce que nous avons vue durant nos prosits. L'algorithme du recuit simulé nous a semblé facile au premier regarde mais nous avons vite remarqué que la configuration de cet algorithme serait un peu plus long que prévu du fait de ses nombreux paramêtres.\n",
    "\n",
    "Des études théoriques du recuit simulé ont pu montrer que sous certaines conditions, l'algorithme du recuit convergeait vers un optimum global. Cela veut donc dire que contrairement à d'autres algorithmes métaheuristiques, le recuit simulé peut trouver un état correspondant à la meilleure solution, si on le laisse chercher indéfiniment.\n",
    "\n",
    "\n",
    "Enfin pour prouver que la solution est vérifiable en temps polynomiale nous allons mettre en place un algorithme de certificat :\n",
    "\n",
    "   Mais avant cela qu'est-ce qu'un temps polynomiale ?\n",
    "\n",
    "Un temps polynomial peut être vu comme le temps minimum d’exécution d’un algorithme en fonction des données en\n",
    "entrée. Un algorithme est résolu en temps polynomial si, pour toutes constantes c et n indépendantes, avec n un entier\n",
    "présentant la taille des données en entrée, il s’exécute en moins de c.n<sup>k</sup> opérations élémentaires (et k est une constante indépendante des deux autres).\n",
    "\n",
    "Par la suite, dans notre situation de voyageur de commerce et dans les contraintes demandées, notre solution doit être vérifiable dans un temps polynomiale sur un jeu de données de plusieurs milliers de points. Nous allons donc apporter la preuve :\n",
    "\n",
    "\n",
    "## Section de daniel sur les algos de certificat et la reolution en temps polynomiale"
   ],
   "metadata": {
    "collapsed": false,
    "pycharm": {
     "name": "#%% md\n"
    }
   }
  },
  {
   "cell_type": "markdown",
   "source": [
    "## 3.Implémentation\n",
    "\n",
    "#### K-Nearest Neightbors Algorithm :\n",
    "\n",
    "L'algorithme naïf de recherche de voisinage consiste à passer sur l'ensemble des n points de A et à regarder si ce point est plus proche ou non qu'un des plus proches voisins déjà sélectionné, et si oui, l'insérer. On obtient alors un temps de calcul linéaire en la taille de A : O(n) (tant que k << n). Cette méthode est appelée la recherche séquentielle ou recherche linéaire.\n",
    "\n",
    "Le probleme est que la recherche linéaire souffre d'un problème de lenteur. Si l'ensemble A est grand, il est alors extrêmement coûteux de tester les n points de l'espace.\n",
    "\n",
    "##### Démonstration :"
   ],
   "metadata": {
    "collapsed": false,
    "pycharm": {
     "name": "#%% md\n"
    }
   }
  },
  {
   "cell_type": "code",
   "execution_count": null,
   "outputs": [],
   "source": [
    "import numpy as np\n",
    "import math\n",
    "import time\n",
    "import matplotlib.pyplot as plt\n",
    "\n",
    "resTime = []\n",
    "\n",
    "maxN= 100\n",
    "maxA= 10000\n",
    "\n",
    "def Pythagore(a, b):\n",
    "    vect = [b[0]-a[0], b[1]-a[1]]\n",
    "    return math.sqrt(vect[0]*vect[0]+vect[1]*vect[1])\n",
    "\n",
    "for i in range(3,maxN):\n",
    "    for e in range(maxA):\n",
    "        points = []\n",
    "        for k in range(i):\n",
    "            points.append(np.random.randint(0,100,2))\n",
    "        #if(i>3):\n",
    "            #print(points)\n",
    "        start = time.time_ns()\n",
    "        res = [points[0]]\n",
    "        dist = 0\n",
    "        last = points[0]\n",
    "        points.pop(0)\n",
    "        #if(i>3):\n",
    "            #print(points)\n",
    "        for k in range(i-1):\n",
    "            temp=[0,Pythagore(last, points[0])]\n",
    "            if(points.__len__()>1):\n",
    "                for l in range(1,i-1-k):\n",
    "                    #if(i>3):\n",
    "                        #print(points)\n",
    "                    #print(l)\n",
    "                    #print(points)\n",
    "                    foo = Pythagore(last, points[l])\n",
    "                    if(temp[1]>foo):\n",
    "                        temp[0]=l\n",
    "                        temp[1]=foo\n",
    "            dist += temp[1]\n",
    "            res.append(points[temp[0]])\n",
    "            last = points[temp[0]]\n",
    "            points.pop(temp[0])\n",
    "        resTime.append([dist,time.time_ns()-start])\n",
    "\n",
    "Moy = []\n",
    "for i in range(maxN-3):\n",
    "    sum=0\n",
    "    for e in range(maxA):\n",
    "        sum += resTime[i*maxA+e][1]\n",
    "    Moy.append(sum/maxA)\n",
    "\n",
    "plt.plot(range(3,maxN),Moy)\n",
    "plt.show()"
   ],
   "metadata": {
    "collapsed": false,
    "pycharm": {
     "name": "#%%\n"
    }
   }
  },
  {
   "cell_type": "markdown",
   "source": [
    "#### Recuit simulé :\n",
    "\n",
    "\" NEED DEFINITION DU RECUIT SIMULE \"\n",
    "\n",
    "##### Démonstration :\n",
    "\n"
   ],
   "metadata": {
    "collapsed": false,
    "pycharm": {
     "name": "#%% md\n"
    }
   }
  },
  {
   "cell_type": "code",
   "execution_count": null,
   "outputs": [],
   "source": [
    "import math\n",
    "import numpy as np\n",
    "import matplotlib.pyplot as plt"
   ],
   "metadata": {
    "collapsed": false,
    "pycharm": {
     "name": "#%%\n"
    }
   }
  },
  {
   "cell_type": "code",
   "execution_count": null,
   "outputs": [],
   "source": [
    "def Pythagore(a, b):\n",
    "    vect = [b[0]-a[0], b[1]-a[1]]\n",
    "    return math.sqrt(vect[0]*vect[0]+vect[1]*vect[1])\n",
    "\n",
    "def EnergieSum(Road, nbPoints):\n",
    "    energie = 0\n",
    "    for i in range(nbPoints-1):\n",
    "        energie += Pythagore(Road[i], Road[i+1])\n",
    "    energie += Pythagore(Road[0], Road[nbPoints-1])\n",
    "    return energie"
   ],
   "metadata": {
    "collapsed": false,
    "pycharm": {
     "name": "#%%\n"
    }
   }
  },
  {
   "cell_type": "code",
   "execution_count": null,
   "outputs": [],
   "source": [
    "def GeneratePoints(nbPoints, minX, maxX, minY,  maxY):\n",
    "    points = []\n",
    "    for _ in range(nbPoints):\n",
    "        point = [np.random.randint(minX, maxX), np.random.randint(minY, maxY)]\n",
    "        points.append(point)\n",
    "    return points\n",
    "\n",
    "def GeneratePointsInSquare(nbPoints, size):\n",
    "    return GeneratePoints(nbPoints, -size, size, -size, size)\n",
    "\n",
    "def plotMap(Road):\n",
    "    x = [i[0] for i in Road]\n",
    "    y = [i[1] for i in Road]\n",
    "    plt.plot(x, y, 'ro')\n",
    "    x.append(x[0])\n",
    "    y.append(y[0])\n",
    "    plt.plot(x, y)#.append(Road[0][0]) .append(Road[0][1])\n",
    "    #plt.plot(Road, 'ro', Road )\n",
    "    plt.show()\n"
   ],
   "metadata": {
    "collapsed": false,
    "pycharm": {
     "name": "#%%\n"
    }
   }
  },
  {
   "cell_type": "code",
   "execution_count": null,
   "outputs": [],
   "source": [
    "def ModificationElementaire(points, nbPoints):\n",
    "    rand1 = np.random.randint(0, nbPoints)\n",
    "    cond = True\n",
    "    while(cond):\n",
    "        rand2 = np.random.randint(0, nbPoints)\n",
    "        cond = rand1 == rand2\n",
    "    if rand1>rand2 :\n",
    "        rand1, rand2 = rand2, rand1\n",
    "    #print(rand1)\n",
    "    #print(rand2)\n",
    "    return points[:rand1]+points[rand2:rand2+1]+points[rand1+1:rand2]+points[rand1:rand1+1]+points[rand2+1:]\n",
    "\n",
    "def Recuit(points, nbPoints, energie, temperature, tempmin = 0.01, multipli = 0.99):\n",
    "    while(temperature>tempmin):\n",
    "        newP = ModificationElementaire(points, nbPoints)\n",
    "        newE = EnergieSum(newP, nbPoints)\n",
    "        if newE<energie or np.random.random() < math.exp(-(newE-energie)/temperature):\n",
    "            energie = newE\n",
    "            points = newP\n",
    "        temperature = temperature*multipli\n",
    "    return points, energie\n",
    "\n",
    "np.random.seed(2)\n",
    "\n",
    "\n",
    "nbPoints = 100\n",
    "points = GeneratePointsInSquare(nbPoints, 10000)\n",
    "\n",
    "energie = EnergieSum(points, nbPoints)\n",
    "print(energie)\n",
    "plotMap(points)\n",
    "\n",
    "points, energie = Recuit(points, nbPoints, energie, 200.0, 0.001, 0.999)\n",
    "print(energie)\n",
    "plotMap(points)"
   ],
   "metadata": {
    "collapsed": false,
    "pycharm": {
     "name": "#%%\n"
    }
   }
  },
  {
   "cell_type": "markdown",
   "metadata": {
    "collapsed": false,
    "pycharm": {
     "name": "#%% md\n"
    }
   },
   "source": [
    "#### Hill Climbing :\n",
    "\n",
    "\" NEED DEFINITION HILL CLIMBING \"\n",
    "\n",
    "##### Démonstration :"
   ]
  },
  {
   "cell_type": "code",
   "execution_count": null,
   "metadata": {
    "collapsed": false,
    "pycharm": {
     "name": "#%%\n"
    }
   },
   "outputs": [],
   "source": []
  },
  {
   "cell_type": "markdown",
   "metadata": {
    "collapsed": false,
    "pycharm": {
     "name": "#%% md\n"
    }
   },
   "source": [
    "## 4.Exploitation"
   ]
  },
  {
   "cell_type": "markdown",
   "metadata": {
    "collapsed": false,
    "pycharm": {
     "name": "#%% md\n"
    }
   },
   "source": [
    "## Conclusion"
   ]
  }
 ],
 "metadata": {
  "kernelspec": {
   "display_name": "Python 3",
   "language": "python",
   "name": "python3"
  },
  "language_info": {
   "codemirror_mode": {
    "name": "ipython",
    "version": 2
   },
   "file_extension": ".py",
   "mimetype": "text/x-python",
   "name": "python",
   "nbconvert_exporter": "python",
   "pygments_lexer": "ipython2",
   "version": "2.7.6"
  }
 },
 "nbformat": 4,
 "nbformat_minor": 0
}