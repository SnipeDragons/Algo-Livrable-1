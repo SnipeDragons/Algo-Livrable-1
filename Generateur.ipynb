{
 "cells": [
  {
   "cell_type": "code",
   "execution_count": 184,
   "metadata": {},
   "outputs": [],
   "source": [
    "def GeneratorCity(nb_city: int = 10, size_map: tuple = (100, 100), display: bool = False) -> list:\n",
    "    \"\"\"\n",
    "    Return a list of cities with random coordinates and their utility\n",
    "\n",
    "    Arguments:\n",
    "        nb_city: Number of cities\n",
    "        size_map: Area of the map in this format : (max_abscissa, max_ordinate)\n",
    "        display: Draw a diagram of the situation\n",
    "\n",
    "    Return:\n",
    "        An array of cities with the abscissa, ordinate and the use of each cities ;\n",
    "        0 means \"This city is not important\" ;\n",
    "        1 means \"This city must be delivered\" ;\n",
    "        2 means \"This city is the depository\" ;\n",
    "    \"\"\"\n",
    "    abscissa = random.sample(range(0, size_map[0]), nb_city)\n",
    "    ordinate = random.sample(range(0, size_map[1]), nb_city)\n",
    "    delivered = random.choices(population=[0, 1], k=nb_city)\n",
    "\n",
    "    delivered[random.randint(1, nb_city) - 1] = 2\n",
    "\n",
    "    if display:\n",
    "        fig, ax = plt.subplots()\n",
    "        \n",
    "\n",
    "        for i in range(nb_city):   \n",
    "            ax.scatter(abscissa[i],ordinate[i], c= \"red\" if delivered[i] == 0 else \"green\" if delivered[i] == 1 else \"blue\")\n",
    "            ax.annotate(str(i+1), (abscissa[i], ordinate[i]))\n",
    "\n",
    "    return [[abscissa[i],ordinate[i],delivered[i]] for i in range(nb_city)]\n"
   ]
  },
  {
   "cell_type": "code",
   "execution_count": 185,
   "metadata": {},
   "outputs": [],
   "source": [
    "def GeneratorGraph(cities: list, fluctuation: int = 10, fluctuation_weight: int = 10):\n",
    "    \"\"\"\n",
    "    Return the graph of the instance\n",
    "\n",
    "    Arguments:\n",
    "        cities: The coordinate from the city in this format : [max_abscissa, max_ordinate]\n",
    "        fluctuation: The rate of fluctuation of the cost of the arcs\n",
    "        fluctuation_weight: The fluctuation amplitude of the cost of the arcs\n",
    "\n",
    "    Return:\n",
    "        A matrix of size [nb_city, nb_city, 3]\n",
    "    \"\"\"\n",
    "\n",
    "    # Initialization of the graph matrix\n",
    "    generator = np.array([[(0, 0, 0)] * len(cities)] * len(cities))\n",
    "\n",
    "    # For each element of the graph\n",
    "    for i in range(len(cities)):\n",
    "        for j in range(len(cities)):\n",
    "            if i != j:\n",
    "                # Traffic randomization\n",
    "                arc_fluctuation = random.randrange(1, fluctuation)\n",
    "                # Randomization of the traffic amplitude\n",
    "                arc_fluctuation_weight = random.randrange(1, fluctuation_weight)\n",
    "                # \n",
    "                arc_min_cost = sqrt(pow(cities[i][0] - cities[j][0], 2) + pow(cities[i][1] - cities[j][1], 2))\n",
    "\n",
    "                generator[i][j] = (arc_fluctuation, arc_fluctuation_weight, arc_min_cost)\n",
    "\n",
    "    return generator\n"
   ]
  },
  {
   "cell_type": "code",
   "execution_count": 186,
   "metadata": {},
   "outputs": [],
   "source": [
    "def DisplayGeneratorGraph(graph: np.array([[()]])):\n",
    "    \"\"\"\n",
    "    Print the graph\n",
    "\n",
    "    Arguments:\n",
    "        graph: The graph\n",
    "    \"\"\"\n",
    "    \n",
    "    # For each line\n",
    "    for i in range(np.shape(graph)[0]):\n",
    "        # Begin with the check mark character\n",
    "        print(\"[\", end=\"\")\n",
    "\n",
    "        # For each column\n",
    "        for j in range(np.shape(graph)[1]- 1):\n",
    "            # Print the value and add a comma\n",
    "            print(graph[i][j], end=\", \")\n",
    "\n",
    "        # Print the last value of the line and close it\n",
    "        print(str(graph[i][j+1]) + \"],\")"
   ]
  },
  {
   "cell_type": "code",
   "execution_count": 188,
   "metadata": {},
   "outputs": [
    {
     "name": "stdout",
     "output_type": "stream",
     "text": [
      "[[0 0 0], [ 1  5 88], [ 8  7 42], [ 7  7 46], [ 8  3 18], [ 6  2 67], [ 1  3 60], [ 8  4 51], [ 5  7 44], [ 5  7 34]],\n",
      "[[ 9  7 88], [0 0 0], [ 6  9 59], [ 7  4 67], [ 6  1 74], [ 5  3 28], [ 6  9 27], [ 2  4 90], [ 5  5 68], [ 2  2 83]],\n",
      "[[ 8  8 42], [ 2  6 59], [0 0 0], [ 2  7 59], [ 3  1 24], [ 5  7 32], [ 7  2 37], [ 1  1 32], [ 7  6 10], [ 9  5 61]],\n",
      "[[ 9  4 46], [ 1  5 67], [ 1  2 59], [0 0 0], [ 2  9 48], [ 1  4 61], [ 7  5 44], [ 5  3 86], [ 1  6 68], [ 6  6 18]],\n",
      "[[ 3  7 18], [ 7  8 74], [ 9  7 24], [ 9  2 48], [0 0 0], [ 9  5 50], [ 7  4 47], [ 5  7 39], [ 5  9 27], [ 5  9 43]],\n",
      "[[ 6  1 67], [ 7  6 28], [ 1  7 32], [ 3  1 61], [ 6  8 50], [0 0 0], [ 6  6 17], [ 5  8 62], [ 1  1 40], [ 1  6 72]],\n",
      "[[ 5  8 60], [ 5  6 27], [ 3  6 37], [ 3  6 44], [ 6  5 47], [ 5  7 17], [0 0 0], [ 2  1 69], [ 3  5 47], [ 9  4 58]],\n",
      "[[ 5  4 51], [ 6  3 90], [ 7  2 32], [ 2  6 86], [ 6  4 39], [ 8  3 62], [ 2  6 69], [0 0 0], [ 4  8 22], [ 5  4 82]],\n",
      "[[ 2  1 44], [ 9  4 68], [ 6  3 10], [ 5  6 68], [ 2  6 27], [ 3  7 40], [ 5  9 47], [ 5  8 22], [0 0 0], [ 6  7 68]],\n",
      "[[ 5  7 34], [ 7  1 83], [ 7  3 61], [ 4  1 18], [ 8  9 43], [ 7  9 72], [ 4  1 58], [ 8  9 82], [ 5  9 68], [0 0 0]],\n"
     ]
    },
    {
     "data": {
      "image/png": "[encoded data removed]",
      "text/plain": [
       "<Figure size 432x288 with 1 Axes>"
      ]
     },
     "metadata": {
      "needs_background": "light"
     },
     "output_type": "display_data"
    }
   ],
   "source": [
    "import numpy as np\n",
    "import random\n",
    "import matplotlib.pyplot as plt\n",
    "from math import *\n",
    "\n",
    "# Generator settings\n",
    "Nb_Cities = 10\n",
    "Size_Map = (100, 100)\n",
    "Fluctuation = 10\n",
    "Fluctuation_Weight = 10\n",
    "Display = True\n",
    "\n",
    "# Seed of generation\n",
    "random.seed(a=3)\n",
    "\n",
    "# Generation of cities\n",
    "Cities = GeneratorCity(Nb_Cities, Size_Map, Display)\n",
    "\n",
    "# Generation of the graph\n",
    "DisplayGeneratorGraph(GeneratorGraph(Cities, Fluctuation, Fluctuation_Weight))\n"
   ]
  }
 ],
 "metadata": {
  "kernelspec": {
   "display_name": "Python 3.9.12 ('base')",
   "language": "python",
   "name": "python3"
  },
  "language_info": {
   "codemirror_mode": {
    "name": "ipython",
    "version": 3
   },
   "file_extension": ".py",
   "mimetype": "text/x-python",
   "name": "python",
   "nbconvert_exporter": "python",
   "pygments_lexer": "ipython3",
   "version": "3.9.12"
  },
  "orig_nbformat": 4,
  "vscode": {
   "interpreter": {
    "hash": "ad2bdc8ecc057115af97d19610ffacc2b4e99fae6737bb82f5d7fb13d2f2c186"
   }
  }
 },
 "nbformat": 4,
 "nbformat_minor": 2
}
