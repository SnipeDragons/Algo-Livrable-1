{
 "cells": [
  {
   "cell_type": "code",
   "execution_count": 190,
   "metadata": {},
   "outputs": [],
   "source": [
    "def GeneratorCity(nb_city: int = 10, size_map: tuple = (100, 100), display: bool = False) -> list:\n",
    "    \"\"\"\n",
    "    Return a list of cities with random coordinates and their utility\n",
    "\n",
    "    Arguments:\n",
    "        nb_city: Number of cities\n",
    "        size_map: Area of the map in this format : (max_abscissa, max_ordinate)\n",
    "        display: Draw a diagram of the situation\n",
    "\n",
    "    Return:\n",
    "        An array of cities with the abscissa, ordinate and the use of each cities ;\n",
    "        0 means \"This city is not important\" ;\n",
    "        1 means \"This city must be delivered\" ;\n",
    "        2 means \"This city is the depository\" ;\n",
    "    \"\"\"\n",
    "    abscissa = random.sample(range(0, size_map[0]), nb_city)\n",
    "    ordinate = random.sample(range(0, size_map[1]), nb_city)\n",
    "    delivered = random.choices(population=[0, 1], k=nb_city)\n",
    "\n",
    "    delivered[random.randint(1, nb_city) - 1] = 2\n",
    "\n",
    "    if display:\n",
    "        fig, ax = plt.subplots()\n",
    "        \n",
    "\n",
    "        for i in range(nb_city):   \n",
    "            ax.scatter(abscissa[i],ordinate[i], c= \"red\" if delivered[i] == 0 else \"green\" if delivered[i] == 1 else \"blue\")\n",
    "            ax.annotate(str(i+1), (abscissa[i], ordinate[i]))\n",
    "\n",
    "    return [[abscissa[i],ordinate[i],delivered[i]] for i in range(nb_city)]\n"
   ]
  },
  {
   "cell_type": "code",
   "execution_count": 191,
   "metadata": {},
   "outputs": [],
   "source": [
    "def GeneratorGraph(cities: list, fluctuation: int = 10, fluctuation_weight: int = 10):\n",
    "    \"\"\"\n",
    "    Return the graph of the instance\n",
    "\n",
    "    Arguments:\n",
    "        cities: The coordinate from the city in this format : [max_abscissa, max_ordinate]\n",
    "        fluctuation: The rate of fluctuation of the cost of the arcs\n",
    "        fluctuation_weight: The fluctuation amplitude of the cost of the arcs\n",
    "\n",
    "    Return:\n",
    "        A matrix of size [nb_city, nb_city, 3]\n",
    "    \"\"\"\n",
    "\n",
    "    # Initialization of the graph matrix\n",
    "    generator = np.array([[(0, 0, 0)] * len(cities)] * len(cities))\n",
    "\n",
    "    # For each element of the graph\n",
    "    for i in range(len(cities)):\n",
    "        for j in range(len(cities)):\n",
    "            if i != j:\n",
    "                # Traffic randomization\n",
    "                arc_fluctuation = random.randrange(1, fluctuation)\n",
    "                # Randomization of the traffic amplitude\n",
    "                arc_fluctuation_weight = random.randrange(1, fluctuation_weight)\n",
    "                # \n",
    "                arc_min_cost = sqrt(pow(cities[i][0] - cities[j][0], 2) + pow(cities[i][1] - cities[j][1], 2))\n",
    "\n",
    "                generator[i][j] = (arc_fluctuation, arc_fluctuation_weight, arc_min_cost)\n",
    "\n",
    "    return generator\n"
   ]
  },
  {
   "cell_type": "code",
   "execution_count": 192,
   "metadata": {},
   "outputs": [],
   "source": [
    "def DisplayGeneratorGraph(graph: np.array([[()]])):\n",
    "    \"\"\"\n",
    "    Print the graph\n",
    "\n",
    "    Arguments:\n",
    "        graph: The graph\n",
    "    \"\"\"\n",
    "    \n",
    "    # For each line\n",
    "    for i in range(np.shape(graph)[0]):\n",
    "        # Begin with the check mark character\n",
    "        print(\"[\", end=\"\")\n",
    "\n",
    "        # For each column\n",
    "        for j in range(np.shape(graph)[1]- 1):\n",
    "            # Print the value and add a comma\n",
    "            print(graph[i][j], end=\", \")\n",
    "\n",
    "        # Print the last value of the line and close it\n",
    "        print(str(graph[i][j+1]) + \"],\")"
   ]
  },
  {
   "cell_type": "code",
   "execution_count": 193,
   "metadata": {},
   "outputs": [
    {
     "ename": "AttributeError",
     "evalue": "'NoneType' object has no attribute 'legendHandles'",
     "output_type": "error",
     "traceback": [
      "\u001b[1;31m---------------------------------------------------------------------------\u001b[0m",
      "\u001b[1;31mAttributeError\u001b[0m                            Traceback (most recent call last)",
      "\u001b[1;32mc:\\Users\\super\\Documents\\Travail\\11- Algo complexe\\Projet visual 2\\Algo-Livrable-1\\Generateur.ipynb Cell 4'\u001b[0m in \u001b[0;36m<cell line: 17>\u001b[1;34m()\u001b[0m\n\u001b[0;32m     <a href='vscode-notebook-cell:/c%3A/Users/super/Documents/Travail/11-%20Algo%20complexe/Projet%20visual%202/Algo-Livrable-1/Generateur.ipynb#ch0000004?line=13'>14</a>\u001b[0m random\u001b[39m.\u001b[39mseed(a\u001b[39m=\u001b[39m\u001b[39m3\u001b[39m)\n\u001b[0;32m     <a href='vscode-notebook-cell:/c%3A/Users/super/Documents/Travail/11-%20Algo%20complexe/Projet%20visual%202/Algo-Livrable-1/Generateur.ipynb#ch0000004?line=15'>16</a>\u001b[0m \u001b[39m# Generation of cities\u001b[39;00m\n\u001b[1;32m---> <a href='vscode-notebook-cell:/c%3A/Users/super/Documents/Travail/11-%20Algo%20complexe/Projet%20visual%202/Algo-Livrable-1/Generateur.ipynb#ch0000004?line=16'>17</a>\u001b[0m Cities \u001b[39m=\u001b[39m GeneratorCity(Nb_Cities, Size_Map, Display)\n\u001b[0;32m     <a href='vscode-notebook-cell:/c%3A/Users/super/Documents/Travail/11-%20Algo%20complexe/Projet%20visual%202/Algo-Livrable-1/Generateur.ipynb#ch0000004?line=18'>19</a>\u001b[0m \u001b[39m# Generation of the graph\u001b[39;00m\n\u001b[0;32m     <a href='vscode-notebook-cell:/c%3A/Users/super/Documents/Travail/11-%20Algo%20complexe/Projet%20visual%202/Algo-Livrable-1/Generateur.ipynb#ch0000004?line=19'>20</a>\u001b[0m DisplayGeneratorGraph(GeneratorGraph(Cities, Fluctuation, Fluctuation_Weight))\n",
      "\u001b[1;32mc:\\Users\\super\\Documents\\Travail\\11- Algo complexe\\Projet visual 2\\Algo-Livrable-1\\Generateur.ipynb Cell 1'\u001b[0m in \u001b[0;36mGeneratorCity\u001b[1;34m(nb_city, size_map, display)\u001b[0m\n\u001b[0;32m     <a href='vscode-notebook-cell:/c%3A/Users/super/Documents/Travail/11-%20Algo%20complexe/Projet%20visual%202/Algo-Livrable-1/Generateur.ipynb#ch0000002?line=27'>28</a>\u001b[0m         ax\u001b[39m.\u001b[39mannotate(\u001b[39mstr\u001b[39m(i\u001b[39m+\u001b[39m\u001b[39m1\u001b[39m), (abscissa[i], ordinate[i]))\n\u001b[0;32m     <a href='vscode-notebook-cell:/c%3A/Users/super/Documents/Travail/11-%20Algo%20complexe/Projet%20visual%202/Algo-Livrable-1/Generateur.ipynb#ch0000002?line=29'>30</a>\u001b[0m     leg \u001b[39m=\u001b[39m ax\u001b[39m.\u001b[39mget_legend()\n\u001b[1;32m---> <a href='vscode-notebook-cell:/c%3A/Users/super/Documents/Travail/11-%20Algo%20complexe/Projet%20visual%202/Algo-Livrable-1/Generateur.ipynb#ch0000002?line=30'>31</a>\u001b[0m     leg\u001b[39m.\u001b[39;49mlegendHandles[\u001b[39m0\u001b[39m]\u001b[39m.\u001b[39mset_color(\u001b[39m'\u001b[39m\u001b[39mred\u001b[39m\u001b[39m'\u001b[39m)\n\u001b[0;32m     <a href='vscode-notebook-cell:/c%3A/Users/super/Documents/Travail/11-%20Algo%20complexe/Projet%20visual%202/Algo-Livrable-1/Generateur.ipynb#ch0000002?line=32'>33</a>\u001b[0m \u001b[39mreturn\u001b[39;00m [[abscissa[i],ordinate[i],delivered[i]] \u001b[39mfor\u001b[39;00m i \u001b[39min\u001b[39;00m \u001b[39mrange\u001b[39m(nb_city)]\n",
      "\u001b[1;31mAttributeError\u001b[0m: 'NoneType' object has no attribute 'legendHandles'"
     ]
    },
    {
     "data": {
      "image/png": "[encoded data removed]",
      "text/plain": [
       "<Figure size 432x288 with 1 Axes>"
      ]
     },
     "metadata": {
      "needs_background": "light"
     },
     "output_type": "display_data"
    }
   ],
   "source": [
    "import numpy as np\n",
    "import random\n",
    "import matplotlib.pyplot as plt\n",
    "from math import *\n",
    "\n",
    "# Generator settings\n",
    "Nb_Cities = 10\n",
    "Size_Map = (100, 100)\n",
    "Fluctuation = 10\n",
    "Fluctuation_Weight = 10\n",
    "Display = True\n",
    "\n",
    "# Seed of generation\n",
    "random.seed(a=3)\n",
    "\n",
    "# Generation of cities\n",
    "Cities = GeneratorCity(Nb_Cities, Size_Map, Display)\n",
    "\n",
    "# Generation of the graph\n",
    "DisplayGeneratorGraph(GeneratorGraph(Cities, Fluctuation, Fluctuation_Weight))\n"
   ]
  }
 ],
 "metadata": {
  "kernelspec": {
   "display_name": "Python 3.9.12 ('base')",
   "language": "python",
   "name": "python3"
  },
  "language_info": {
   "codemirror_mode": {
    "name": "ipython",
    "version": 3
   },
   "file_extension": ".py",
   "mimetype": "text/x-python",
   "name": "python",
   "nbconvert_exporter": "python",
   "pygments_lexer": "ipython3",
   "version": "3.9.12"
  },
  "orig_nbformat": 4,
  "vscode": {
   "interpreter": {
    "hash": "ad2bdc8ecc057115af97d19610ffacc2b4e99fae6737bb82f5d7fb13d2f2c186"
   }
  }
 },
 "nbformat": 4,
 "nbformat_minor": 2
}
