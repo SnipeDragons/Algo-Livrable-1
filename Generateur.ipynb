{
 "cells": [
  {
   "cell_type": "code",
   "execution_count": 20,
   "metadata": {},
   "outputs": [
    {
     "name": "stdout",
     "output_type": "stream",
     "text": [
      "MultiGraph with 10 nodes and 27 edges\n",
      "[0, 0, 0, 0, 0, 0, 0, 0, 0, 0]\n",
      "[0, 0, 0, 0, 0, 0, 0, 0, 0, 0]\n",
      "[0, 0, 0, 0, 0, 0, 0, 0, 0, 0]\n",
      "[0, 0, 0, 0, 0, 0, 0, 0, 0, 0]\n",
      "[0, 0, 0, 0, 0, 0, 0, 0, 0, 0]\n",
      "[0, 0, 0, 0, 0, 0, 0, 0, 0, 0]\n",
      "[0, 0, 0, 0, 0, 0, 0, 0, 0, 0]\n",
      "[0, 0, 0, 0, 0, 0, 0, 0, 0, 0]\n",
      "[0, 0, 0, 0, 0, 0, 0, 0, 0, 0]\n",
      "[0, 0, 0, 0, 0, 0, 0, 0, 0, 0]\n"
     ]
    }
   ],
   "source": [
    "import numpy as np\n",
    "import random\n",
    "\n",
    "size = 10\n",
    "variation = 100\n",
    "\n",
    "generateur = [[(0,0,0)]*size]*size\n",
    "\n",
    "adj_mat = np.random.randint(2, size=(10, 10))\n",
    "\n",
    "\n",
    "#[np.random.randint(low=0, high=variation, size=3)\n",
    "\n",
    "for gene in generateur:\n",
    "    print(gene)\n",
    "\n",
    "\n",
    "def Generation_ville(nb_ville: int, taille: int):\n",
    "    abscisses = random.sample(range(0,taille), nb_ville)\n",
    "    ordonnees = random.sample(range(0,taille), nb_ville)\n",
    "    for ville in range(nb_ville):\n",
    "        yield zip(abscisses,ordonnees)\n",
    "\n",
    "\n",
    "for ville in Generation_ville(20, 200):\n",
    "    print(ville)\n",
    "#import random\n",
    "#import numpy as np\n",
    "#import matplotlib.pyplot as plt\n",
    "\n",
    "#nb_ville = 20\n",
    "#points = []\n",
    "\n",
    "#abscisses = random.sample(range(0,200), nb_ville)\n",
    "#ordonnees = random.sample(range(0,200), nb_ville)\n",
    "#points += [(a,b) for a,b in zip(abscisses,ordonnees)]\n",
    "\n",
    "#np.array(abscisses)\n",
    "#np.array(ordonnees)\n",
    "#plt.scatter(abscisses,ordonnees, c=\"red\")\n",
    "#plt.show()\n",
    "\n",
    "#print(points)"
   ]
  }
 ],
 "metadata": {
  "kernelspec": {
   "display_name": "Python 3.9.12 ('base')",
   "language": "python",
   "name": "python3"
  },
  "language_info": {
   "codemirror_mode": {
    "name": "ipython",
    "version": 3
   },
   "file_extension": ".py",
   "mimetype": "text/x-python",
   "name": "python",
   "nbconvert_exporter": "python",
   "pygments_lexer": "ipython3",
   "version": "3.9.12"
  },
  "orig_nbformat": 4,
  "vscode": {
   "interpreter": {
    "hash": "ad2bdc8ecc057115af97d19610ffacc2b4e99fae6737bb82f5d7fb13d2f2c186"
   }
  }
 },
 "nbformat": 4,
 "nbformat_minor": 2
}
