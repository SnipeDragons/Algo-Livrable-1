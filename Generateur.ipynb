{
 "cells": [
  {
   "cell_type": "code",
   "execution_count": 25,
   "metadata": {},
   "outputs": [],
   "source": [
    "def GeneratorCity(nb_city: int = 10, size_map: tuple = (100, 100)) -> list:\n",
    "    \"\"\"\n",
    "    Return a list of cities with random coordinates and their utility\n",
    "\n",
    "    Arguments:\n",
    "        nb_city: Number of cities\n",
    "        size_map: Area of the map in this format : (max_abscissa, max_ordinate)\n",
    "        display: Draw a diagram of the situation\n",
    "\n",
    "    Return:\n",
    "        An array of cities with the abscissa, ordinate and the use of each cities ;\n",
    "        0 means \"This city is not important\" ;\n",
    "        1 means \"This city must be delivered\" ;\n",
    "        2 means \"This city is the depository\" ;\n",
    "    \"\"\"\n",
    "\n",
    "    # Randomization of points\n",
    "    abscissa = random.sample(range(0, size_map[0]), nb_city)\n",
    "    ordinate = random.sample(range(0, size_map[1]), nb_city)\n",
    "\n",
    "    # Return the list of coordinate\n",
    "    return [[abscissa[i],ordinate[i]] for i in range(nb_city)]\n"
   ]
  },
  {
   "cell_type": "code",
   "execution_count": 26,
   "metadata": {},
   "outputs": [],
   "source": [
    "def DefinitionCity(cities: list, no_delivered: bool = True) -> list:\n",
    "    \"\"\"\n",
    "    Defines the type of cities\n",
    "\n",
    "    Arguments:\n",
    "        cities: The cities\n",
    "        no_delivered: Removal of undelivered cities\n",
    "\n",
    "    Return:\n",
    "        The list of cities\n",
    "    \"\"\"\n",
    "\n",
    "    # Define the kind of city\n",
    "    delivered = random.choices(population=[0, 1], k=len(cities))\n",
    "\n",
    "    # Define a repository\n",
    "    delivered[random.randint(1, len(cities)) - 1] = 2\n",
    "\n",
    "    # Return the list of city\n",
    "    return [[cities[i][0],cities[i][1],delivered[i]] for i in range(len(cities)) if delivered[i] != 0 and no_delivered]"
   ]
  },
  {
   "cell_type": "code",
   "execution_count": 27,
   "metadata": {},
   "outputs": [],
   "source": [
    "def GeneratorGraph(cities: list, fluctuation: int = 10, fluctuation_weight: int = 10):\n",
    "    \"\"\"\n",
    "    Return the graph of the instance\n",
    "\n",
    "    Arguments:\n",
    "        cities: The coordinate from the city in this format : [max_abscissa, max_ordinate]\n",
    "        fluctuation: The rate of fluctuation of the cost of the arcs\n",
    "        fluctuation_weight: The fluctuation amplitude of the cost of the arcs\n",
    "\n",
    "    Return:\n",
    "        A matrix of size [nb_city, nb_city, 3]\n",
    "    \"\"\"\n",
    "\n",
    "    # Initialization of the graph matrix\n",
    "    generator = np.array([[(0, 0, 0)] * len(cities)] * len(cities))\n",
    "\n",
    "    # For each element of the graph\n",
    "    for i in range(len(cities)):\n",
    "        for j in range(len(cities)):\n",
    "            if i != j:\n",
    "                # Traffic randomization\n",
    "                arc_fluctuation = random.randrange(1, fluctuation)\n",
    "                # Calculation of the distance between two points\n",
    "                arc_min_cost = sqrt(pow(cities[i][0] - cities[j][0], 2) + pow(cities[i][1] - cities[j][1], 2))\n",
    "                # Randomization of the traffic amplitude\n",
    "                arc_fluctuation_weight = random.randrange(1, fluctuation_weight) * arc_min_cost\n",
    "                \n",
    "                # Completion of the matrix\n",
    "                generator[i][j] = (arc_fluctuation, arc_fluctuation_weight, arc_min_cost)\n",
    "\n",
    "    # Return the matrix\n",
    "    return generator\n"
   ]
  },
  {
   "cell_type": "code",
   "execution_count": 28,
   "metadata": {},
   "outputs": [],
   "source": [
    "def DisplayGeneratorGraph(graph: np.array([[()]])):\n",
    "    \"\"\"\n",
    "    Print the graph\n",
    "\n",
    "    Arguments:\n",
    "        graph: The graph\n",
    "    \"\"\"\n",
    "    \n",
    "    # For each line\n",
    "    for i in range(np.shape(graph)[0]):\n",
    "        # Begin with the check mark character\n",
    "        print(\"[\", end=\"\")\n",
    "\n",
    "        # For each column\n",
    "        for j in range(np.shape(graph)[1]- 1):\n",
    "            # Print the value and add a comma\n",
    "            print(graph[i][j], end=\", \")\n",
    "\n",
    "        # Print the last value of the line and close it\n",
    "        print(str(graph[i][j+1]) + \"],\")"
   ]
  },
  {
   "cell_type": "code",
   "execution_count": 29,
   "metadata": {},
   "outputs": [],
   "source": [
    "def DisplayFigure(cities: list):\n",
    "    \"\"\"\n",
    "    Display a figure with the cities\n",
    "\n",
    "    Arguements:\n",
    "        cities: The cities\n",
    "    \"\"\"\n",
    "\n",
    "    # Initiate the figure\n",
    "    fig, ax = plt.subplots()\n",
    "    \n",
    "    # Get each cities and display them\n",
    "    for i in range(len(cities)):   \n",
    "        ax.scatter(cities[i][0], cities[i][1], c= \"red\" if cities[i][2] == 0 else \"green\" if cities[i][2] == 1 else \"blue\")\n",
    "        ax.annotate(str(i+1), (cities[i][0], cities[i][1]))"
   ]
  },
  {
   "cell_type": "code",
   "execution_count": 30,
   "metadata": {},
   "outputs": [
    {
     "name": "stdout",
     "output_type": "stream",
     "text": [
      "[[0 0 0], [  1 212  42], [  8 323  46], [  7 128  18], [  8 201  67], [  6 121  60], [  1 134  44], [  8 139  34]],\n",
      "[[  5 297  42], [0 0 0], [  5 416  59], [  9 169  24], [  6 288  32], [  7 148  37], [ 6 10 10], [  5 185  61]],\n",
      "[[  6 415  46], [  2 237  59], [0 0 0], [  5 241  48], [  2 122  61], [  8 359  44], [  2 409  68], [  2 131  18]],\n",
      "[[ 3 18 18], [  5 169  24], [ 7 96 48], [0 0 0], [ 1 50 50], [  7 286  47], [  9 135  27], [  9 175  43]],\n",
      "[[  1 335  67], [ 1 64 32], [  2 550  61], [  1 203  50], [0 0 0], [ 7 88 17], [  5 120  40], [  1 432  72]],\n",
      "[[  6 365  60], [  3 259  37], [  7 359  44], [  9 334  47], [ 9 35 17], [0 0 0], [  9 235  47], [  7 232  58]],\n",
      "[[  5 313  44], [ 5 92 10], [  5 614  68], [ 6 27 27], [  7 240  40], [  1 329  47], [0 0 0], [ 3 68 68]],\n",
      "[[  6 278  34], [  6 370  61], [  5 150  18], [ 1 43 43], [  1 432  72], [  5 465  58], [  5 412  68], [0 0 0]],\n"
     ]
    },
    {
     "data": {
      "image/png": "[encoded data removed]",
      "text/plain": [
       "<Figure size 432x288 with 1 Axes>"
      ]
     },
     "metadata": {
      "needs_background": "light"
     },
     "output_type": "display_data"
    }
   ],
   "source": [
    "import numpy as np\n",
    "import random\n",
    "import matplotlib.pyplot as plt\n",
    "from math import *\n",
    "\n",
    "# Generator settings\n",
    "Nb_Cities = 10\n",
    "Size_Map = (100, 100)\n",
    "Fluctuation = 10\n",
    "Fluctuation_Weight = 10\n",
    "\n",
    "# Seed of generation\n",
    "random.seed(a=3)\n",
    "\n",
    "# Generation of cities\n",
    "Cities = DefinitionCity(GeneratorCity(Nb_Cities, Size_Map))\n",
    "\n",
    "DisplayFigure(Cities)\n",
    "\n",
    "# Generation of the graph\n",
    "Graph = GeneratorGraph(Cities, Fluctuation, Fluctuation_Weight)\n",
    "DisplayGeneratorGraph(Graph)\n",
    "\n",
    "#Nb_Cities = 2000\n",
    "#Size_Map = (2000, 2000)\n",
    "#Fluctuation = 10\n",
    "#Fluctuation_Weight = 10\n",
    "\n",
    "# Pire génération\n",
    "#for i in range(nb_iteration):\n",
    "#   Cities = DefinitionCity(GeneratorCity(Nb_Cities, Size_Map))\n",
    "#   Graphe = GeneratorGraph(Cities, Fluctuation, Fluctuation_Weight)\n",
    "\n",
    "\n",
    "# Meilleure génération\n",
    "#Cities = GeneratorCity(Nb_Cities, Size_Map)\n",
    "#Graphe = GeneratorGraph(Cities, Fluctuation, Fluctuation_Weight)\n",
    "#for i in range(nb_iteration):\n",
    "#   Cities = DefinitionCity(Cities)\n",
    "    \n",
    "    "
   ]
  },
  {
   "cell_type": "code",
   "execution_count": 31,
   "metadata": {},
   "outputs": [
    {
     "name": "stdout",
     "output_type": "stream",
     "text": [
      "265.27172034032003\n"
     ]
    }
   ],
   "source": [
    "def CalculArc(graph: np.array([[()]]), time: float, arc: tuple) -> float:\n",
    "    \"\"\"\n",
    "    Calculates the time needed to use an arc at a given time\n",
    "\n",
    "    Arguments:\n",
    "        graph: The graph\n",
    "        time: The moment the arc is use\n",
    "        arc: A tuple with (start node, end node)\n",
    "    \n",
    "    Return:\n",
    "        The time used\n",
    "    \"\"\"\n",
    "\n",
    "    # Recovering data from the arc\n",
    "    a = graph[arc[0]-1][arc[1]-1][0]\n",
    "    c = graph[arc[0]-1][arc[1]-1][1]\n",
    "    d = graph[arc[0]-1][arc[1]-1][2]\n",
    "\n",
    "    # Only if a fluctuation is present\n",
    "    if a != 0 and c != 0:\n",
    "        # Calculation of the interval of the function\n",
    "        intervalle = 2*sqrt(c)/sqrt(a)\n",
    "        # Time transposition on the function\n",
    "        time = time % intervalle\n",
    "        # Calculation of the cost of the arc\n",
    "        return -1 * a * pow(time - sqrt(c)/sqrt(a), 2) + c + d\n",
    "    \n",
    "    else:\n",
    "        # Return the minimum cost\n",
    "        return d\n",
    "\n",
    "\n",
    "print(CalculArc(Graph, 10000, (2, 1)))"
   ]
  },
  {
   "cell_type": "code",
   "execution_count": 32,
   "metadata": {},
   "outputs": [
    {
     "data": {
      "text/plain": [
       "1584.9005437166068"
      ]
     },
     "execution_count": 32,
     "metadata": {},
     "output_type": "execute_result"
    }
   ],
   "source": [
    "def EnergieSum(graph: np.array([[()]])) -> float:\n",
    "    \"\"\"\n",
    "    Calculation of the energies of the graph\n",
    "\n",
    "    Arguments:\n",
    "        graph: The graph\n",
    "\n",
    "    Return:\n",
    "        The energie of the graph\n",
    "    \n",
    "    \"\"\"\n",
    "    # Energy initialization\n",
    "    energie = 0\n",
    "\n",
    "    # For each point of the graph\n",
    "    for i in range(1, np.shape(graph)[0]):\n",
    "        # Add the energy of the path\n",
    "        energie += CalculArc(graph, energie, (i, i+1))\n",
    "\n",
    "    # Adds an arc to complete a cycle\n",
    "    energie += CalculArc(graph, energie, (i+1, 1))\n",
    "    \n",
    "    return energie\n",
    "\n",
    "EnergieSum(Graph)"
   ]
  }
 ],
 "metadata": {
  "kernelspec": {
   "display_name": "Python 3.9.12 ('base')",
   "language": "python",
   "name": "python3"
  },
  "language_info": {
   "codemirror_mode": {
    "name": "ipython",
    "version": 3
   },
   "file_extension": ".py",
   "mimetype": "text/x-python",
   "name": "python",
   "nbconvert_exporter": "python",
   "pygments_lexer": "ipython3",
   "version": "3.9.12"
  },
  "orig_nbformat": 4,
  "vscode": {
   "interpreter": {
    "hash": "ad2bdc8ecc057115af97d19610ffacc2b4e99fae6737bb82f5d7fb13d2f2c186"
   }
  }
 },
 "nbformat": 4,
 "nbformat_minor": 2
}
