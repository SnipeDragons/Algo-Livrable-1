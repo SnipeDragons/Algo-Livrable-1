{
 "cells": [
  {
   "cell_type": "code",
   "execution_count": 1,
   "metadata": {},
   "outputs": [],
   "source": [
    "import numpy as np\n",
    "import random\n",
    "import matplotlib.pyplot as plt\n",
    "from math import *"
   ]
  },
  {
   "cell_type": "code",
   "execution_count": 2,
   "metadata": {},
   "outputs": [],
   "source": [
    "def GeneratorCity(nb_city: int = 10, size_map: tuple = (100, 100)) -> list:\n",
    "    \"\"\"\n",
    "    Return a list of cities with random coordinates and their utility\n",
    "\n",
    "    Arguments:\n",
    "        nb_city: Number of cities\n",
    "        size_map: Area of the map in this format : (max_abscissa, max_ordinate)\n",
    "        display: Draw a diagram of the situation\n",
    "\n",
    "    Return:\n",
    "        An array of cities with the abscissa, ordinate and the use of each cities ;\n",
    "        0 means \"This city is not important\" ;\n",
    "        1 means \"This city must be delivered\" ;\n",
    "        2 means \"This city is the depository\" ;\n",
    "    \"\"\"\n",
    "\n",
    "    # Randomization of points\n",
    "    abscissa = random.sample(range(0, size_map[0]), nb_city)\n",
    "    ordinate = random.sample(range(0, size_map[1]), nb_city)\n",
    "\n",
    "    # Return the list of coordinate\n",
    "    return [[abscissa[i],ordinate[i]] for i in range(nb_city)]\n"
   ]
  },
  {
   "cell_type": "code",
   "execution_count": 3,
   "metadata": {},
   "outputs": [],
   "source": [
    "def DefinitionCity(cities: list) -> list:\n",
    "    \"\"\"\n",
    "    Defines the type of cities\n",
    "\n",
    "    Arguments:\n",
    "        cities: The cities\n",
    "        no_delivered: Removal of undelivered cities\n",
    "\n",
    "    Return:\n",
    "        The list of cities\n",
    "    \"\"\"\n",
    "\n",
    "    # Define the kind of city\n",
    "    delivered = random.choices(population=[0, 1], k=len(cities))\n",
    "\n",
    "    # Define a repository\n",
    "    delivered[random.randint(1, len(cities)) - 1] = 2\n",
    "\n",
    "    # Return the list of city\n",
    "    return [[cities[i][0],cities[i][1],delivered[i]] for i in range(len(cities))]"
   ]
  },
  {
   "cell_type": "code",
   "execution_count": 4,
   "metadata": {},
   "outputs": [],
   "source": [
    "def GeneratorGraph(cities: list, fluctuation: int = 10, fluctuation_weight: int = 10):\n",
    "    \"\"\"\n",
    "    Return the graph of the instance\n",
    "\n",
    "    Arguments:\n",
    "        cities: The coordinate from the city in this format : [max_abscissa, max_ordinate]\n",
    "        fluctuation: The rate of fluctuation of the cost of the arcs\n",
    "        fluctuation_weight: The fluctuation amplitude of the cost of the arcs\n",
    "\n",
    "    Return:\n",
    "        A matrix of size [nb_city, nb_city, 3]\n",
    "    \"\"\"\n",
    "\n",
    "    # Initialization of the graph matrix\n",
    "    generator = np.array([[(0, 0, 0)] * len(cities)] * len(cities))\n",
    "\n",
    "    # For each element of the graph\n",
    "    for i in range(len(cities)):\n",
    "        for j in range(len(cities)):\n",
    "            if i != j:\n",
    "                # Traffic randomization\n",
    "                arc_fluctuation = random.randrange(1, fluctuation)\n",
    "                # Calculation of the distance between two points\n",
    "                arc_min_cost = sqrt(pow(cities[i][0] - cities[j][0], 2) + pow(cities[i][1] - cities[j][1], 2))\n",
    "                # Randomization of the traffic amplitude\n",
    "                arc_fluctuation_weight = random.randrange(1, fluctuation_weight) * arc_min_cost\n",
    "                \n",
    "                # Completion of the matrix\n",
    "                generator[i][j] = (arc_fluctuation, arc_fluctuation_weight, arc_min_cost)\n",
    "\n",
    "    # Return the matrix\n",
    "    return generator\n"
   ]
  },
  {
   "cell_type": "code",
   "execution_count": 5,
   "metadata": {},
   "outputs": [],
   "source": [
    "def DisplayGeneratorGraph(graph: np.array([[()]])):\n",
    "    \"\"\"\n",
    "    Print the graph\n",
    "\n",
    "    Arguments:\n",
    "        graph: The graph\n",
    "    \"\"\"\n",
    "    \n",
    "    # For each line\n",
    "    for i in range(np.shape(graph)[0]):\n",
    "        # Begin with the check mark character\n",
    "        print(\"[\", end=\"\")\n",
    "\n",
    "        # For each column\n",
    "        for j in range(np.shape(graph)[1]- 1):\n",
    "            # Print the value and add a comma\n",
    "            print(graph[i][j], end=\", \")\n",
    "\n",
    "        # Print the last value of the line and close it\n",
    "        print(str(graph[i][j+1]) + \"],\")"
   ]
  },
  {
   "cell_type": "code",
   "execution_count": 6,
   "metadata": {},
   "outputs": [],
   "source": [
    "def DisplayFigure(cities: list):\n",
    "    \"\"\"\n",
    "    Display a figure with the cities\n",
    "\n",
    "    Arguements:\n",
    "        cities: The cities\n",
    "    \"\"\"\n",
    "\n",
    "    # Initiate the figure\n",
    "    fig, ax = plt.subplots()\n",
    "    \n",
    "    # Get each cities and display them\n",
    "    for i in range(len(cities)):   \n",
    "        ax.scatter(cities[i][0], cities[i][1], c= \"red\" if cities[i][2] == 0 else \"blue\" if cities[i][2] == 1 else \"green\")\n",
    "        ax.annotate(str(i+1), (cities[i][0], cities[i][1]))"
   ]
  },
  {
   "cell_type": "code",
   "execution_count": 7,
   "metadata": {},
   "outputs": [
    {
     "name": "stdout",
     "output_type": "stream",
     "text": [
      "[[0 0 0], [  1 441  88], [  8 297  42], [  7 323  46], [ 8 55 18], [  6 134  67], [  1 182  60], [  8 207  51], [  5 313  44], [  5 243  34]],\n",
      "[[  9 618  88], [0 0 0], [  6 533  59], [  7 268  67], [ 6 74 74], [ 5 84 28], [  6 247  27], [  2 360  90], [  5 340  68], [  2 166  83]],\n",
      "[[  8 340  42], [  2 355  59], [0 0 0], [  2 416  59], [ 3 24 24], [  5 224  32], [ 7 74 37], [ 1 32 32], [ 7 61 10], [  9 309  61]],\n",
      "[[  9 184  46], [  1 335  67], [  1 118  59], [0 0 0], [  2 434  48], [  1 244  61], [  7 224  44], [  5 259  86], [  1 409  68], [  6 112  18]],\n",
      "[[  3 128  18], [  7 595  74], [  9 169  24], [ 9 96 48], [0 0 0], [  9 254  50], [  7 191  47], [  5 273  39], [  5 243  27], [  5 394  43]],\n",
      "[[ 6 67 67], [  7 168  28], [  1 224  32], [ 3 61 61], [  6 406  50], [0 0 0], [  6 106  17], [  5 496  62], [ 1 40 40], [  1 432  72]],\n",
      "[[  5 487  60], [  5 164  27], [  3 222  37], [  3 269  44], [  6 239  47], [  5 124  17], [0 0 0], [ 2 69 69], [  3 235  47], [  9 232  58]],\n",
      "[[  5 207  51], [  6 270  90], [ 7 65 32], [  2 518  86], [  6 156  39], [  8 186  62], [  2 419  69], [0 0 0], [  4 182  22], [  5 331  82]],\n",
      "[[ 2 44 44], [  9 272  68], [ 6 30 10], [  5 409  68], [  2 162  27], [  3 280  40], [  5 424  47], [  5 182  22], [0 0 0], [  6 480  68]],\n",
      "[[  5 243  34], [ 7 83 83], [  7 185  61], [ 4 18 18], [  8 394  43], [  7 649  72], [ 4 58 58], [  8 745  82], [  5 618  68], [0 0 0]],\n"
     ]
    },
    {
     "data": {
      "image/png": "[encoded data removed]",
      "text/plain": [
       "<Figure size 432x288 with 1 Axes>"
      ]
     },
     "metadata": {
      "needs_background": "light"
     },
     "output_type": "display_data"
    }
   ],
   "source": [
    "# Generator settings\n",
    "Nb_Cities = 10\n",
    "Size_Map = (100, 100)\n",
    "Fluctuation = 10\n",
    "Fluctuation_Weight = 10\n",
    "\n",
    "# Seed of generation\n",
    "random.seed(a=3)\n",
    "\n",
    "# Generation of cities\n",
    "Cities = DefinitionCity(GeneratorCity(Nb_Cities, Size_Map))\n",
    "\n",
    "DisplayFigure(Cities)\n",
    "\n",
    "# Generation of the graph\n",
    "Graph = GeneratorGraph(Cities, Fluctuation, Fluctuation_Weight)\n",
    "DisplayGeneratorGraph(Graph)\n",
    "\n",
    "#Nb_Cities = 2000\n",
    "#Size_Map = (2000, 2000)\n",
    "#Fluctuation = 10\n",
    "#Fluctuation_Weight = 10\n",
    "\n",
    "# Pire génération\n",
    "#for i in range(nb_iteration):\n",
    "#   Cities = DefinitionCity(GeneratorCity(Nb_Cities, Size_Map))\n",
    "#   Graphe = GeneratorGraph(Cities, Fluctuation, Fluctuation_Weight)\n",
    "\n",
    "\n",
    "# Meilleure génération\n",
    "#Cities = GeneratorCity(Nb_Cities, Size_Map)\n",
    "#Graphe = GeneratorGraph(Cities, Fluctuation, Fluctuation_Weight)\n",
    "#for i in range(nb_iteration):\n",
    "#   Cities = DefinitionCity(Cities)\n",
    "    \n",
    "    "
   ]
  },
  {
   "cell_type": "code",
   "execution_count": 8,
   "metadata": {},
   "outputs": [],
   "source": [
    "def CalculArc(graph: np.array([[()]]), time: float, arc: tuple) -> float:\n",
    "    \"\"\"\n",
    "    Calculates the time needed to use an arc at a given time\n",
    "\n",
    "    Arguments:\n",
    "        graph: The graph\n",
    "        time: The moment the arc is use\n",
    "        arc: A tuple with (start node, end node)\n",
    "    \n",
    "    Return:\n",
    "        The time used\n",
    "    \"\"\"\n",
    "\n",
    "    # Recovering data from the arc\n",
    "    a = graph[arc[0]-1][arc[1]-1][0]\n",
    "    c = graph[arc[0]-1][arc[1]-1][1]\n",
    "    d = graph[arc[0]-1][arc[1]-1][2]\n",
    "\n",
    "    # Only if a fluctuation is present\n",
    "    if a != 0 and c != 0:\n",
    "        # Calculation of the interval of the function\n",
    "        intervalle = 2*sqrt(c)/sqrt(a)\n",
    "        # Time transposition on the function\n",
    "        time = time % intervalle\n",
    "        # Calculation of the cost of the arc\n",
    "        return -1 * a * pow(time - sqrt(c)/sqrt(a), 2) + c + d\n",
    "    \n",
    "    else:\n",
    "        # Return the minimum cost\n",
    "        return d"
   ]
  }
 ],
 "metadata": {
  "kernelspec": {
   "display_name": "Python 3.9.12 ('base')",
   "language": "python",
   "name": "python3"
  },
  "language_info": {
   "codemirror_mode": {
    "name": "ipython",
    "version": 3
   },
   "file_extension": ".py",
   "mimetype": "text/x-python",
   "name": "python",
   "nbconvert_exporter": "python",
   "pygments_lexer": "ipython3",
   "version": "3.9.12"
  },
  "orig_nbformat": 4,
  "vscode": {
   "interpreter": {
    "hash": "ad2bdc8ecc057115af97d19610ffacc2b4e99fae6737bb82f5d7fb13d2f2c186"
   }
  }
 },
 "nbformat": 4,
 "nbformat_minor": 2
}
