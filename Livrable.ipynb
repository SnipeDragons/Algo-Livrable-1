{
 "cells": [
  {
   "cell_type": "markdown",
   "metadata": {
    "pycharm": {
     "name": "#%% md\n"
    }
   },
   "source": [
    "# Livrable 1"
   ]
  },
  {
   "cell_type": "markdown",
   "metadata": {
    "pycharm": {
     "name": "#%% md\n"
    }
   },
   "source": [
    "## Table des matières\n",
    "- [Introduction](#introduction)\n",
    "1. [Contraintes](#1-contraintes)\n",
    "1. [Modélisation](#2-modélisation)\n",
    "1. [Implémentation](#3-implémentation)\n",
    "1. [Exploitation](#4-exploitation)\n",
    "- [Conclusion](#conclusion)"
   ]
  },
  {
   "cell_type": "markdown",
   "metadata": {
    "collapsed": false,
    "pycharm": {
     "name": "#%% md\n"
    }
   },
   "source": [
    "## Introduction\n",
    "\n",
    "L'ADEME (Agence de l'Environnement et de la Maîtrise de l'Energie) a récemment lancé un appel à manifestation d'intérêt pour promouvoir la réalisation de démonstrations et d'expérimentations de nouvelles solutions de mobilité pour les personnes et les marchandises adaptées à différents types de territoires.<br><br>\n",
    "Notre équipe fait partie de la structure CesiCDP déjà implantée dans le domaine et nous avons été mobilisé pour répondre à cet appel.\n",
    "CesiCDP souhaite que l'on oriente l'étude sur la gestion de tournées de livraison. Le problème algorithmique consiste a calculer, sur un réseau routier quelconque, une tournée permettant de relier entre elles un sous-ensemble de villes avec pour but de revenir au point de départ en un minimum de temps.\n",
    "Une méthode algorithme permettrant de répondre a ce problème est attendu.\n",
    "Il est aussi demandé d'ajouter des contraintes supplémentaires afin de rendre le model plus réaliste possible."
   ]
  },
  {
   "cell_type": "markdown",
   "metadata": {
    "collapsed": false,
    "pycharm": {
     "name": "#%% md\n"
    }
   },
   "source": [
    "## 1. Contraintes\n",
    "\n",
    "Afin de répondre à l’appel d’offre de l’ADEME, nous avons donc dû identifier les contraintes que nous voulions traiter de notre algorithme.\n",
    "\n",
    "Notre solution doit :\n",
    "- Réaliser un cycle permettant de passer par toutes les villes souhaitées,\n",
    "- Prendre en compte le temps nécessaire pour le trajet entre deux villes.\n",
    "\n",
    "De plus, nous avons opté pour ajouter une contrainte supplémentaire :\n",
    "- Le temps de parcours d’une arête varie au cours du temps.\n",
    "Cette contrainte nous a paru pertinente car le temps nécessaire au transit n’est généralement pas le même en fonction de la densité de circulation qui varie en fonction du temps."
   ]
  },
  {
   "cell_type": "markdown",
   "metadata": {
    "collapsed": false,
    "pycharm": {
     "name": "#%% md\n"
    }
   },
   "source": [
    "## 2. Définitions des Problèmes\n",
    "\n",
    "Dans un premier temps, le probleme peut être reformulé sous la forme d'un graph complet composé de l'ensemble de sommets U. L'objectif final étant de relier tous les sommets de ce graph en revenant au point de départ sur la distance la plus courte possible. Cela correspond a l'appellation d'un cycle hamiltonien. Notre objectif est donc de modéliser le cycle hamiltonien ayant la plus courte distance totale et donc le temps d'execution le plus court.\n",
    "\n",
    "La recherche d'un cycle hamiltonien n'étant pas un probleme ayant une solution de réponse en respectant le temps polynomiale, la recherche du chemin le plus court dans notre cas est donc qualifié de complexité NP-complet. Comme nous souhaitons avoir le meilleur chemin possible, il est necessaire de tester toutes les solutions possible. Notre probleme devient donc un algorithme de type NP-Difficile.\n",
    "\n",
    "Afin de trouver une solution, nous devons prendre en compte tous les chemins possibles. Cependant, le nombre de chemin disponible est égal a n! (N factoriel). La complexité de cette solution est donc de O(n!), lors de recherches nous avons trouvé une solution permettant de transformer une compléxité O(n!) en O(e<sup>n</sup>).\n",
    "\n",
    "Dans le but d'avoir un temps de calcul abordable nous avons choisi la solution de faire un algorithme de type heuristique."
   ]
  },
  {
   "cell_type": "markdown",
   "metadata": {
    "collapsed": false,
    "pycharm": {
     "name": "#%% md\n"
    }
   },
   "source": [
    "## 3. Modélisation\n",
    "\n",
    "Le problème que l'on nous demande de traiter dans ce projet repose sur un problème plus largement étudier qui est celui du voyageur de commerce. Ce problème est un sujet bien connu en algorithmique du fait de sa complexité initial et du nombre de sous problèmes qu'il soulève. Pour le résoudre nous avons choisis de suivre les études faites sur le sujet et donc d'utiliser des algorithme Heuristiques et Métaheuristiques.\n",
    "\n",
    "Nous avons donc selectionné 3 algorithmes pour nous aider à resoudre notre problèmatique général. Chacun d’eux a ses avantages et ses inconvénients.\n",
    "Il faudra donc retenir qu'on ne retiendra pas la même solution dans la mesure où l’on va privilégié le temps de calcul, la qualité de la solution, ou encore le choix des solutions.\n",
    "\n",
    "On peut commencé par cité le premier algorithme que nous allons utilisé qui fait partie de la famille des algorithmes gloutons. Il s'agit d'une famille d'algorithme qui font le choix de l'optimum local pour chaque étapes d'un problème. Celui que nous avons retenu est l’algorithme du plus proche voisin. Il nous permettra de récupérer une solution valide, mais pas optimale.\n",
    "\n",
    "L'algorithme du plus proche voisin se base, comme son nom l'indique, sur la selection de la ville la plus proche de la position actuelle. Le principe est que la prochaine ville est sélectionnée tel que le poids de l'arrete entre la ville actuelle et la prochaine ville soit le plus petit possible (distance minimal). L'opération sera répété jusqu'à avoir visité toutes les villes et etre revenu a la ville de départ du cycle.\n",
    "\n",
    "Nous porterons donc notre choix sur la mise en place d'une combinaison d'algorithmes pour résoudre notre problème.\n",
    "\n",
    "Puis, nous utiliserons un algorithme métaheuristique, qui prendra en entrée la solution précédemment trouvée, et qui essayera de l'améliorer. Pour celui-ci, nous avons choisi l'algorithme métaheuristique du recuit simulé.\n",
    "\n",
    "Pendant nos recherches sur le sujet nous sommes tombés sur une thèse qui introduit differents algorithmes permettent la resolution du voyageur de commerce.\n",
    "On y retrouve l'algo fourmis, l'algo génétique et l'algo du recuit simulé. \n",
    "Bien que les deux premiers soit intéréssant sur le principe nous nous sommes concentrés sur le dernier.\n",
    "Un tableau été également en annexe affichant le temps de résolution du problème par chaque algorithme. La conclusion fut que l'algorithme de recuit simulé été le meilleur des trois ce qui a porté notre attention sur ce dernier.\n",
    "\n",
    "\n",
    "Nous avons donc approfondis nos recherches sur l'algorithme du recuit simulé d'après la thèse en annexe et ce que nous avons vue durant nos prosits, l'algorithme du recuit simulé nous a semblé facile au prmier regarde mais nous avons vite remarqué que la configuration de cet algorithme allait etre un peu plus long que prévu du fait de ses nombreux parametres.\n",
    "\n",
    "Des études théoriques du recuit simulé ont pu montrer que sous certaines conditions, l'algorithme du recuit convergeait vers un optimum global. Cela veut donc dire que contrairement à d'autres algorithmes métaheuristiques, le recuit simulé peut trouver un état correspondant à la meilleure solution, si on le laisse chercher indéfiniment.\n",
    "\n",
    "\n",
    "Enfin pour prouver que la solution est vérifiable en temps polynomiale nous allons mettre en place un algorithme de certificat :\n",
    "\n",
    "   Mais avant cela qu'est-ce qu'un temps polynomiale ?\n",
    "\n",
    "Un temps polynomial peut être vu comme le temps minimum d’exécution d’un algorithme en fonction des données en\n",
    "entrée. Un algorithme est résolu en temps polynomial si, pour toutes constantes c et n indépendantes, avec n un entier\n",
    "présentant la taille des données en entrée, il s’exécute en moins de c.n<sup>k</sup> opérations élémentaires (et k est une constante indépendante des deux autres).\n",
    "\n",
    "Par la suite, dans notre situation de voyageur de commerce et dans les contraintes demandées, notre solution doit être vérifiable dans un temps polynomiale sur un jeu de données de plusieurs milliers de points. Nous allons donc apporter la preuve :\n"
   ]
  },
  {
   "cell_type": "code",
   "execution_count": 1,
   "metadata": {
    "collapsed": false,
    "pycharm": {
     "name": "#%%\n"
    }
   },
   "outputs": [],
   "source": [
    "import numpy as np\n",
    "\n",
    "size = (10, 10)\n",
    "\n",
    "adj_mat = np.random.randint(2, size=size)\n"
   ]
  },
  {
   "cell_type": "markdown",
   "metadata": {
    "collapsed": false,
    "pycharm": {
     "name": "#%% md\n"
    }
   },
   "source": [
    "Dans un premier temps, nous avons généré une matrice d'adjacence. Cette matrice est un échantillon de 10x10 afin d'avoir un temps de demonstration raisonnable.\n",
    "\n",
    "Dans un second temps, l'objectif est d'afficher cette matrice sous forme de graph :"
   ]
  },
  {
   "cell_type": "code",
   "execution_count": 2,
   "metadata": {
    "collapsed": false,
    "pycharm": {
     "name": "#%%\n"
    }
   },
   "outputs": [
    {
     "data": {
      "image/svg+xml": "<svg xmlns=\"http://www.w3.org/2000/svg\" xmlns:xlink=\"http://www.w3.org/1999/xlink\" width=\"429pt\" height=\"260pt\" viewBox=\"0.00 0.00 429.00 260.00\">\n<g id=\"graph0\" class=\"graph\" transform=\"scale(1 1) rotate(0) translate(4 256)\">\n<polygon fill=\"white\" stroke=\"transparent\" points=\"-4,4 -4,-256 425,-256 425,4 -4,4\"/>\n<!-- 0 -->\n<g id=\"node1\" class=\"node\">\n<title>0</title>\n<ellipse fill=\"none\" stroke=\"black\" cx=\"99\" cy=\"-234\" rx=\"27\" ry=\"18\"/>\n<text text-anchor=\"middle\" x=\"99\" y=\"-230.3\" font-family=\"Times New Roman,serif\" font-size=\"14.00\">0</text>\n</g>\n<!-- 0&#45;&#45;0 -->\n<g id=\"edge1\" class=\"edge\">\n<title>0--0</title>\n<path fill=\"none\" stroke=\"black\" d=\"M118.9,-246.43C131.69,-249.68 144,-245.53 144,-234 144,-222.47 131.69,-218.32 118.9,-221.57\"/>\n</g>\n<!-- 1 -->\n<g id=\"node2\" class=\"node\">\n<title>1</title>\n<ellipse fill=\"none\" stroke=\"black\" cx=\"27\" cy=\"-162\" rx=\"27\" ry=\"18\"/>\n<text text-anchor=\"middle\" x=\"27\" y=\"-158.3\" font-family=\"Times New Roman,serif\" font-size=\"14.00\">1</text>\n</g>\n<!-- 0&#45;&#45;1 -->\n<g id=\"edge2\" class=\"edge\">\n<title>0--1</title>\n<path fill=\"none\" stroke=\"black\" d=\"M84.43,-218.83C72.02,-206.77 54.27,-189.51 41.8,-177.38\"/>\n</g>\n<!-- 3 -->\n<g id=\"node3\" class=\"node\">\n<title>3</title>\n<ellipse fill=\"none\" stroke=\"black\" cx=\"99\" cy=\"-162\" rx=\"27\" ry=\"18\"/>\n<text text-anchor=\"middle\" x=\"99\" y=\"-158.3\" font-family=\"Times New Roman,serif\" font-size=\"14.00\">3</text>\n</g>\n<!-- 0&#45;&#45;3 -->\n<g id=\"edge3\" class=\"edge\">\n<title>0--3</title>\n<path fill=\"none\" stroke=\"black\" d=\"M99,-215.7C99,-204.85 99,-190.92 99,-180.1\"/>\n</g>\n<!-- 7 -->\n<g id=\"node4\" class=\"node\">\n<title>7</title>\n<ellipse fill=\"none\" stroke=\"black\" cx=\"222\" cy=\"-90\" rx=\"27\" ry=\"18\"/>\n<text text-anchor=\"middle\" x=\"222\" y=\"-86.3\" font-family=\"Times New Roman,serif\" font-size=\"14.00\">7</text>\n</g>\n<!-- 0&#45;&#45;7 -->\n<g id=\"edge4\" class=\"edge\">\n<title>0--7</title>\n<path fill=\"none\" stroke=\"black\" d=\"M111.93,-218.07C135.49,-190.87 185.17,-133.52 208.87,-106.16\"/>\n</g>\n<!-- 1&#45;&#45;7 -->\n<g id=\"edge5\" class=\"edge\">\n<title>1--7</title>\n<path fill=\"none\" stroke=\"black\" d=\"M48.13,-150.51C52.97,-148.25 58.12,-145.96 63,-144 109.86,-125.21 166.23,-107.54 197.7,-98.11\"/>\n</g>\n<!-- 9 -->\n<g id=\"node5\" class=\"node\">\n<title>9</title>\n<ellipse fill=\"none\" stroke=\"black\" cx=\"188\" cy=\"-18\" rx=\"27\" ry=\"18\"/>\n<text text-anchor=\"middle\" x=\"188\" y=\"-14.3\" font-family=\"Times New Roman,serif\" font-size=\"14.00\">9</text>\n</g>\n<!-- 1&#45;&#45;9 -->\n<g id=\"edge6\" class=\"edge\">\n<title>1--9</title>\n<path fill=\"none\" stroke=\"black\" d=\"M42.73,-147.13C73.59,-119.91 141.72,-59.81 172.44,-32.72\"/>\n</g>\n<!-- 7&#45;&#45;9 -->\n<g id=\"edge22\" class=\"edge\">\n<title>7--9</title>\n<path fill=\"none\" stroke=\"black\" d=\"M214.11,-72.76C208.7,-61.62 201.53,-46.87 196.08,-35.63\"/>\n</g>\n<!-- 8 -->\n<g id=\"node10\" class=\"node\">\n<title>8</title>\n<ellipse fill=\"none\" stroke=\"black\" cx=\"317\" cy=\"-18\" rx=\"27\" ry=\"18\"/>\n<text text-anchor=\"middle\" x=\"317\" y=\"-14.3\" font-family=\"Times New Roman,serif\" font-size=\"14.00\">8</text>\n</g>\n<!-- 7&#45;&#45;8 -->\n<g id=\"edge21\" class=\"edge\">\n<title>7--8</title>\n<path fill=\"none\" stroke=\"black\" d=\"M239.42,-76.16C256.46,-63.61 282.26,-44.6 299.36,-31.99\"/>\n</g>\n<!-- 2 -->\n<g id=\"node6\" class=\"node\">\n<title>2</title>\n<ellipse fill=\"none\" stroke=\"black\" cx=\"376\" cy=\"-234\" rx=\"27\" ry=\"18\"/>\n<text text-anchor=\"middle\" x=\"376\" y=\"-230.3\" font-family=\"Times New Roman,serif\" font-size=\"14.00\">2</text>\n</g>\n<!-- 2&#45;&#45;2 -->\n<g id=\"edge7\" class=\"edge\">\n<title>2--2</title>\n<path fill=\"none\" stroke=\"black\" d=\"M395.9,-246.43C408.69,-249.68 421,-245.53 421,-234 421,-222.47 408.69,-218.32 395.9,-221.57\"/>\n</g>\n<!-- 5 -->\n<g id=\"node7\" class=\"node\">\n<title>5</title>\n<ellipse fill=\"none\" stroke=\"black\" cx=\"285\" cy=\"-162\" rx=\"27\" ry=\"18\"/>\n<text text-anchor=\"middle\" x=\"285\" y=\"-158.3\" font-family=\"Times New Roman,serif\" font-size=\"14.00\">5</text>\n</g>\n<!-- 2&#45;&#45;5 -->\n<g id=\"edge8\" class=\"edge\">\n<title>2--5</title>\n<path fill=\"none\" stroke=\"black\" d=\"M358.88,-219.83C342.61,-207.32 318.28,-188.6 302.04,-176.11\"/>\n</g>\n<!-- 6 -->\n<g id=\"node8\" class=\"node\">\n<title>6</title>\n<ellipse fill=\"none\" stroke=\"black\" cx=\"317\" cy=\"-90\" rx=\"27\" ry=\"18\"/>\n<text text-anchor=\"middle\" x=\"317\" y=\"-86.3\" font-family=\"Times New Roman,serif\" font-size=\"14.00\">6</text>\n</g>\n<!-- 2&#45;&#45;6 -->\n<g id=\"edge9\" class=\"edge\">\n<title>2--6</title>\n<path fill=\"none\" stroke=\"black\" d=\"M369.12,-216.43C357.75,-189.07 335.18,-134.75 323.84,-107.46\"/>\n</g>\n<!-- 5&#45;&#45;7 -->\n<g id=\"edge17\" class=\"edge\">\n<title>5--7</title>\n<path fill=\"none\" stroke=\"black\" d=\"M271.64,-146.15C260.95,-134.28 246.03,-117.7 235.34,-105.82\"/>\n</g>\n<!-- 5&#45;&#45;6 -->\n<g id=\"edge16\" class=\"edge\">\n<title>5--6</title>\n<path fill=\"none\" stroke=\"black\" d=\"M292.58,-144.41C297.68,-133.25 304.38,-118.6 309.47,-107.47\"/>\n</g>\n<!-- 6&#45;&#45;9 -->\n<g id=\"edge20\" class=\"edge\">\n<title>6--9</title>\n<path fill=\"none\" stroke=\"black\" d=\"M296.56,-77.91C272.4,-64.8 232.46,-43.12 208.34,-30.04\"/>\n</g>\n<!-- 6&#45;&#45;6 -->\n<g id=\"edge18\" class=\"edge\">\n<title>6--6</title>\n<path fill=\"none\" stroke=\"black\" d=\"M336.9,-102.43C349.69,-105.68 362,-101.53 362,-90 362,-78.47 349.69,-74.32 336.9,-77.57\"/>\n</g>\n<!-- 6&#45;&#45;8 -->\n<g id=\"edge19\" class=\"edge\">\n<title>6--8</title>\n<path fill=\"none\" stroke=\"black\" d=\"M317,-71.7C317,-60.85 317,-46.92 317,-36.1\"/>\n</g>\n<!-- 4 -->\n<g id=\"node9\" class=\"node\">\n<title>4</title>\n<ellipse fill=\"none\" stroke=\"black\" cx=\"285\" cy=\"-234\" rx=\"27\" ry=\"18\"/>\n<text text-anchor=\"middle\" x=\"285\" y=\"-230.3\" font-family=\"Times New Roman,serif\" font-size=\"14.00\">4</text>\n</g>\n<!-- 4&#45;&#45;7 -->\n<g id=\"edge13\" class=\"edge\">\n<title>4--7</title>\n<path fill=\"none\" stroke=\"black\" d=\"M272.64,-217.53C264.99,-207.34 255.42,-193.45 249,-180 237.59,-156.11 229.72,-126.3 225.53,-107.96\"/>\n</g>\n<!-- 4&#45;&#45;9 -->\n<g id=\"edge15\" class=\"edge\">\n<title>4--9</title>\n<path fill=\"none\" stroke=\"black\" d=\"M268.04,-219.5C243.58,-198.71 199.81,-156.16 186,-108 179.05,-83.78 181.76,-54.32 184.65,-36.12\"/>\n</g>\n<!-- 4&#45;&#45;5 -->\n<g id=\"edge11\" class=\"edge\">\n<title>4--5</title>\n<path fill=\"none\" stroke=\"black\" d=\"M285,-215.7C285,-204.85 285,-190.92 285,-180.1\"/>\n</g>\n<!-- 4&#45;&#45;6 -->\n<g id=\"edge12\" class=\"edge\">\n<title>4--6</title>\n<path fill=\"none\" stroke=\"black\" d=\"M298.75,-218.07C306.96,-208.1 316.62,-194.25 321,-180 328.46,-155.75 324.72,-126.05 321.07,-107.83\"/>\n</g>\n<!-- 4&#45;&#45;4 -->\n<g id=\"edge10\" class=\"edge\">\n<title>4--4</title>\n<path fill=\"none\" stroke=\"black\" d=\"M304.9,-246.43C317.69,-249.68 330,-245.53 330,-234 330,-222.47 317.69,-218.32 304.9,-221.57\"/>\n</g>\n<!-- 4&#45;&#45;8 -->\n<g id=\"edge14\" class=\"edge\">\n<title>4--8</title>\n<path fill=\"none\" stroke=\"black\" d=\"M301,-219.34C312.1,-209.27 326.68,-194.81 337,-180 357.23,-150.96 363.26,-142.53 371,-108 374.5,-92.39 377.19,-86.75 371,-72 363.83,-54.92 348.18,-40.58 335.56,-31.14\"/>\n</g>\n<!-- 8&#45;&#45;8 -->\n<g id=\"edge23\" class=\"edge\">\n<title>8--8</title>\n<path fill=\"none\" stroke=\"black\" d=\"M336.9,-30.43C349.69,-33.68 362,-29.53 362,-18 362,-6.47 349.69,-2.32 336.9,-5.57\"/>\n</g>\n</g>\n</svg>",
      "text/plain": [
       "<IPython.core.display.SVG object>"
      ]
     },
     "metadata": {},
     "output_type": "display_data"
    }
   ],
   "source": [
    "import networkx as nx\n",
    "from IPython.display import SVG, display\n",
    "\n",
    "graph = nx.from_numpy_array(adj_mat, parallel_edges=True, create_using=nx.MultiGraph)\n",
    "\n",
    "agraph = nx.nx_agraph.to_agraph(graph)\n",
    "tmp_path = \"tmp_graph.svg\"\n",
    "agraph.draw(tmp_path, prog=\"dot\")\n",
    "display(SVG(tmp_path))\n"
   ]
  },
  {
   "cell_type": "markdown",
   "metadata": {
    "collapsed": false,
    "pycharm": {
     "name": "#%% md\n"
    }
   },
   "source": []
  },
  {
   "cell_type": "markdown",
   "metadata": {
    "collapsed": false,
    "pycharm": {
     "name": "#%% md\n"
    }
   },
   "source": [
    "Ici, nous avons réussi la génération du graph, maintenant il nous faut l'algorithme permettant de resoudre ce probleme de manière simple :"
   ]
  },
  {
   "cell_type": "code",
   "execution_count": 3,
   "metadata": {
    "collapsed": false,
    "pycharm": {
     "name": "#%%\n"
    }
   },
   "outputs": [
    {
     "name": "stdout",
     "output_type": "stream",
     "text": [
      "[7, 4, 8, 6, 2, 5, 7, 1, 0, 3]\n"
     ]
    }
   ],
   "source": [
    "path = nx.approximation.traveling_salesman_problem(graph,nodes=list(range(0, 9)), cycle=False)\n",
    "\n",
    "print(path)"
   ]
  },
  {
   "cell_type": "markdown",
   "metadata": {
    "collapsed": false,
    "pycharm": {
     "name": "#%% md\n"
    }
   },
   "source": [
    "Ici, nous avons la solution la plus optimisé sans aucune contrainte pour la demonstration. Maintenant, nous allons executer un algorithme de certificat qui prouve que la solution est correcte :"
   ]
  },
  {
   "cell_type": "code",
   "execution_count": 4,
   "metadata": {
    "collapsed": false,
    "pycharm": {
     "name": "#%%\n"
    }
   },
   "outputs": [],
   "source": [
    " #Ici algo de certificat avec temps de vérification"
   ]
  },
  {
   "cell_type": "code",
   "execution_count": 5,
   "metadata": {
    "collapsed": false,
    "pycharm": {
     "name": "#%%\n"
    }
   },
   "outputs": [],
   "source": [
    "#Ici demontration de la reduction polynomiale"
   ]
  },
  {
   "cell_type": "markdown",
   "metadata": {
    "pycharm": {
     "name": "#%% md\n"
    }
   },
   "source": [
    "En cherchant et en ce concertant quand aux meilleurs solutions pour repondre à ce problème nous sommes tombé sur 3 algorithmes qui semblait repondre aux besoins du projet :\n",
    "\n",
    "- K-Nearest Neighbors Algorithm\n",
    "- Greedy Algorithms\n",
    "- Tabu search\n",
    "\n",
    "\n",
    "\n",
    "#### K-Nearest Neightbors Algorithm :\n",
    "\n",
    "L'algorithme naïf de recherche de voisinage consiste à passer sur l'ensemble des n points de A et à regarder si ce point est plus proche ou non qu'un des plus proches voisins déjà sélectionné, et si oui, l'insérer. On obtient alors un temps de calcul linéaire en la taille de A : O(n) (tant que k << n). Cette méthode est appelée la recherche séquentielle ou recherche linéaire.\n",
    "\n",
    "Le probleme est que la recherche linéaire souffre d'un problème de lenteur. Si l'ensemble A est grand, il est alors extrêmement coûteux de tester les n points de l'espace."
   ]
  },
  {
   "cell_type": "code",
   "execution_count": 6,
   "metadata": {
    "pycharm": {
     "name": "#%%\n"
    }
   },
   "outputs": [
    {
     "ename": "KeyboardInterrupt",
     "evalue": "",
     "output_type": "error",
     "traceback": [
      "\u001b[1;31m---------------------------------------------------------------------------\u001b[0m",
      "\u001b[1;31mKeyboardInterrupt\u001b[0m                         Traceback (most recent call last)",
      "Input \u001b[1;32mIn [6]\u001b[0m, in \u001b[0;36m<cell line: 15>\u001b[1;34m()\u001b[0m\n\u001b[0;32m     17\u001b[0m points \u001b[38;5;241m=\u001b[39m []\n\u001b[0;32m     18\u001b[0m \u001b[38;5;28;01mfor\u001b[39;00m k \u001b[38;5;129;01min\u001b[39;00m \u001b[38;5;28mrange\u001b[39m(i):\n\u001b[1;32m---> 19\u001b[0m     points\u001b[38;5;241m.\u001b[39mappend(\u001b[43mnp\u001b[49m\u001b[38;5;241;43m.\u001b[39;49m\u001b[43mrandom\u001b[49m\u001b[38;5;241;43m.\u001b[39;49m\u001b[43mrandint\u001b[49m\u001b[43m(\u001b[49m\u001b[38;5;241;43m0\u001b[39;49m\u001b[43m,\u001b[49m\u001b[38;5;241;43m100\u001b[39;49m\u001b[43m,\u001b[49m\u001b[38;5;241;43m2\u001b[39;49m\u001b[43m)\u001b[49m)\n\u001b[0;32m     20\u001b[0m \u001b[38;5;66;03m#if(i>3):\u001b[39;00m\n\u001b[0;32m     21\u001b[0m     \u001b[38;5;66;03m#print(points)\u001b[39;00m\n\u001b[0;32m     22\u001b[0m start \u001b[38;5;241m=\u001b[39m time\u001b[38;5;241m.\u001b[39mtime_ns()\n",
      "\u001b[1;31mKeyboardInterrupt\u001b[0m: "
     ]
    }
   ],
   "source": [
    "import numpy as np\n",
    "import math\n",
    "import time\n",
    "import matplotlib.pyplot as plt\n",
    "\n",
    "resTime = []\n",
    "\n",
    "maxN= 100\n",
    "maxA= 10000\n",
    "\n",
    "def Pythagore(a, b):\n",
    "    vect = [b[0]-a[0], b[1]-a[1]]\n",
    "    return math.sqrt(vect[0]*vect[0]+vect[1]*vect[1])\n",
    "\n",
    "for i in range(3,maxN):\n",
    "    for e in range(maxA):\n",
    "        points = []\n",
    "        for k in range(i):\n",
    "            points.append(np.random.randint(0,100,2))\n",
    "        #if(i>3):\n",
    "            #print(points)\n",
    "        start = time.time_ns()\n",
    "        res = [points[0]]\n",
    "        dist = 0\n",
    "        last = points[0]\n",
    "        points.pop(0)\n",
    "        #if(i>3):\n",
    "            #print(points)\n",
    "        for k in range(i-1):\n",
    "            temp=[0,Pythagore(last, points[0])]\n",
    "            if(points.__len__()>1):\n",
    "                for l in range(1,i-1-k):\n",
    "                    #if(i>3):\n",
    "                        #print(points)\n",
    "                    #print(l)\n",
    "                    #print(points)\n",
    "                    foo = Pythagore(last, points[l])\n",
    "                    if(temp[1]>foo):\n",
    "                        temp[0]=l\n",
    "                        temp[1]=foo\n",
    "            dist += temp[1]\n",
    "            res.append(points[temp[0]])\n",
    "            last = points[temp[0]]\n",
    "            points.pop(temp[0])\n",
    "        resTime.append([dist,time.time_ns()-start])\n",
    "\n",
    "Moy = []\n",
    "for i in range(maxN-3):\n",
    "    sum=0\n",
    "    for e in range(maxA):\n",
    "        sum += resTime[i*maxA+e][1]\n",
    "    Moy.append(sum/maxA)\n",
    "\n",
    "plt.plot(range(3,maxN),Moy)\n",
    "plt.show()\n",
    "    \n",
    "        \n"
   ]
  },
  {
   "cell_type": "markdown",
   "metadata": {
    "pycharm": {
     "name": "#%% md\n"
    }
   },
   "source": [
    "#### Greedy Algorithms :\n",
    "\n",
    "#### Tabu search :\n",
    "\n",
    "La recherche avec tabous est déterministe et a une notion de mémoire. Le choix du meilleur voisin d’une solution pousse l’algorithme à trouver les optima locaux ; et comme l’exploration de l’espace de recherche est effectué en limitant le voisinage de la solution en rendant « tabous » certains mouvements, l’algorithme doit théoriquement visiter l’optimum global."
   ]
  },
  {
   "cell_type": "markdown",
   "metadata": {
    "pycharm": {
     "name": "#%% md\n"
    }
   },
   "source": [
    "#### Voyageur de Commerce :"
   ]
  },
  {
   "cell_type": "code",
   "execution_count": null,
   "metadata": {
    "pycharm": {
     "name": "#%%\n"
    }
   },
   "outputs": [],
   "source": [
    "import random\n",
    "import matplotlib.pyplot as plt\n",
    "\n",
    "n = 30\n",
    "x = [ random.random() for _ in range(n) ]\n",
    "y = [ random.random() for _ in range(n) ]\n",
    "plt.plot(x,y,\"o\")"
   ]
  },
  {
   "cell_type": "code",
   "execution_count": null,
   "metadata": {
    "pycharm": {
     "name": "#%%\n"
    }
   },
   "outputs": [],
   "source": [
    "def longueur (x,y, ordre):\n",
    "    i = ordre[-1]\n",
    "    x0,y0 = x[i], y[i]\n",
    "    d = 0\n",
    "    for o in ordre:\n",
    "        x1,y1 = x[o], y[o]\n",
    "        d += (x0-x1)**2 + (y0-y1)**2\n",
    "        x0,y0 = x1,y1\n",
    "    return d\n",
    "\n",
    "ordre = list(range(len(x)))\n",
    "print(\"longueur initiale\", longueur(x,y,ordre))\n",
    "\n",
    "def permutation(x,y,ordre):\n",
    "    d  = longueur(x,y,ordre)\n",
    "    d0 = d+1\n",
    "    it = 1\n",
    "    while d < d0 :\n",
    "        it += 1\n",
    "        print(\"iteration\",it, \"d=\",d)\n",
    "        d0 = d\n",
    "        for i in range(0,len(ordre)-1) :\n",
    "            for j in range(i+2,len(ordre)):\n",
    "                r = ordre[i:j].copy()\n",
    "                r.reverse()\n",
    "                ordre2 = ordre[:i] + r + ordre[j:]\n",
    "                t = longueur(x,y,ordre2)\n",
    "                if t < d :\n",
    "                    d = t\n",
    "                    ordre = ordre2\n",
    "    return ordre\n",
    "\n",
    "ordre = permutation (x,y,list(range(len(x))))\n",
    "print(\"longueur min\", longueur(x,y,ordre))\n",
    "xo = [ x[o] for o in ordre + [ordre[0]]]\n",
    "yo = [ y[o] for o in ordre + [ordre[0]]]\n",
    "plt.plot(xo,yo, \"o-\")"
   ]
  },
  {
   "cell_type": "code",
   "execution_count": null,
   "metadata": {
    "pycharm": {
     "name": "#%%\n"
    }
   },
   "outputs": [],
   "source": [
    "ordre = list(range(len(x)))\n",
    "print(\"longueur initiale\", longueur(x,y,ordre))\n",
    "\n",
    "def permutation_rnd(x,y,ordre,miniter):\n",
    "    d  = longueur(x,y,ordre)\n",
    "    d0 = d+1\n",
    "    it = 1\n",
    "    while d < d0 or it < miniter :\n",
    "        it += 1\n",
    "        d0 = d\n",
    "        for i in range(1,len(ordre)-1) :\n",
    "            for j in range(i+2,len(ordre)+ 1):\n",
    "                k = random.randint(1,len(ordre)-1)\n",
    "                l = random.randint(k+1,len(ordre))\n",
    "                r = ordre[k:l].copy()\n",
    "                r.reverse()\n",
    "                ordre2 = ordre[:k] + r + ordre[l:]\n",
    "                t = longueur(x,y,ordre2)\n",
    "                if t < d :\n",
    "                    d = t\n",
    "                    ordre = ordre2\n",
    "    return ordre\n",
    "\n",
    "def n_permutation(x,y, miniter):\n",
    "    ordre = list(range(len(x)))\n",
    "    bordre = ordre.copy()\n",
    "    d0 = longueur(x,y,ordre)\n",
    "    for i in range(0,20):\n",
    "        print(\"iteration\",i, \"d=\",d0)\n",
    "        random.shuffle(ordre)\n",
    "        ordre = permutation_rnd (x,y,ordre, 20)\n",
    "        d = longueur(x,y,ordre)\n",
    "        if d < d0 :\n",
    "            d0 = d\n",
    "            bordre = ordre.copy()\n",
    "    return bordre\n",
    "\n",
    "ordre = n_permutation (x,y, 20)\n",
    "print(\"longueur min\", longueur(x,y,ordre))\n",
    "xo = [ x[o] for o in ordre + [ordre[0]]]\n",
    "yo = [ y[o] for o in ordre + [ordre[0]]]\n",
    "plt.plot(xo,yo, \"o-\")\n",
    "plt.text(xo[0],yo[0],\"0\",color=\"r\",weight=\"bold\",size=\"x-large\")\n",
    "plt.text(xo[-2],yo[-2],\"N-1\",color=\"r\",weight=\"bold\",size=\"x-large\")"
   ]
  },
  {
   "cell_type": "markdown",
   "metadata": {
    "pycharm": {
     "name": "#%% md\n"
    }
   },
   "source": [
    "## 5. Exploitation"
   ]
  },
  {
   "cell_type": "markdown",
   "metadata": {
    "pycharm": {
     "name": "#%% md\n"
    }
   },
   "source": [
    "## Conclusion"
   ]
  }
 ],
 "metadata": {
  "kernelspec": {
   "display_name": "Python 3.9.12 ('base')",
   "language": "python",
   "name": "python3"
  },
  "language_info": {
   "codemirror_mode": {
    "name": "ipython",
    "version": 3
   },
   "file_extension": ".py",
   "mimetype": "text/x-python",
   "name": "python",
   "nbconvert_exporter": "python",
   "pygments_lexer": "ipython3",
   "version": "3.9.12"
  },
  "orig_nbformat": 4,
  "vscode": {
   "interpreter": {
    "hash": "ad2bdc8ecc057115af97d19610ffacc2b4e99fae6737bb82f5d7fb13d2f2c186"
   }
  }
 },
 "nbformat": 4,
 "nbformat_minor": 2
}
