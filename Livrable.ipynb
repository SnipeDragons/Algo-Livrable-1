{
 "cells": [
  {
   "cell_type": "markdown",
   "metadata": {
    "pycharm": {
     "name": "#%% md\n"
    }
   },
   "source": [
    "# Livrable 1"
   ]
  },
  {
   "cell_type": "markdown",
   "metadata": {
    "pycharm": {
     "name": "#%% md\n"
    }
   },
   "source": [
    "## Table des matières\n",
    "- [Introduction](#introduction)\n",
    "1. [Contraintes](#1-contraintes)\n",
    "1. [Modélisation](#2-modélisation)\n",
    "1. [Implémentation](#3-implémentation)\n",
    "1. [Exploitation](#4-exploitation)\n",
    "- [Conclusion](#conclusion)"
   ]
  },
  {
   "cell_type": "markdown",
   "metadata": {
    "pycharm": {
     "name": "#%% md\n"
    }
   },
   "source": [
    "## Introduction\n",
    "\n",
    "L'ADEME (Agence de l'Environnement et de la Maîtrise de l'Energie) a récemment lancé un appel à manifestation d'intérêt pour promouvoir la réalisation de démonstrations et d'expérimentations de nouvelles solutions de mobilité pour les personnes et les marchandises adaptées à différents types de territoires.<br><br>\n",
    "Notre équipe fait partie de la structure CesiCDP déjà implantée dans le domaine et nous avons été mobilisé pour répondre à cet appel.<br><br>\n",
    "CesiCDP souhaite que l'on oriente l'étude sur la gestion de tournées de livraison. Le problème algorithmique consiste a calculer, sur un réseau routier quelconque, une tournée permettant de relier entre elles un sous-ensemble de villes avec pour but de revenir au point de départ en un minimum de temps.<br><br>\n",
    "Une méthode algorithme permettrant de répondre a ce problème est attendu.<br><br>\n",
    "Il est aussi demandé d'ajouter des contraintes supplémentaires afin de rendre le model plus réaliste possible."
   ]
  },
  {
   "cell_type": "markdown",
   "metadata": {
    "pycharm": {
     "name": "#%% md\n"
    }
   },
   "source": [
    "## 1. Contraintes\n",
    "\n",
    "Afin de répondre à l’appel d’offre de l’ADEME, nous avons donc dû identifier les contraintes de notre algorithme.\n",
    "\n",
    "Notre solution doit :\n",
    "- Réaliser un cycle permettant de passer par toutes les villes souhaitées,\n",
    "- Prendre en compte le temps nécessaire pour le passage entre deux villes.\n",
    "\n",
    "De plus, nous avons opté pour ajouter une contrainte supplémentaire :\n",
    "- Le temps de parcours d’une arête varie au cours du temps.\n",
    "Cette contrainte nous a paru pertinente car le temps nécessaire au transit n’est généralement pas le même en fonction de la densité de circulation qui varie en fonction du temps."
   ]
  },
  {
   "cell_type": "markdown",
   "metadata": {
    "pycharm": {
     "name": "#%% md\n"
    }
   },
   "source": [
    "## 2. Modélisation\n",
    "\n",
    "En cherchant et en ce concertant quand aux meilleurs solutions pour repondre à ce problème nous sommes tombé sur 3 algorithmes qui semblait repondre aux besoins du projet : \n",
    "\n",
    "- K-Nearest Neighbors Algorithm\n",
    "- Greedy Algorithms\n",
    "- Tabu search"
   ]
  },
  {
   "cell_type": "markdown",
   "metadata": {
    "pycharm": {
     "name": "#%% md\n"
    }
   },
   "source": [
    "## 3. Implémentation\n",
    "\n"
   ]
  },
  {
   "cell_type": "code",
   "execution_count": 243,
   "metadata": {},
   "outputs": [
    {
     "name": "stdout",
     "output_type": "stream",
     "text": [
      "[[  0 125 130 140 115 123  83 134 101  99]\n",
      " [125   0 121 143 170  55 177 128 171  95]\n",
      " [130 121   0 123  40 110 118  28  39 146]\n",
      " [140 143 123   0 149  96   8 123 119  72]\n",
      " [115 170  40 149   0  77  82  86  48 139]\n",
      " [123  55 110  96  77   0 136  13 114  56]\n",
      " [ 83 177 118   8  82 136   0 136 145  86]\n",
      " [134 128  28 123  86  13 136   0  16 129]\n",
      " [101 171  39 119  48 114 145  16   0 110]\n",
      " [ 99  95 146  72 139  56  86 129 110   0]]\n",
      "\n",
      "Temps d'execution de : 0.000995635986328125 secondes\n"
     ]
    }
   ],
   "source": [
    "import numpy as np\n",
    "import time\n",
    "\n",
    "# Parametres de configurations\n",
    "nb_villes=10\n",
    "tempsMax=200\n",
    "\n",
    "def grapheVillesAleatoire(nb_Villes, tempsMax):\n",
    "    # La fonction créée une matrice donnant le temps entre chaque ville (généré de manière aléatoire).\n",
    "    graphe = np.random.choice(range(5,tempsMax), size=(nb_Villes,nb_Villes))\n",
    "    # La boucle s'exécute pour chaque ville (nb_Villes) et ajoute la valeur dans la matrice\n",
    "    for i in range(nb_Villes):\n",
    "        graphe[i][i]= 0      \n",
    "    grapheF = ((graphe + graphe.T - np.diag(graphe.diagonal()))/2).astype(int)\n",
    "    return grapheF\n",
    "\n",
    "# Commence à calculer le temps d'exécution\n",
    "start = time.time()\n",
    "# Génère une matrice pour n villes ayant pour temps max. t minutes\n",
    "graphe = grapheVillesAleatoire(nb_villes,tempsMax)\n",
    "print(graphe)\n",
    "# Stop le calcul du temps d'exécution\n",
    "stop = time.time()\n",
    "print (\"\\nTemps d'execution de : \" + str(stop-start) + \" secondes\")"
   ]
  },
  {
   "cell_type": "code",
   "execution_count": 300,
   "metadata": {},
   "outputs": [
    {
     "data": {
      "image/png": "[encoded data removed]",
      "text/plain": [
       "<Figure size 432x288 with 1 Axes>"
      ]
     },
     "metadata": {
      "needs_background": "light"
     },
     "output_type": "display_data"
    }
   ],
   "source": [
    "import random\n",
    "import numpy as np\n",
    "import matplotlib.pyplot as plt\n",
    "\n",
    "nb_ville = 20\n",
    "points = []\n",
    "\n",
    "abscisses = random.sample(range(0,200), nb_ville)\n",
    "ordonnees = random.sample(range(0,200), nb_ville)\n",
    "points += [(a,b) for a,b in zip(abscisses,ordonnees)]\n",
    "\n",
    "x = np.array(abscisses)\n",
    "y = np.array(ordonnees)\n",
    "plt.scatter(x,y, c=\"red\")\n",
    "plt.show()"
   ]
  },
  {
   "cell_type": "markdown",
   "metadata": {
    "pycharm": {
     "name": "#%% md\n"
    }
   },
   "source": [
    "## 4. Exploitation"
   ]
  },
  {
   "cell_type": "markdown",
   "metadata": {
    "pycharm": {
     "name": "#%% md\n"
    }
   },
   "source": [
    "## Conclusion"
   ]
  }
 ],
 "metadata": {
  "interpreter": {
   "hash": "e5968b5040b5ad352cfbb4ff25bb1bcaf98d7df2ec40bbe97243e74cb50ceb66"
  },
  "kernelspec": {
   "display_name": "Python 3.9.12 ('base')",
   "language": "python",
   "name": "python3"
  },
  "language_info": {
   "name": "python",
   "version": "3.9.12"
  },
  "orig_nbformat": 4
 },
 "nbformat": 4,
 "nbformat_minor": 2
}
