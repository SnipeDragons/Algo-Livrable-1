{
 "cells": [
  {
   "cell_type": "markdown",
   "metadata": {
    "pycharm": {
     "name": "#%% md\n"
    }
   },
   "source": [
    "# Livrable 1"
   ]
  },
  {
   "cell_type": "markdown",
   "metadata": {
    "pycharm": {
     "name": "#%% md\n"
    }
   },
   "source": [
    "## Table des matières\n",
    "- [Introduction](#introduction)\n",
    "1. [Contraintes](#1-contraintes)\n",
    "1. [Modélisation](#2-modélisation)\n",
    "1. [Implémentation](#3-implémentation)\n",
    "1. [Exploitation](#4-exploitation)\n",
    "- [Conclusion](#conclusion)"
   ]
  },
  {
   "cell_type": "markdown",
   "metadata": {
    "collapsed": false,
    "pycharm": {
     "name": "#%% md\n"
    }
   },
   "source": [
    "## Introduction\n",
    "\n",
    "L'ADEME (Agence de l'Environnement et de la Maîtrise de l'Energie) a récemment lancé un appel à manifestation d'intérêt pour promouvoir la réalisation de démonstrations et d'expérimentations de nouvelles solutions de mobilité pour les personnes et les marchandises adaptées à différents types de territoires.<br><br>\n",
    "Notre équipe fait partie de la structure CesiCDP déjà implantée dans le domaine et nous avons été mobilisé pour répondre à cet appel.\n",
    "CesiCDP souhaite que l'on oriente l'étude sur la gestion de tournées de livraison. Le problème algorithmique consiste a calculer, sur un réseau routier quelconque, une tournée permettant de relier entre elles un sous-ensemble de villes avec pour but de revenir au point de départ en un minimum de temps.\n",
    "Une méthode algorithme permettrant de répondre a ce problème est attendu.\n",
    "Il est aussi demandé d'ajouter des contraintes supplémentaires afin de rendre le model plus réaliste possible."
   ]
  },
  {
   "cell_type": "markdown",
   "metadata": {
    "collapsed": false,
    "pycharm": {
     "name": "#%% md\n"
    }
   },
   "source": [
    "## 1. Contraintes\n",
    "\n",
    "Afin de répondre à l’appel d’offre de l’ADEME, nous avons donc dû identifier les contraintes de notre algorithme.\n",
    "\n",
    "Notre solution doit :\n",
    "- Réaliser un cycle permettant de passer par toutes les villes souhaitées,\n",
    "- Prendre en compte le temps nécessaire pour le passage entre deux villes.\n",
    "\n",
    "De plus, nous avons opté pour ajouter une contrainte supplémentaire :\n",
    "- Le temps de parcours d’une arête varie au cours du temps.\n",
    "Cette contrainte nous a paru pertinente car le temps nécessaire au transit n’est généralement pas le même en fonction de la densité de circulation qui varie en fonction du temps."
   ]
  },
  {
   "cell_type": "markdown",
   "metadata": {
    "collapsed": false,
    "pycharm": {
     "name": "#%% md\n"
    }
   },
   "source": [
    "## 2. Définitions / Problèmes\n",
    "\n",
    "Dans un premier temps, le probleme peut être reformulé sous la forme d'un graph complet composé de l'ensemble de sommets U. L'objectif final étant de relier tous les sommets de ce graph en revenant au point de départ sur la distance la plus courte possible. Cela correspond a l'appellation d'un cycle hamiltonien. Notre objectif est donc de modéliser le cycle hamiltonien ayant la plus courte distance totale en temps.\n",
    "\n",
    "La recherche d'un cycle hamiltonien n'étant pas un probleme ayant une solution de réponse en respectant le temps polynomiale, la recherche du chemin le plus court dans notre cas est donc qualifié de complexité NP-complet. Cependant donc notre cas, comme nous souhaitons avoir le meilleur chemin possible, il est donc necessaire de tester toutes les solutions possible. Notre probleme devient donc un algorithme de type NP-Difficile.\n",
    "\n",
    "Afin de résoudre la solution, nous devons avoir tous les chemins possibles. Cependant, le nombre de chemin disponible est égal a n! (N factoriel). La complexité de cette solution est donc de O(n!), cependant lors de recherches nous avons trouvé une solution permettant de transformer une compléxité O(n!) en O(e<sup>n</sup>).\n",
    "\n",
    "Afin d'avoir un temps de resolution tout de même respectable, avec des machines posssédées par le communs des mortels, nous avons choisi la solution de faire un algorithme de type heuristique.\n",
    "\n"
   ]
  },
  {
   "cell_type": "markdown",
   "metadata": {
    "collapsed": false,
    "pycharm": {
     "name": "#%% md\n"
    }
   },
   "source": [
    "## 3. Modélisation\n",
    "\n",
    "\n",
    "Pour ceci, nous devons prouver via un algorithme de certificat que la solution est vérifiable en temps polynomiale :\n",
    "<br></br>\n",
    "\n",
    "   Dans un premier temps, qu'est-ce qu'un temps polynomiale ?\n",
    "\n",
    "Un temps polynomial peut être vu comme le temps minimum d’exécution d’un algorithme en fonction des données en\n",
    "entrée. Un algorithme est résolu en temps polynomial si, pour toutes constantes c et n indépendantes, avec n un entier\n",
    "présentant la taille des données en entrée, il s’exécute en moins de c.n<sup>k</sup> opérations élémentaires (et k est une constante indépendante des deux autres).\n",
    "\n",
    "Par la suite, dans notre situation de voyageur de commerce et dans les contraintes demandées, notre solution doit être vérifiable dans un temps polynomiale sur un jeu de données de plusieurs milliers de points. Nous allons donc apporter la preuve :\n"
   ]
  },
  {
   "cell_type": "code",
   "execution_count": 49,
   "metadata": {
    "collapsed": false,
    "pycharm": {
     "name": "#%%\n"
    }
   },
   "outputs": [],
   "source": [
    "import numpy as np\n",
    "\n",
    "size = (10, 10)\n",
    "\n",
    "adj_mat = np.random.randint(2, size=size)\n"
   ]
  },
  {
   "cell_type": "markdown",
   "metadata": {
    "collapsed": false,
    "pycharm": {
     "name": "#%% md\n"
    }
   },
   "source": [
    "Dans un premier temps, nous avons généré une matrice d'adjacence. Cette matrice est un échantillon de 10x10 afin d'avoir un temps de demonstration raisonnable.\n",
    "\n",
    "Dans un second temps, l'objectif est d'afficher cette matrice sous forme de graph :"
   ]
  },
  {
   "cell_type": "code",
   "execution_count": 50,
   "metadata": {
    "collapsed": false,
    "pycharm": {
     "name": "#%%\n"
    }
   },
   "outputs": [
    {
     "data": {
      "image/svg+xml": "<svg xmlns=\"http://www.w3.org/2000/svg\" xmlns:xlink=\"http://www.w3.org/1999/xlink\" width=\"539pt\" height=\"260pt\" viewBox=\"0.00 0.00 539.04 260.00\">\n<g id=\"graph0\" class=\"graph\" transform=\"scale(1 1) rotate(0) translate(4 256)\">\n<polygon fill=\"white\" stroke=\"transparent\" points=\"-4,4 -4,-256 535.04,-256 535.04,4 -4,4\"/>\n<!-- 0 -->\n<g id=\"node1\" class=\"node\">\n<title>0</title>\n<ellipse fill=\"none\" stroke=\"black\" cx=\"288.61\" cy=\"-234\" rx=\"27\" ry=\"18\"/>\n<text text-anchor=\"middle\" x=\"288.61\" y=\"-230.3\" font-family=\"Times New Roman,serif\" font-size=\"14.00\">0</text>\n</g>\n<!-- 0&#45;&#45;0 -->\n<g id=\"edge1\" class=\"edge\">\n<title>0--0</title>\n<path fill=\"none\" stroke=\"black\" d=\"M308.5,-246.43C321.29,-249.68 333.61,-245.53 333.61,-234 333.61,-222.47 321.29,-218.32 308.5,-221.57\"/>\n</g>\n<!-- 1 -->\n<g id=\"node2\" class=\"node\">\n<title>1</title>\n<ellipse fill=\"none\" stroke=\"black\" cx=\"215.61\" cy=\"-162\" rx=\"27\" ry=\"18\"/>\n<text text-anchor=\"middle\" x=\"215.61\" y=\"-158.3\" font-family=\"Times New Roman,serif\" font-size=\"14.00\">1</text>\n</g>\n<!-- 0&#45;&#45;1 -->\n<g id=\"edge2\" class=\"edge\">\n<title>0--1</title>\n<path fill=\"none\" stroke=\"black\" d=\"M273.83,-218.83C261.17,-206.69 243.02,-189.28 230.36,-177.14\"/>\n</g>\n<!-- 3 -->\n<g id=\"node3\" class=\"node\">\n<title>3</title>\n<ellipse fill=\"none\" stroke=\"black\" cx=\"433.61\" cy=\"-162\" rx=\"27\" ry=\"18\"/>\n<text text-anchor=\"middle\" x=\"433.61\" y=\"-158.3\" font-family=\"Times New Roman,serif\" font-size=\"14.00\">3</text>\n</g>\n<!-- 0&#45;&#45;3 -->\n<g id=\"edge3\" class=\"edge\">\n<title>0--3</title>\n<path fill=\"none\" stroke=\"black\" d=\"M310,-222.67C337.42,-209.44 384.67,-186.63 412.12,-173.37\"/>\n</g>\n<!-- 4 -->\n<g id=\"node4\" class=\"node\">\n<title>4</title>\n<ellipse fill=\"none\" stroke=\"black\" cx=\"87.61\" cy=\"-162\" rx=\"27\" ry=\"18\"/>\n<text text-anchor=\"middle\" x=\"87.61\" y=\"-158.3\" font-family=\"Times New Roman,serif\" font-size=\"14.00\">4</text>\n</g>\n<!-- 0&#45;&#45;4 -->\n<g id=\"edge4\" class=\"edge\">\n<title>0--4</title>\n<path fill=\"none\" stroke=\"black\" d=\"M265.16,-224.83C226.42,-211.34 149.54,-184.57 110.91,-171.11\"/>\n</g>\n<!-- 6 -->\n<g id=\"node5\" class=\"node\">\n<title>6</title>\n<ellipse fill=\"none\" stroke=\"black\" cx=\"215.61\" cy=\"-90\" rx=\"27\" ry=\"18\"/>\n<text text-anchor=\"middle\" x=\"215.61\" y=\"-86.3\" font-family=\"Times New Roman,serif\" font-size=\"14.00\">6</text>\n</g>\n<!-- 0&#45;&#45;6 -->\n<g id=\"edge5\" class=\"edge\">\n<title>0--6</title>\n<path fill=\"none\" stroke=\"black\" d=\"M287.87,-215.92C286.43,-197.21 282.16,-166.85 269.61,-144 260.75,-127.88 245.43,-113.54 233.36,-103.86\"/>\n</g>\n<!-- 7 -->\n<g id=\"node6\" class=\"node\">\n<title>7</title>\n<ellipse fill=\"none\" stroke=\"black\" cx=\"424.61\" cy=\"-90\" rx=\"27\" ry=\"18\"/>\n<text text-anchor=\"middle\" x=\"424.61\" y=\"-86.3\" font-family=\"Times New Roman,serif\" font-size=\"14.00\">7</text>\n</g>\n<!-- 0&#45;&#45;7 -->\n<g id=\"edge6\" class=\"edge\">\n<title>0--7</title>\n<path fill=\"none\" stroke=\"black\" d=\"M315.35,-230.41C367.48,-224.76 479.61,-209.39 502.61,-180 512.47,-167.4 510.09,-158.14 502.61,-144 491.11,-122.3 466.31,-107.83 447.74,-99.57\"/>\n</g>\n<!-- 8 -->\n<g id=\"node7\" class=\"node\">\n<title>8</title>\n<ellipse fill=\"none\" stroke=\"black\" cx=\"405.61\" cy=\"-18\" rx=\"27\" ry=\"18\"/>\n<text text-anchor=\"middle\" x=\"405.61\" y=\"-14.3\" font-family=\"Times New Roman,serif\" font-size=\"14.00\">8</text>\n</g>\n<!-- 0&#45;&#45;8 -->\n<g id=\"edge7\" class=\"edge\">\n<title>0--8</title>\n<path fill=\"none\" stroke=\"black\" d=\"M315.31,-230.94C370.55,-226.07 494.29,-211.78 519.61,-180 562.5,-126.15 467.76,-57.61 425.07,-30.64\"/>\n</g>\n<!-- 9 -->\n<g id=\"node8\" class=\"node\">\n<title>9</title>\n<ellipse fill=\"none\" stroke=\"black\" cx=\"87.61\" cy=\"-18\" rx=\"27\" ry=\"18\"/>\n<text text-anchor=\"middle\" x=\"87.61\" y=\"-14.3\" font-family=\"Times New Roman,serif\" font-size=\"14.00\">9</text>\n</g>\n<!-- 0&#45;&#45;9 -->\n<g id=\"edge8\" class=\"edge\">\n<title>0--9</title>\n<path fill=\"none\" stroke=\"black\" d=\"M263.27,-227.12C248.99,-223.83 230.81,-219.65 214.61,-216 142.23,-199.69 98.07,-237.84 51.61,-180 16.63,-136.46 55.83,-65.83 76.49,-34.65\"/>\n</g>\n<!-- 1&#45;&#45;1 -->\n<g id=\"edge9\" class=\"edge\">\n<title>1--1</title>\n<path fill=\"none\" stroke=\"black\" d=\"M235.5,-174.43C248.29,-177.68 260.61,-173.53 260.61,-162 260.61,-150.47 248.29,-146.32 235.5,-149.57\"/>\n</g>\n<!-- 1&#45;&#45;6 -->\n<g id=\"edge10\" class=\"edge\">\n<title>1--6</title>\n<path fill=\"none\" stroke=\"black\" d=\"M215.61,-143.7C215.61,-132.85 215.61,-118.92 215.61,-108.1\"/>\n</g>\n<!-- 3&#45;&#45;6 -->\n<g id=\"edge17\" class=\"edge\">\n<title>3--6</title>\n<path fill=\"none\" stroke=\"black\" d=\"M412.53,-150.37C407.69,-148.12 402.52,-145.86 397.61,-144 342.83,-123.24 276.24,-105.73 240.74,-96.98\"/>\n</g>\n<!-- 3&#45;&#45;7 -->\n<g id=\"edge18\" class=\"edge\">\n<title>3--7</title>\n<path fill=\"none\" stroke=\"black\" d=\"M431.43,-144.05C430.03,-133.21 428.23,-119.18 426.83,-108.28\"/>\n</g>\n<!-- 4&#45;&#45;4 -->\n<g id=\"edge19\" class=\"edge\">\n<title>4--4</title>\n<path fill=\"none\" stroke=\"black\" d=\"M107.5,-174.43C120.29,-177.68 132.61,-173.53 132.61,-162 132.61,-150.47 120.29,-146.32 107.5,-149.57\"/>\n</g>\n<!-- 4&#45;&#45;6 -->\n<g id=\"edge20\" class=\"edge\">\n<title>4--6</title>\n<path fill=\"none\" stroke=\"black\" d=\"M107.89,-149.91C131.86,-136.8 171.49,-115.12 195.42,-102.04\"/>\n</g>\n<!-- 4&#45;&#45;8 -->\n<g id=\"edge21\" class=\"edge\">\n<title>4--8</title>\n<path fill=\"none\" stroke=\"black\" d=\"M99.16,-145.5C115.01,-125.38 145.47,-90.63 179.61,-72 245.23,-36.19 334.41,-24.45 378.56,-20.7\"/>\n</g>\n<!-- 4&#45;&#45;9 -->\n<g id=\"edge22\" class=\"edge\">\n<title>4--9</title>\n<path fill=\"none\" stroke=\"black\" d=\"M87.61,-143.87C87.61,-116.58 87.61,-63.52 87.61,-36.19\"/>\n</g>\n<!-- 6&#45;&#45;6 -->\n<g id=\"edge27\" class=\"edge\">\n<title>6--6</title>\n<path fill=\"none\" stroke=\"black\" d=\"M235.5,-102.43C248.29,-105.68 260.61,-101.53 260.61,-90 260.61,-78.47 248.29,-74.32 235.5,-77.57\"/>\n</g>\n<!-- 6&#45;&#45;9 -->\n<g id=\"edge28\" class=\"edge\">\n<title>6--9</title>\n<path fill=\"none\" stroke=\"black\" d=\"M195.32,-77.91C171.36,-64.8 131.72,-43.12 107.79,-30.04\"/>\n</g>\n<!-- 7&#45;&#45;7 -->\n<g id=\"edge29\" class=\"edge\">\n<title>7--7</title>\n<path fill=\"none\" stroke=\"black\" d=\"M444.5,-102.43C457.29,-105.68 469.61,-101.53 469.61,-90 469.61,-78.47 457.29,-74.32 444.5,-77.57\"/>\n</g>\n<!-- 7&#45;&#45;8 -->\n<g id=\"edge30\" class=\"edge\">\n<title>7--8</title>\n<path fill=\"none\" stroke=\"black\" d=\"M420.01,-72.05C417.02,-61.05 413.14,-46.76 410.16,-35.79\"/>\n</g>\n<!-- 7&#45;&#45;9 -->\n<g id=\"edge31\" class=\"edge\">\n<title>7--9</title>\n<path fill=\"none\" stroke=\"black\" d=\"M399.28,-83.74C336.82,-70.77 175.99,-37.36 113.23,-24.32\"/>\n</g>\n<!-- 2 -->\n<g id=\"node9\" class=\"node\">\n<title>2</title>\n<ellipse fill=\"none\" stroke=\"black\" cx=\"160.61\" cy=\"-234\" rx=\"27\" ry=\"18\"/>\n<text text-anchor=\"middle\" x=\"160.61\" y=\"-230.3\" font-family=\"Times New Roman,serif\" font-size=\"14.00\">2</text>\n</g>\n<!-- 2&#45;&#45;4 -->\n<g id=\"edge12\" class=\"edge\">\n<title>2--4</title>\n<path fill=\"none\" stroke=\"black\" d=\"M145.83,-218.83C133.17,-206.69 115.02,-189.28 102.36,-177.14\"/>\n</g>\n<!-- 2&#45;&#45;6 -->\n<g id=\"edge14\" class=\"edge\">\n<title>2--6</title>\n<path fill=\"none\" stroke=\"black\" d=\"M162.26,-216.01C164.5,-197.65 169.43,-167.83 179.61,-144 185.46,-130.29 195.05,-116.41 202.86,-106.3\"/>\n</g>\n<!-- 2&#45;&#45;7 -->\n<g id=\"edge15\" class=\"edge\">\n<title>2--7</title>\n<path fill=\"none\" stroke=\"black\" d=\"M186.36,-228.11C204.79,-224.64 230.21,-219.93 252.61,-216 300.75,-207.56 438,-217.29 469.61,-180 489.31,-156.76 460.65,-123.41 440.82,-104.83\"/>\n</g>\n<!-- 2&#45;&#45;9 -->\n<g id=\"edge16\" class=\"edge\">\n<title>2--9</title>\n<path fill=\"none\" stroke=\"black\" d=\"M133.69,-231.69C100.29,-228.45 44.56,-217.4 18.61,-180 -8.77,-140.57 -2.61,-115.06 18.61,-72 28.35,-52.22 49.43,-37.76 65.74,-28.99\"/>\n</g>\n<!-- 2&#45;&#45;2 -->\n<g id=\"edge11\" class=\"edge\">\n<title>2--2</title>\n<path fill=\"none\" stroke=\"black\" d=\"M180.5,-246.43C193.29,-249.68 205.61,-245.53 205.61,-234 205.61,-222.47 193.29,-218.32 180.5,-221.57\"/>\n</g>\n<!-- 5 -->\n<g id=\"node10\" class=\"node\">\n<title>5</title>\n<ellipse fill=\"none\" stroke=\"black\" cx=\"343.61\" cy=\"-162\" rx=\"27\" ry=\"18\"/>\n<text text-anchor=\"middle\" x=\"343.61\" y=\"-158.3\" font-family=\"Times New Roman,serif\" font-size=\"14.00\">5</text>\n</g>\n<!-- 2&#45;&#45;5 -->\n<g id=\"edge13\" class=\"edge\">\n<title>2--5</title>\n<path fill=\"none\" stroke=\"black\" d=\"M183.41,-224.28C218.58,-210.83 285.64,-185.17 320.8,-171.72\"/>\n</g>\n<!-- 5&#45;&#45;6 -->\n<g id=\"edge24\" class=\"edge\">\n<title>5--6</title>\n<path fill=\"none\" stroke=\"black\" d=\"M323.32,-149.91C299.36,-136.8 259.72,-115.12 235.79,-102.04\"/>\n</g>\n<!-- 5&#45;&#45;7 -->\n<g id=\"edge25\" class=\"edge\">\n<title>5--7</title>\n<path fill=\"none\" stroke=\"black\" d=\"M359.61,-147.17C373.81,-134.9 394.45,-117.06 408.64,-104.8\"/>\n</g>\n<!-- 5&#45;&#45;8 -->\n<g id=\"edge26\" class=\"edge\">\n<title>5--8</title>\n<path fill=\"none\" stroke=\"black\" d=\"M350.84,-144.43C362.79,-117.07 386.5,-62.75 398.42,-35.46\"/>\n</g>\n<!-- 5&#45;&#45;5 -->\n<g id=\"edge23\" class=\"edge\">\n<title>5--5</title>\n<path fill=\"none\" stroke=\"black\" d=\"M363.5,-174.43C376.29,-177.68 388.61,-173.53 388.61,-162 388.61,-150.47 376.29,-146.32 363.5,-149.57\"/>\n</g>\n</g>\n</svg>",
      "text/plain": [
       "<IPython.core.display.SVG object>"
      ]
     },
     "metadata": {},
     "output_type": "display_data"
    }
   ],
   "source": [
    "import networkx as nx\n",
    "from IPython.display import SVG, display\n",
    "\n",
    "graph = nx.from_numpy_array(adj_mat, parallel_edges=True, create_using=nx.MultiGraph)\n",
    "\n",
    "agraph = nx.nx_agraph.to_agraph(graph)\n",
    "tmp_path = \"tmp_graph.svg\"\n",
    "agraph.draw(tmp_path, prog=\"dot\")\n",
    "display(SVG(tmp_path))\n"
   ]
  },
  {
   "cell_type": "markdown",
   "metadata": {
    "collapsed": false,
    "pycharm": {
     "name": "#%% md\n"
    }
   },
   "source": []
  },
  {
   "cell_type": "markdown",
   "metadata": {
    "collapsed": false,
    "pycharm": {
     "name": "#%% md\n"
    }
   },
   "source": [
    "Ici, nous avons réussi la génération du graph, maintenant il nous faut l'algorithme permettant de resoudre ce probleme de manière simple :"
   ]
  },
  {
   "cell_type": "code",
   "execution_count": 51,
   "metadata": {
    "collapsed": false,
    "pycharm": {
     "name": "#%%\n"
    }
   },
   "outputs": [
    {
     "name": "stdout",
     "output_type": "stream",
     "text": [
      "[7, 3, 6, 1, 0, 8, 5, 2, 4]\n"
     ]
    }
   ],
   "source": [
    "path = nx.approximation.traveling_salesman_problem(graph,nodes=list(range(0, 9)), cycle=False)\n",
    "\n",
    "print(path)"
   ]
  },
  {
   "cell_type": "markdown",
   "metadata": {
    "collapsed": false,
    "pycharm": {
     "name": "#%% md\n"
    }
   },
   "source": [
    "Ici, nous avons la solution la plus optimisé sans aucune contrainte pour la demonstration. Maintenant, nous allons executer un algorithme de certificat qui prouve que la solution est correcte :"
   ]
  },
  {
   "cell_type": "code",
   "execution_count": 52,
   "metadata": {
    "collapsed": false,
    "pycharm": {
     "name": "#%%\n"
    }
   },
   "outputs": [],
   "source": [
    " #Ici algo de certificat avec temps de vérification"
   ]
  },
  {
   "cell_type": "code",
   "execution_count": null,
   "metadata": {
    "collapsed": false,
    "pycharm": {
     "name": "#%%\n"
    }
   },
   "outputs": [],
   "source": [
    "#Ici demontration de la reduction polynomiale"
   ]
  },
  {
   "cell_type": "markdown",
   "metadata": {
    "pycharm": {
     "name": "#%% md\n"
    }
   },
   "source": [
    "En cherchant et en ce concertant quand aux meilleurs solutions pour repondre à ce problème nous sommes tombé sur 3 algorithmes qui semblait repondre aux besoins du projet :\n",
    "\n",
    "- K-Nearest Neighbors Algorithm\n",
    "- Greedy Algorithms\n",
    "- Tabu search\n",
    "\n",
    "\n",
    "\n",
    "#### K-Nearest Neightbors Algorithm :\n",
    "\n",
    "L'algorithme naïf de recherche de voisinage consiste à passer sur l'ensemble des n points de A et à regarder si ce point est plus proche ou non qu'un des plus proches voisins déjà sélectionné, et si oui, l'insérer. On obtient alors un temps de calcul linéaire en la taille de A : O(n) (tant que k << n). Cette méthode est appelée la recherche séquentielle ou recherche linéaire.\n",
    "\n",
    "Le probleme est que la recherche linéaire souffre d'un problème de lenteur. Si l'ensemble A est grand, il est alors extrêmement coûteux de tester les n points de l'espace."
   ]
  },
  {
   "cell_type": "code",
   "execution_count": 17,
   "metadata": {},
   "outputs": [
    {
     "data": {
      "image/png": "[encoded data removed]",
      "text/plain": [
       "<Figure size 432x288 with 1 Axes>"
      ]
     },
     "metadata": {
      "needs_background": "light"
     },
     "output_type": "display_data"
    }
   ],
   "source": [
    "import numpy as np\n",
    "import math\n",
    "import time\n",
    "import matplotlib.pyplot as plt\n",
    "\n",
    "resTime = []\n",
    "\n",
    "maxN= 100\n",
    "maxA= 10000\n",
    "\n",
    "def Pythagore(a, b):\n",
    "    vect = [b[0]-a[0], b[1]-a[1]]\n",
    "    return math.sqrt(vect[0]*vect[0]+vect[1]*vect[1])\n",
    "\n",
    "for i in range(3,maxN):\n",
    "    for e in range(maxA):\n",
    "        points = []\n",
    "        for k in range(i):\n",
    "            points.append(np.random.randint(0,100,2))\n",
    "        #if(i>3):\n",
    "            #print(points)\n",
    "        start = time.time_ns()\n",
    "        res = [points[0]]\n",
    "        dist = 0\n",
    "        last = points[0]\n",
    "        points.pop(0)\n",
    "        #if(i>3):\n",
    "            #print(points)\n",
    "        for k in range(i-1):\n",
    "            temp=[0,Pythagore(last, points[0])]\n",
    "            if(points.__len__()>1):\n",
    "                for l in range(1,i-1-k):\n",
    "                    #if(i>3):\n",
    "                        #print(points)\n",
    "                    #print(l)\n",
    "                    #print(points)\n",
    "                    foo = Pythagore(last, points[l])\n",
    "                    if(temp[1]>foo):\n",
    "                        temp[0]=l\n",
    "                        temp[1]=foo\n",
    "            dist += temp[1]\n",
    "            res.append(points[temp[0]])\n",
    "            last = points[temp[0]]\n",
    "            points.pop(temp[0])\n",
    "        resTime.append([dist,time.time_ns()-start])\n",
    "\n",
    "Moy = []\n",
    "for i in range(maxN-3):\n",
    "    sum=0\n",
    "    for e in range(maxA):\n",
    "        sum += resTime[i*maxA+e][1]\n",
    "    Moy.append(sum/maxA)\n",
    "\n",
    "plt.plot(range(3,maxN),Moy)\n",
    "plt.show()\n",
    "    \n",
    "        \n"
   ]
  },
  {
   "cell_type": "markdown",
   "metadata": {},
   "source": [
    "#### Greedy Algorithms :\n",
    "\n",
    "#### Tabu search :\n",
    "\n",
    "La recherche avec tabous est déterministe et a une notion de mémoire. Le choix du meilleur voisin d’une solution pousse l’algorithme à trouver les optima locaux ; et comme l’exploration de l’espace de recherche est effectué en limitant le voisinage de la solution en rendant « tabous » certains mouvements, l’algorithme doit théoriquement visiter l’optimum global."
   ]
  },
  {
   "cell_type": "markdown",
   "metadata": {},
   "source": [
    "#### Voyageur de Commerce :"
   ]
  },
  {
   "cell_type": "code",
   "execution_count": 11,
   "metadata": {},
   "outputs": [
    {
     "data": {
      "text/plain": [
       "[<matplotlib.lines.Line2D at 0x23ed719f730>]"
      ]
     },
     "execution_count": 11,
     "metadata": {},
     "output_type": "execute_result"
    },
    {
     "data": {
      "image/png": "[encoded data removed]",
      "text/plain": [
       "<Figure size 432x288 with 1 Axes>"
      ]
     },
     "metadata": {
      "needs_background": "light"
     },
     "output_type": "display_data"
    }
   ],
   "source": [
    "import random\n",
    "import matplotlib.pyplot as plt\n",
    "\n",
    "n = 30\n",
    "x = [ random.random() for _ in range(n) ]\n",
    "y = [ random.random() for _ in range(n) ]\n",
    "plt.plot(x,y,\"o\")"
   ]
  },
  {
   "cell_type": "code",
   "execution_count": 12,
   "metadata": {},
   "outputs": [
    {
     "name": "stdout",
     "output_type": "stream",
     "text": [
      "longueur initiale 8.953337470239614\n",
      "iteration 2 d= 8.953337470239614\n",
      "iteration 3 d= 2.144192628910257\n",
      "iteration 4 d= 1.2142299621992139\n",
      "iteration 5 d= 1.0346148232634096\n",
      "longueur min 1.0346148232634096\n"
     ]
    },
    {
     "data": {
      "text/plain": [
       "[<matplotlib.lines.Line2D at 0x23ed7209820>]"
      ]
     },
     "execution_count": 12,
     "metadata": {},
     "output_type": "execute_result"
    },
    {
     "data": {
      "image/png": "[encoded data removed]",
      "text/plain": [
       "<Figure size 432x288 with 1 Axes>"
      ]
     },
     "metadata": {
      "needs_background": "light"
     },
     "output_type": "display_data"
    }
   ],
   "source": [
    "def longueur (x,y, ordre):\n",
    "    i = ordre[-1]\n",
    "    x0,y0 = x[i], y[i]\n",
    "    d = 0\n",
    "    for o in ordre:\n",
    "        x1,y1 = x[o], y[o]\n",
    "        d += (x0-x1)**2 + (y0-y1)**2\n",
    "        x0,y0 = x1,y1\n",
    "    return d\n",
    "\n",
    "ordre = list(range(len(x)))\n",
    "print(\"longueur initiale\", longueur(x,y,ordre))\n",
    "\n",
    "def permutation(x,y,ordre):\n",
    "    d  = longueur(x,y,ordre)\n",
    "    d0 = d+1\n",
    "    it = 1\n",
    "    while d < d0 :\n",
    "        it += 1\n",
    "        print(\"iteration\",it, \"d=\",d)\n",
    "        d0 = d\n",
    "        for i in range(0,len(ordre)-1) :\n",
    "            for j in range(i+2,len(ordre)):\n",
    "                r = ordre[i:j].copy()\n",
    "                r.reverse()\n",
    "                ordre2 = ordre[:i] + r + ordre[j:]\n",
    "                t = longueur(x,y,ordre2)\n",
    "                if t < d :\n",
    "                    d = t\n",
    "                    ordre = ordre2\n",
    "    return ordre\n",
    "\n",
    "ordre = permutation (x,y,list(range(len(x))))\n",
    "print(\"longueur min\", longueur(x,y,ordre))\n",
    "xo = [ x[o] for o in ordre + [ordre[0]]]\n",
    "yo = [ y[o] for o in ordre + [ordre[0]]]\n",
    "plt.plot(xo,yo, \"o-\")"
   ]
  },
  {
   "cell_type": "code",
   "execution_count": 17,
   "metadata": {},
   "outputs": [
    {
     "name": "stdout",
     "output_type": "stream",
     "text": [
      "longueur initiale 8.953337470239614\n",
      "iteration 0 d= 8.953337470239614\n",
      "iteration 1 d= 1.044605125869821\n",
      "iteration 2 d= 1.0257859167200014\n",
      "iteration 3 d= 1.0257859167200014\n",
      "iteration 4 d= 0.9763861949289614\n",
      "iteration 5 d= 0.9763861949289614\n",
      "iteration 6 d= 0.9763861949289614\n",
      "iteration 7 d= 0.9763861949289614\n",
      "iteration 8 d= 0.9464491834015427\n",
      "iteration 9 d= 0.9464491834015427\n",
      "iteration 10 d= 0.9464491834015427\n",
      "iteration 11 d= 0.9464491834015427\n",
      "iteration 12 d= 0.9464491834015427\n",
      "iteration 13 d= 0.9464491834015427\n",
      "iteration 14 d= 0.9464491834015427\n",
      "iteration 15 d= 0.9464491834015427\n",
      "iteration 16 d= 0.9464491834015427\n",
      "iteration 17 d= 0.9464491834015427\n",
      "iteration 18 d= 0.9464491834015427\n",
      "iteration 19 d= 0.9464491834015427\n",
      "longueur min 0.9339583655856954\n"
     ]
    },
    {
     "data": {
      "text/plain": [
       "Text(0.09407122459323936, 0.06251051478064462, 'N-1')"
      ]
     },
     "execution_count": 17,
     "metadata": {},
     "output_type": "execute_result"
    },
    {
     "data": {
      "image/png": "[encoded data removed]",
      "text/plain": [
       "<Figure size 432x288 with 1 Axes>"
      ]
     },
     "metadata": {
      "needs_background": "light"
     },
     "output_type": "display_data"
    }
   ],
   "source": [
    "ordre = list(range(len(x)))\n",
    "print(\"longueur initiale\", longueur(x,y,ordre))\n",
    "\n",
    "def permutation_rnd(x,y,ordre,miniter):\n",
    "    d  = longueur(x,y,ordre)\n",
    "    d0 = d+1\n",
    "    it = 1\n",
    "    while d < d0 or it < miniter :\n",
    "        it += 1\n",
    "        d0 = d\n",
    "        for i in range(1,len(ordre)-1) :\n",
    "            for j in range(i+2,len(ordre)+ 1):\n",
    "                k = random.randint(1,len(ordre)-1)\n",
    "                l = random.randint(k+1,len(ordre))\n",
    "                r = ordre[k:l].copy()\n",
    "                r.reverse()\n",
    "                ordre2 = ordre[:k] + r + ordre[l:]\n",
    "                t = longueur(x,y,ordre2)\n",
    "                if t < d :\n",
    "                    d = t\n",
    "                    ordre = ordre2\n",
    "    return ordre\n",
    "\n",
    "def n_permutation(x,y, miniter):\n",
    "    ordre = list(range(len(x)))\n",
    "    bordre = ordre.copy()\n",
    "    d0 = longueur(x,y,ordre)\n",
    "    for i in range(0,20):\n",
    "        print(\"iteration\",i, \"d=\",d0)\n",
    "        random.shuffle(ordre)\n",
    "        ordre = permutation_rnd (x,y,ordre, 20)\n",
    "        d = longueur(x,y,ordre)\n",
    "        if d < d0 :\n",
    "            d0 = d\n",
    "            bordre = ordre.copy()\n",
    "    return bordre\n",
    "\n",
    "ordre = n_permutation (x,y, 20)\n",
    "print(\"longueur min\", longueur(x,y,ordre))\n",
    "xo = [ x[o] for o in ordre + [ordre[0]]]\n",
    "yo = [ y[o] for o in ordre + [ordre[0]]]\n",
    "plt.plot(xo,yo, \"o-\")\n",
    "plt.text(xo[0],yo[0],\"0\",color=\"r\",weight=\"bold\",size=\"x-large\")\n",
    "plt.text(xo[-2],yo[-2],\"N-1\",color=\"r\",weight=\"bold\",size=\"x-large\")"
   ]
  },
  {
   "cell_type": "markdown",
   "metadata": {
    "pycharm": {
     "name": "#%% md\n"
    }
   },
   "source": [
    "## 5. Exploitation"
   ]
  },
  {
   "cell_type": "markdown",
   "metadata": {
    "pycharm": {
     "name": "#%% md\n"
    }
   },
   "source": [
    "## Conclusion"
   ]
  }
 ],
 "metadata": {
  "interpreter": {
   "hash": "e5968b5040b5ad352cfbb4ff25bb1bcaf98d7df2ec40bbe97243e74cb50ceb66"
  },
  "kernelspec": {
   "display_name": "Python 3.9.12 ('base')",
   "language": "python",
   "name": "python3"
  },
  "language_info": {
   "codemirror_mode": {
    "name": "ipython",
    "version": 3
   },
   "file_extension": ".py",
   "mimetype": "text/x-python",
   "name": "python",
   "nbconvert_exporter": "python",
   "pygments_lexer": "ipython3",
   "version": "3.9.12"
  },
  "orig_nbformat": 4
 },
 "nbformat": 4,
 "nbformat_minor": 2
}
