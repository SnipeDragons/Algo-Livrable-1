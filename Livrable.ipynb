{
 "cells": [
  {
   "cell_type": "markdown",
   "metadata": {
    "pycharm": {
     "name": "#%% md\n"
    }
   },
   "source": [
    "# Livrable 1"
   ]
  },
  {
   "cell_type": "markdown",
   "metadata": {
    "pycharm": {
     "name": "#%% md\n"
    }
   },
   "source": [
    "## Table des matières\n",
    "- [Introduction](#introduction)\n",
    "1. [Contraintes](#1-contraintes)\n",
    "1. [Modélisation](#2-modélisation)\n",
    "1. [Implémentation](#3-implémentation)\n",
    "1. [Exploitation](#4-exploitation)\n",
    "- [Conclusion](#conclusion)"
   ]
  },
  {
   "cell_type": "markdown",
   "metadata": {
    "collapsed": false,
    "pycharm": {
     "name": "#%% md\n"
    }
   },
   "source": [
    "## Introduction\n",
    "\n",
    "L'ADEME (Agence de l'Environnement et de la Maîtrise de l'Energie) a récemment lancé un appel à manifestation d'intérêt pour promouvoir la réalisation de démonstrations et d'expérimentations de nouvelles solutions de mobilité pour les personnes et les marchandises adaptées à différents types de territoires.<br><br>\n",
    "Notre équipe fait partie de la structure CesiCDP déjà implantée dans le domaine et nous avons été mobilisé pour répondre à cet appel.\n",
    "CesiCDP souhaite que l'on oriente l'étude sur la gestion de tournées de livraison. Le problème algorithmique consiste a calculer, sur un réseau routier quelconque, une tournée permettant de relier entre elles un sous-ensemble de villes avec pour but de revenir au point de départ en un minimum de temps.\n",
    "Une méthode algorithme permettrant de répondre a ce problème est attendu.\n",
    "Il est aussi demandé d'ajouter des contraintes supplémentaires afin de rendre le model plus réaliste possible."
   ]
  },
  {
   "cell_type": "markdown",
   "metadata": {
    "collapsed": false,
    "pycharm": {
     "name": "#%% md\n"
    }
   },
   "source": [
    "## 1. Contraintes\n",
    "\n",
    "Afin de répondre à l’appel d’offre de l’ADEME, nous avons donc dû identifier les contraintes que nous voulions traiter de notre algorithme.\n",
    "\n",
    "Notre solution doit :\n",
    "- Réaliser un cycle permettant de passer par toutes les villes souhaitées,\n",
    "- Prendre en compte le temps nécessaire pour le trajet entre deux villes.\n",
    "\n",
    "De plus, nous avons opté pour ajouter une contrainte supplémentaire :\n",
    "- Le temps de parcours d’une arête varie au cours du temps.\n",
    "Cette contrainte nous a paru pertinente car le temps nécessaire au transit n’est généralement pas le même en fonction de la densité de circulation qui varie en fonction du temps."
   ]
  },
  {
   "cell_type": "markdown",
   "metadata": {
    "collapsed": false,
    "pycharm": {
     "name": "#%% md\n"
    }
   },
   "source": [
    "## 2. Définitions des Problèmes\n",
    "\n",
    "Dans un premier temps, le probleme peut être reformulé sous la forme d'un graph complet composé de l'ensemble de sommets U. L'objectif final étant de relier tous les sommets de ce graph en revenant au point de départ sur la distance la plus courte possible. Cela correspond a l'appellation d'un cycle hamiltonien. Notre objectif est donc de modéliser le cycle hamiltonien ayant la plus courte distance totale et donc le temps d'execution le plus court.\n",
    "\n",
    "La recherche d'un cycle hamiltonien n'étant pas un probleme ayant une solution de réponse en respectant le temps polynomiale, la recherche du chemin le plus court dans notre cas est donc qualifié de complexité NP-complet. Comme nous souhaitons avoir le meilleur chemin possible, il est necessaire de tester toutes les solutions possible. Notre probleme devient donc un algorithme de type NP-Difficile.\n",
    "\n",
    "Afin de trouver une solution, nous devons prendre en compte tous les chemins possibles. Cependant, le nombre de chemin disponible est égal a n! (N factoriel). La complexité de cette solution est donc de O(n!), lors de recherches nous avons trouvé une solution permettant de transformer une compléxité O(n!) en O(e<sup>n</sup>).\n",
    "\n",
    "Dans le but d'avoir un temps de calcul abordable nous avons choisi la solution de faire un algorithme de type heuristique."
   ]
  },
  {
   "cell_type": "markdown",
   "metadata": {
    "collapsed": false,
    "pycharm": {
     "name": "#%% md\n"
    }
   },
   "source": [
    "## 3. Modélisation\n",
    "\n",
    "Le problème que l'on nous demande de traiter dans ce projet repose sur un problème plus largement étudier qui est celui du voyageur de commerce. Ce problème est un sujet bien connu en algorithmique du fait de sa complexité initial et du nombre de sous problèmes qu'il soulève. Pour le résoudre nous avons choisis de suivre les études faites sur le sujet et donc d'utiliser des algorithme Heuristiques et Métaheuristiques\n",
    "\n",
    "Nous avons donc selectionné 3 algorithmes pour nous aider à resoudre notre problèmatique général. Chacun d’eux a ses avantages et ses inconvénients.\n",
    "Il faudra donc retenir qu'on ne retiendra pas la même solution dans la mesure où l’on va privilégié le temps de calcul, la qualité de la solution, ou encore le choix des solutions.\n",
    "\n",
    "On peut commencé par cité le premier algorithme que nous allons utilisé qui fait partie de la famille des algorithmes gloutons. Il s'agit d'une famille d'algorithme qui font le choix de l'optimum local pour chaque étapes d'un problème. Celui que nous avons retenu est l’algorithme du plus proche voisin.\n",
    "\n",
    "L'algorithme du plus proche voisin se base, comme son nom l'indique, sur la selection de la ville la plus proche de la position actuelle. Le principe est que la prochaine ville est sélectionnée tel que le poids de l'arrete entre la ville actuelle et la prochaine ville soit le plus petit possible (distance minimal). L'opération sera répété jusqu'à avoir visité toutes les villes et etre revenu a la ville de départ du cycle.\n",
    "\n",
    "\n",
    "Pour ceci, nous devons prouver via un algorithme de certificat que la solution est vérifiable en temps polynomiale :\n",
    "<br></br>\n",
    "\n",
    "   Dans un premier temps, qu'est-ce qu'un temps polynomiale ?\n",
    "\n",
    "Un temps polynomial peut être vu comme le temps minimum d’exécution d’un algorithme en fonction des données en\n",
    "entrée. Un algorithme est résolu en temps polynomial si, pour toutes constantes c et n indépendantes, avec n un entier\n",
    "présentant la taille des données en entrée, il s’exécute en moins de c.n<sup>k</sup> opérations élémentaires (et k est une constante indépendante des deux autres).\n",
    "\n",
    "Par la suite, dans notre situation de voyageur de commerce et dans les contraintes demandées, notre solution doit être vérifiable dans un temps polynomiale sur un jeu de données de plusieurs milliers de points. Nous allons donc apporter la preuve :\n"
   ]
  },
  {
   "cell_type": "code",
   "execution_count": 3,
   "metadata": {
    "collapsed": false,
    "pycharm": {
     "name": "#%%\n"
    }
   },
   "outputs": [],
   "source": [
    "import numpy as np\n",
    "\n",
    "size = (10, 10)\n",
    "\n",
    "adj_mat = np.random.randint(2, size=size)\n"
   ]
  },
  {
   "cell_type": "markdown",
   "metadata": {
    "collapsed": false,
    "pycharm": {
     "name": "#%% md\n"
    }
   },
   "source": [
    "Dans un premier temps, nous avons généré une matrice d'adjacence. Cette matrice est un échantillon de 10x10 afin d'avoir un temps de demonstration raisonnable.\n",
    "\n",
    "Dans un second temps, l'objectif est d'afficher cette matrice sous forme de graph :"
   ]
  },
  {
   "cell_type": "code",
   "execution_count": 13,
   "metadata": {
    "collapsed": false,
    "pycharm": {
     "name": "#%%\n"
    }
   },
   "outputs": [
    {
     "ename": "ImportError",
     "evalue": "requires pygraphviz http://pygraphviz.github.io/",
     "output_type": "error",
     "traceback": [
      "\u001b[1;31m---------------------------------------------------------------------------\u001b[0m",
      "\u001b[1;31mModuleNotFoundError\u001b[0m                       Traceback (most recent call last)",
      "File \u001b[1;32mc:\\Users\\maxim\\anaconda3\\lib\\site-packages\\networkx\\drawing\\nx_agraph.py:132\u001b[0m, in \u001b[0;36mto_agraph\u001b[1;34m(N)\u001b[0m\n\u001b[0;32m    <a href='file:///c%3A/Users/maxim/anaconda3/lib/site-packages/networkx/drawing/nx_agraph.py?line=130'>131</a>\u001b[0m \u001b[39mtry\u001b[39;00m:\n\u001b[1;32m--> <a href='file:///c%3A/Users/maxim/anaconda3/lib/site-packages/networkx/drawing/nx_agraph.py?line=131'>132</a>\u001b[0m     \u001b[39mimport\u001b[39;00m \u001b[39mpygraphviz\u001b[39;00m\n\u001b[0;32m    <a href='file:///c%3A/Users/maxim/anaconda3/lib/site-packages/networkx/drawing/nx_agraph.py?line=132'>133</a>\u001b[0m \u001b[39mexcept\u001b[39;00m \u001b[39mImportError\u001b[39;00m \u001b[39mas\u001b[39;00m err:\n",
      "\u001b[1;31mModuleNotFoundError\u001b[0m: No module named 'pygraphviz'",
      "\nThe above exception was the direct cause of the following exception:\n",
      "\u001b[1;31mImportError\u001b[0m                               Traceback (most recent call last)",
      "\u001b[1;32mc:\\Users\\maxim\\Dropbox\\Cesi\\CESI-Ingénieur Année 3\\Algorithmique avancée\\Projet ADEME\\Algo-Livrable-1\\Livrable.ipynb Cell 9'\u001b[0m in \u001b[0;36m<cell line: 6>\u001b[1;34m()\u001b[0m\n\u001b[0;32m      <a href='vscode-notebook-cell:/c%3A/Users/maxim/Dropbox/Cesi/CESI-Ing%C3%A9nieur%20Ann%C3%A9e%203/Algorithmique%20avanc%C3%A9e/Projet%20ADEME/Algo-Livrable-1/Livrable.ipynb#ch0000008?line=1'>2</a>\u001b[0m \u001b[39mfrom\u001b[39;00m \u001b[39mIPython\u001b[39;00m\u001b[39m.\u001b[39;00m\u001b[39mdisplay\u001b[39;00m \u001b[39mimport\u001b[39;00m SVG, display\n\u001b[0;32m      <a href='vscode-notebook-cell:/c%3A/Users/maxim/Dropbox/Cesi/CESI-Ing%C3%A9nieur%20Ann%C3%A9e%203/Algorithmique%20avanc%C3%A9e/Projet%20ADEME/Algo-Livrable-1/Livrable.ipynb#ch0000008?line=3'>4</a>\u001b[0m graph \u001b[39m=\u001b[39m nx\u001b[39m.\u001b[39mfrom_numpy_array(adj_mat, parallel_edges\u001b[39m=\u001b[39m\u001b[39mTrue\u001b[39;00m, create_using\u001b[39m=\u001b[39mnx\u001b[39m.\u001b[39mMultiGraph)\n\u001b[1;32m----> <a href='vscode-notebook-cell:/c%3A/Users/maxim/Dropbox/Cesi/CESI-Ing%C3%A9nieur%20Ann%C3%A9e%203/Algorithmique%20avanc%C3%A9e/Projet%20ADEME/Algo-Livrable-1/Livrable.ipynb#ch0000008?line=5'>6</a>\u001b[0m agraph \u001b[39m=\u001b[39m nx\u001b[39m.\u001b[39;49mnx_agraph\u001b[39m.\u001b[39;49mto_agraph(graph)\n\u001b[0;32m      <a href='vscode-notebook-cell:/c%3A/Users/maxim/Dropbox/Cesi/CESI-Ing%C3%A9nieur%20Ann%C3%A9e%203/Algorithmique%20avanc%C3%A9e/Projet%20ADEME/Algo-Livrable-1/Livrable.ipynb#ch0000008?line=6'>7</a>\u001b[0m tmp_path \u001b[39m=\u001b[39m \u001b[39m\"\u001b[39m\u001b[39mtmp_graph.svg\u001b[39m\u001b[39m\"\u001b[39m\n\u001b[0;32m      <a href='vscode-notebook-cell:/c%3A/Users/maxim/Dropbox/Cesi/CESI-Ing%C3%A9nieur%20Ann%C3%A9e%203/Algorithmique%20avanc%C3%A9e/Projet%20ADEME/Algo-Livrable-1/Livrable.ipynb#ch0000008?line=7'>8</a>\u001b[0m agraph\u001b[39m.\u001b[39mdraw(tmp_path, prog\u001b[39m=\u001b[39m\u001b[39m\"\u001b[39m\u001b[39mdot\u001b[39m\u001b[39m\"\u001b[39m)\n",
      "File \u001b[1;32mc:\\Users\\maxim\\anaconda3\\lib\\site-packages\\networkx\\drawing\\nx_agraph.py:134\u001b[0m, in \u001b[0;36mto_agraph\u001b[1;34m(N)\u001b[0m\n\u001b[0;32m    <a href='file:///c%3A/Users/maxim/anaconda3/lib/site-packages/networkx/drawing/nx_agraph.py?line=131'>132</a>\u001b[0m     \u001b[39mimport\u001b[39;00m \u001b[39mpygraphviz\u001b[39;00m\n\u001b[0;32m    <a href='file:///c%3A/Users/maxim/anaconda3/lib/site-packages/networkx/drawing/nx_agraph.py?line=132'>133</a>\u001b[0m \u001b[39mexcept\u001b[39;00m \u001b[39mImportError\u001b[39;00m \u001b[39mas\u001b[39;00m err:\n\u001b[1;32m--> <a href='file:///c%3A/Users/maxim/anaconda3/lib/site-packages/networkx/drawing/nx_agraph.py?line=133'>134</a>\u001b[0m     \u001b[39mraise\u001b[39;00m \u001b[39mImportError\u001b[39;00m(\n\u001b[0;32m    <a href='file:///c%3A/Users/maxim/anaconda3/lib/site-packages/networkx/drawing/nx_agraph.py?line=134'>135</a>\u001b[0m         \u001b[39m\"\u001b[39m\u001b[39mrequires pygraphviz \u001b[39m\u001b[39m\"\u001b[39m \u001b[39m\"\u001b[39m\u001b[39mhttp://pygraphviz.github.io/\u001b[39m\u001b[39m\"\u001b[39m\n\u001b[0;32m    <a href='file:///c%3A/Users/maxim/anaconda3/lib/site-packages/networkx/drawing/nx_agraph.py?line=135'>136</a>\u001b[0m     ) \u001b[39mfrom\u001b[39;00m \u001b[39merr\u001b[39;00m\n\u001b[0;32m    <a href='file:///c%3A/Users/maxim/anaconda3/lib/site-packages/networkx/drawing/nx_agraph.py?line=136'>137</a>\u001b[0m directed \u001b[39m=\u001b[39m N\u001b[39m.\u001b[39mis_directed()\n\u001b[0;32m    <a href='file:///c%3A/Users/maxim/anaconda3/lib/site-packages/networkx/drawing/nx_agraph.py?line=137'>138</a>\u001b[0m strict \u001b[39m=\u001b[39m nx\u001b[39m.\u001b[39mnumber_of_selfloops(N) \u001b[39m==\u001b[39m \u001b[39m0\u001b[39m \u001b[39mand\u001b[39;00m \u001b[39mnot\u001b[39;00m N\u001b[39m.\u001b[39mis_multigraph()\n",
      "\u001b[1;31mImportError\u001b[0m: requires pygraphviz http://pygraphviz.github.io/"
     ]
    }
   ],
   "source": [
    "import networkx as nx\n",
    "from IPython.display import SVG, display\n",
    "\n",
    "graph = nx.from_numpy_array(adj_mat, parallel_edges=True, create_using=nx.MultiGraph)\n",
    "\n",
    "agraph = nx.nx_agraph.to_agraph(graph)\n",
    "tmp_path = \"tmp_graph.svg\"\n",
    "agraph.draw(tmp_path, prog=\"dot\")\n",
    "display(SVG(tmp_path))\n"
   ]
  },
  {
   "cell_type": "markdown",
   "metadata": {
    "collapsed": false,
    "pycharm": {
     "name": "#%% md\n"
    }
   },
   "source": []
  },
  {
   "cell_type": "markdown",
   "metadata": {
    "collapsed": false,
    "pycharm": {
     "name": "#%% md\n"
    }
   },
   "source": [
    "Ici, nous avons réussi la génération du graph, maintenant il nous faut l'algorithme permettant de resoudre ce probleme de manière simple :"
   ]
  },
  {
   "cell_type": "code",
   "execution_count": 12,
   "metadata": {
    "collapsed": false,
    "pycharm": {
     "name": "#%%\n"
    }
   },
   "outputs": [
    {
     "name": "stdout",
     "output_type": "stream",
     "text": [
      "[4, 0, 7, 2, 0, 5, 3, 1, 0, 8, 6]\n"
     ]
    }
   ],
   "source": [
    "path = nx.approximation.traveling_salesman_problem(graph,nodes=list(range(0, 9)), cycle=False)\n",
    "\n",
    "print(path)"
   ]
  },
  {
   "cell_type": "markdown",
   "metadata": {
    "collapsed": false,
    "pycharm": {
     "name": "#%% md\n"
    }
   },
   "source": [
    "Ici, nous avons la solution la plus optimisé sans aucune contrainte pour la demonstration. Maintenant, nous allons executer un algorithme de certificat qui prouve que la solution est correcte :"
   ]
  },
  {
   "cell_type": "code",
   "execution_count": 52,
   "metadata": {
    "collapsed": false,
    "pycharm": {
     "name": "#%%\n"
    }
   },
   "outputs": [],
   "source": [
    " #Ici algo de certificat avec temps de vérification"
   ]
  },
  {
   "cell_type": "code",
   "execution_count": null,
   "metadata": {
    "collapsed": false,
    "pycharm": {
     "name": "#%%\n"
    }
   },
   "outputs": [],
   "source": [
    "#Ici demontration de la reduction polynomiale"
   ]
  },
  {
   "cell_type": "markdown",
   "metadata": {
    "pycharm": {
     "name": "#%% md\n"
    }
   },
   "source": [
    "En cherchant et en ce concertant quand aux meilleurs solutions pour repondre à ce problème nous sommes tombé sur 3 algorithmes qui semblait repondre aux besoins du projet :\n",
    "\n",
    "- K-Nearest Neighbors Algorithm\n",
    "- Greedy Algorithms\n",
    "- Tabu search\n",
    "\n",
    "\n",
    "\n",
    "#### K-Nearest Neightbors Algorithm :\n",
    "\n",
    "L'algorithme naïf de recherche de voisinage consiste à passer sur l'ensemble des n points de A et à regarder si ce point est plus proche ou non qu'un des plus proches voisins déjà sélectionné, et si oui, l'insérer. On obtient alors un temps de calcul linéaire en la taille de A : O(n) (tant que k << n). Cette méthode est appelée la recherche séquentielle ou recherche linéaire.\n",
    "\n",
    "Le probleme est que la recherche linéaire souffre d'un problème de lenteur. Si l'ensemble A est grand, il est alors extrêmement coûteux de tester les n points de l'espace."
   ]
  },
  {
   "cell_type": "code",
   "execution_count": 15,
   "metadata": {},
   "outputs": [
    {
     "data": {
      "image/png": "[encoded data removed]",
      "text/plain": [
       "<Figure size 432x288 with 1 Axes>"
      ]
     },
     "metadata": {
      "needs_background": "light"
     },
     "output_type": "display_data"
    }
   ],
   "source": [
    "import numpy as np\n",
    "import math\n",
    "import time\n",
    "import matplotlib.pyplot as plt\n",
    "\n",
    "resTime = []\n",
    "\n",
    "maxN= 100\n",
    "maxA= 10000\n",
    "\n",
    "def Pythagore(a, b):\n",
    "    vect = [b[0]-a[0], b[1]-a[1]]\n",
    "    return math.sqrt(vect[0]*vect[0]+vect[1]*vect[1])\n",
    "\n",
    "for i in range(3,maxN):\n",
    "    for e in range(maxA):\n",
    "        points = []\n",
    "        for k in range(i):\n",
    "            points.append(np.random.randint(0,100,2))\n",
    "        #if(i>3):\n",
    "            #print(points)\n",
    "        start = time.time_ns()\n",
    "        res = [points[0]]\n",
    "        dist = 0\n",
    "        last = points[0]\n",
    "        points.pop(0)\n",
    "        #if(i>3):\n",
    "            #print(points)\n",
    "        for k in range(i-1):\n",
    "            temp=[0,Pythagore(last, points[0])]\n",
    "            if(points.__len__()>1):\n",
    "                for l in range(1,i-1-k):\n",
    "                    #if(i>3):\n",
    "                        #print(points)\n",
    "                    #print(l)\n",
    "                    #print(points)\n",
    "                    foo = Pythagore(last, points[l])\n",
    "                    if(temp[1]>foo):\n",
    "                        temp[0]=l\n",
    "                        temp[1]=foo\n",
    "            dist += temp[1]\n",
    "            res.append(points[temp[0]])\n",
    "            last = points[temp[0]]\n",
    "            points.pop(temp[0])\n",
    "        resTime.append([dist,time.time_ns()-start])\n",
    "\n",
    "Moy = []\n",
    "for i in range(maxN-3):\n",
    "    sum=0\n",
    "    for e in range(maxA):\n",
    "        sum += resTime[i*maxA+e][1]\n",
    "    Moy.append(sum/maxA)\n",
    "\n",
    "plt.plot(range(3,maxN),Moy)\n",
    "plt.show()\n",
    "    \n",
    "        \n"
   ]
  },
  {
   "cell_type": "markdown",
   "metadata": {},
   "source": [
    "#### Greedy Algorithms :\n",
    "\n",
    "#### Tabu search :\n",
    "\n",
    "La recherche avec tabous est déterministe et a une notion de mémoire. Le choix du meilleur voisin d’une solution pousse l’algorithme à trouver les optima locaux ; et comme l’exploration de l’espace de recherche est effectué en limitant le voisinage de la solution en rendant « tabous » certains mouvements, l’algorithme doit théoriquement visiter l’optimum global."
   ]
  },
  {
   "cell_type": "markdown",
   "metadata": {},
   "source": [
    "#### Voyageur de Commerce :"
   ]
  },
  {
   "cell_type": "code",
   "execution_count": 17,
   "metadata": {},
   "outputs": [
    {
     "data": {
      "text/plain": [
       "[<matplotlib.lines.Line2D at 0x185e2b5b8e0>]"
      ]
     },
     "execution_count": 17,
     "metadata": {},
     "output_type": "execute_result"
    },
    {
     "data": {
      "image/png": "[encoded data removed]",
      "text/plain": [
       "<Figure size 432x288 with 1 Axes>"
      ]
     },
     "metadata": {
      "needs_background": "light"
     },
     "output_type": "display_data"
    }
   ],
   "source": [
    "import random\n",
    "import matplotlib.pyplot as plt\n",
    "\n",
    "n = 30\n",
    "x = [ random.random() for _ in range(n) ]\n",
    "y = [ random.random() for _ in range(n) ]\n",
    "plt.plot(x,y,\"o\")"
   ]
  },
  {
   "cell_type": "code",
   "execution_count": 18,
   "metadata": {},
   "outputs": [
    {
     "name": "stdout",
     "output_type": "stream",
     "text": [
      "longueur initiale 13.511792195919982\n",
      "iteration 2 d= 13.511792195919982\n",
      "iteration 3 d= 3.320710444342439\n",
      "iteration 4 d= 1.4590925372819878\n",
      "iteration 5 d= 1.1742245539475924\n",
      "iteration 6 d= 1.1427443837373616\n",
      "longueur min 1.1427443837373616\n"
     ]
    },
    {
     "data": {
      "text/plain": [
       "[<matplotlib.lines.Line2D at 0x185e3b82c40>]"
      ]
     },
     "execution_count": 18,
     "metadata": {},
     "output_type": "execute_result"
    },
    {
     "data": {
      "image/png": "[encoded data removed]",
      "text/plain": [
       "<Figure size 432x288 with 1 Axes>"
      ]
     },
     "metadata": {
      "needs_background": "light"
     },
     "output_type": "display_data"
    }
   ],
   "source": [
    "def longueur (x,y, ordre):\n",
    "    i = ordre[-1]\n",
    "    x0,y0 = x[i], y[i]\n",
    "    d = 0\n",
    "    for o in ordre:\n",
    "        x1,y1 = x[o], y[o]\n",
    "        d += (x0-x1)**2 + (y0-y1)**2\n",
    "        x0,y0 = x1,y1\n",
    "    return d\n",
    "\n",
    "ordre = list(range(len(x)))\n",
    "print(\"longueur initiale\", longueur(x,y,ordre))\n",
    "\n",
    "def permutation(x,y,ordre):\n",
    "    d  = longueur(x,y,ordre)\n",
    "    d0 = d+1\n",
    "    it = 1\n",
    "    while d < d0 :\n",
    "        it += 1\n",
    "        print(\"iteration\",it, \"d=\",d)\n",
    "        d0 = d\n",
    "        for i in range(0,len(ordre)-1) :\n",
    "            for j in range(i+2,len(ordre)):\n",
    "                r = ordre[i:j].copy()\n",
    "                r.reverse()\n",
    "                ordre2 = ordre[:i] + r + ordre[j:]\n",
    "                t = longueur(x,y,ordre2)\n",
    "                if t < d :\n",
    "                    d = t\n",
    "                    ordre = ordre2\n",
    "    return ordre\n",
    "\n",
    "ordre = permutation (x,y,list(range(len(x))))\n",
    "print(\"longueur min\", longueur(x,y,ordre))\n",
    "xo = [ x[o] for o in ordre + [ordre[0]]]\n",
    "yo = [ y[o] for o in ordre + [ordre[0]]]\n",
    "plt.plot(xo,yo, \"o-\")"
   ]
  },
  {
   "cell_type": "code",
   "execution_count": 19,
   "metadata": {},
   "outputs": [
    {
     "name": "stdout",
     "output_type": "stream",
     "text": [
      "longueur initiale 13.511792195919982\n",
      "iteration 0 d= 13.511792195919982\n",
      "iteration 1 d= 1.0907364194435383\n",
      "iteration 2 d= 1.0907364194435383\n",
      "iteration 3 d= 1.0907364194435383\n",
      "iteration 4 d= 1.0907364194435383\n",
      "iteration 5 d= 1.0907364194435383\n",
      "iteration 6 d= 1.0907364194435383\n",
      "iteration 7 d= 1.0907364194435383\n",
      "iteration 8 d= 1.0907364194435383\n",
      "iteration 9 d= 1.0907364194435383\n",
      "iteration 10 d= 1.0907364194435383\n",
      "iteration 11 d= 1.0907364194435383\n",
      "iteration 12 d= 1.0907364194435383\n",
      "iteration 13 d= 1.0907364194435383\n",
      "iteration 14 d= 1.0907364194435383\n",
      "iteration 15 d= 1.0907364194435383\n",
      "iteration 16 d= 1.0907364194435383\n",
      "iteration 17 d= 1.0907364194435383\n",
      "iteration 18 d= 1.0907364194435383\n",
      "iteration 19 d= 1.0907364194435383\n",
      "longueur min 1.0907364194435383\n"
     ]
    },
    {
     "data": {
      "text/plain": [
       "Text(0.12427292842776216, 0.5015012037107889, 'N-1')"
      ]
     },
     "execution_count": 19,
     "metadata": {},
     "output_type": "execute_result"
    },
    {
     "data": {
      "image/png": "[encoded data removed]",
      "text/plain": [
       "<Figure size 432x288 with 1 Axes>"
      ]
     },
     "metadata": {
      "needs_background": "light"
     },
     "output_type": "display_data"
    }
   ],
   "source": [
    "ordre = list(range(len(x)))\n",
    "print(\"longueur initiale\", longueur(x,y,ordre))\n",
    "\n",
    "def permutation_rnd(x,y,ordre,miniter):\n",
    "    d  = longueur(x,y,ordre)\n",
    "    d0 = d+1\n",
    "    it = 1\n",
    "    while d < d0 or it < miniter :\n",
    "        it += 1\n",
    "        d0 = d\n",
    "        for i in range(1,len(ordre)-1) :\n",
    "            for j in range(i+2,len(ordre)+ 1):\n",
    "                k = random.randint(1,len(ordre)-1)\n",
    "                l = random.randint(k+1,len(ordre))\n",
    "                r = ordre[k:l].copy()\n",
    "                r.reverse()\n",
    "                ordre2 = ordre[:k] + r + ordre[l:]\n",
    "                t = longueur(x,y,ordre2)\n",
    "                if t < d :\n",
    "                    d = t\n",
    "                    ordre = ordre2\n",
    "    return ordre\n",
    "\n",
    "def n_permutation(x,y, miniter):\n",
    "    ordre = list(range(len(x)))\n",
    "    bordre = ordre.copy()\n",
    "    d0 = longueur(x,y,ordre)\n",
    "    for i in range(0,20):\n",
    "        print(\"iteration\",i, \"d=\",d0)\n",
    "        random.shuffle(ordre)\n",
    "        ordre = permutation_rnd (x,y,ordre, 20)\n",
    "        d = longueur(x,y,ordre)\n",
    "        if d < d0 :\n",
    "            d0 = d\n",
    "            bordre = ordre.copy()\n",
    "    return bordre\n",
    "\n",
    "ordre = n_permutation (x,y, 20)\n",
    "print(\"longueur min\", longueur(x,y,ordre))\n",
    "xo = [ x[o] for o in ordre + [ordre[0]]]\n",
    "yo = [ y[o] for o in ordre + [ordre[0]]]\n",
    "plt.plot(xo,yo, \"o-\")\n",
    "plt.text(xo[0],yo[0],\"0\",color=\"r\",weight=\"bold\",size=\"x-large\")\n",
    "plt.text(xo[-2],yo[-2],\"N-1\",color=\"r\",weight=\"bold\",size=\"x-large\")"
   ]
  },
  {
   "cell_type": "markdown",
   "metadata": {
    "pycharm": {
     "name": "#%% md\n"
    }
   },
   "source": [
    "## 5. Exploitation"
   ]
  },
  {
   "cell_type": "markdown",
   "metadata": {
    "pycharm": {
     "name": "#%% md\n"
    }
   },
   "source": [
    "## Conclusion"
   ]
  }
 ],
 "metadata": {
  "interpreter": {
   "hash": "e5968b5040b5ad352cfbb4ff25bb1bcaf98d7df2ec40bbe97243e74cb50ceb66"
  },
  "kernelspec": {
   "display_name": "Python 3.9.12 ('base')",
   "language": "python",
   "name": "python3"
  },
  "language_info": {
   "codemirror_mode": {
    "name": "ipython",
    "version": 3
   },
   "file_extension": ".py",
   "mimetype": "text/x-python",
   "name": "python",
   "nbconvert_exporter": "python",
   "pygments_lexer": "ipython3",
   "version": "3.9.12"
  },
  "orig_nbformat": 4
 },
 "nbformat": 4,
 "nbformat_minor": 2
}
