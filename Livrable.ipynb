{
 "cells": [
  {
   "cell_type": "markdown",
   "metadata": {
    "pycharm": {
     "name": "#%% md\n"
    }
   },
   "source": [
    "# Livrable 1"
   ]
  },
  {
   "cell_type": "markdown",
   "metadata": {
    "pycharm": {
     "name": "#%% md\n"
    }
   },
   "source": [
    "## Table des matières\n",
    "- [Introduction](#introduction)\n",
    "1. [Contraintes](#1-contraintes)\n",
    "1. [Modélisation](#2-modélisation)\n",
    "1. [Implémentation](#3-implémentation)\n",
    "1. [Exploitation](#4-exploitation)\n",
    "- [Conclusion](#conclusion)"
   ]
  },
  {
   "cell_type": "markdown",
   "source": [
    "## Introduction\n",
    "\n",
    "L'ADEME (Agence de l'Environnement et de la Maîtrise de l'Energie) a récemment lancé un appel à manifestation d'intérêt pour promouvoir la réalisation de démonstrations et d'expérimentations de nouvelles solutions de mobilité pour les personnes et les marchandises adaptées à différents types de territoires.<br><br>\n",
    "Notre équipe fait partie de la structure CesiCDP déjà implantée dans le domaine et nous avons été mobilisé pour répondre à cet appel.\n",
    "CesiCDP souhaite que l'on oriente l'étude sur la gestion de tournées de livraison. Le problème algorithmique consiste a calculer, sur un réseau routier quelconque, une tournée permettant de relier entre elles un sous-ensemble de villes avec pour but de revenir au point de départ en un minimum de temps.\n",
    "Une méthode algorithme permettrant de répondre a ce problème est attendu.\n",
    "Il est aussi demandé d'ajouter des contraintes supplémentaires afin de rendre le model plus réaliste possible."
   ],
   "metadata": {
    "collapsed": false,
    "pycharm": {
     "name": "#%% md\n"
    }
   }
  },
  {
   "cell_type": "markdown",
   "source": [
    "## 1. Contraintes\n",
    "\n",
    "Afin de répondre à l’appel d’offre de l’ADEME, nous avons donc dû identifier les contraintes de notre algorithme.\n",
    "\n",
    "Notre solution doit :\n",
    "- Réaliser un cycle permettant de passer par toutes les villes souhaitées,\n",
    "- Prendre en compte le temps nécessaire pour le passage entre deux villes.\n",
    "\n",
    "De plus, nous avons opté pour ajouter une contrainte supplémentaire :\n",
    "- Le temps de parcours d’une arête varie au cours du temps.\n",
    "Cette contrainte nous a paru pertinente car le temps nécessaire au transit n’est généralement pas le même en fonction de la densité de circulation qui varie en fonction du temps."
   ],
   "metadata": {
    "collapsed": false,
    "pycharm": {
     "name": "#%% md\n"
    }
   }
  },
  {
   "cell_type": "markdown",
   "source": [
    "## 2. Définitions / Problèmes\n",
    "\n",
    "Dans un premier temps, le probleme peut être reformulé sous la forme d'un graph complet composé de l'ensemble de sommets U. L'objectif final étant de relier tous les sommets de ce graph en revenant au point de départ sur la distance la plus courte possible. Cela correspond a l'appellation d'un cycle hamiltonien. Notre objectif est donc de modéliser le cycle hamiltonien ayant la plus courte distance totale en temps.\n",
    "\n",
    "La recherche d'un cycle hamiltonien n'étant pas un probleme ayant une solution de réponse en respectant le temps polynomiale, la recherche du chemin le plus court dans notre cas est donc qualifié de complexité NP-complet. Cependant donc notre cas, comme nous souhaitons avoir le meilleur chemin possible, il est donc necessaire de tester toutes les solutions possible. Notre probleme devient donc un algorithme de type NP-Difficile.\n",
    "\n",
    "Afin de résoudre la solution, nous devons avoir tous les chemins possibles. Cependant, le nombre de chemin disponible est égal a n! (N factoriel). La complexité de cette solution est donc de O(n!), cependant lors de recherches nous avons trouvé une solution permettant de transformer une compléxité O(n!) en O(e<sup>n</sup>).\n",
    "\n",
    "Afin d'avoir un temps de resolution tout de même respectable, avec des machines posssédées par le communs des mortels, nous avons choisi la solution de faire un algorithme de type heuristique.\n",
    "\n"
   ],
   "metadata": {
    "collapsed": false,
    "pycharm": {
     "name": "#%% md\n"
    }
   }
  },
  {
   "cell_type": "markdown",
   "source": [
    "## 3. Modélisation\n",
    "\n",
    "\n",
    "Pour ceci, nous devons prouver via un algorithme de certificat que la solution est vérifiable en temps polynomiale :\n",
    "<br></br>\n",
    "\n",
    "   Dans un premier temps, qu'est-ce qu'un temps polynomiale ?\n",
    "\n",
    "Un temps polynomial peut être vu comme le temps minimum d’exécution d’un algorithme en fonction des données en\n",
    "entrée. Un algorithme est résolu en temps polynomial si, pour toutes constantes c et n indépendantes, avec n un entier\n",
    "présentant la taille des données en entrée, il s’exécute en moins de c.n<sup>k</sup> opérations élémentaires (et k est une constante indépendante des deux autres).\n",
    "\n",
    "Par la suite, dans notre situation de voyageur de commerce et dans les contraintes demandées, notre solution doit être vérifiable dans un temps polynomiale sur un jeu de données de plusieurs milliers de points. Nous allons donc apporter la preuve :\n"
   ],
   "metadata": {
    "collapsed": false,
    "pycharm": {
     "name": "#%% md\n"
    }
   }
  },
  {
   "cell_type": "code",
   "execution_count": 3,
   "outputs": [],
   "source": [
    "import numpy as np\n",
    "\n",
    "size = (10, 10)\n",
    "\n",
    "adj_mat = np.random.randint(2, size=size)\n"
   ],
   "metadata": {
    "collapsed": false,
    "pycharm": {
     "name": "#%%\n"
    }
   }
  },
  {
   "cell_type": "markdown",
   "source": [
    "Dans un premier temps, nous avons généré une matrice d'adjacence. Cette matrice est un échantillon de 10x10 afin d'avoir un temps de demonstration raisonnable.\n",
    "\n",
    "Dans un second temps, l'objectif est d'afficher cette matrice sous forme de graph :"
   ],
   "metadata": {
    "collapsed": false,
    "pycharm": {
     "name": "#%% md\n"
    }
   }
  },
  {
   "cell_type": "code",
   "execution_count": 4,
   "outputs": [
    {
     "data": {
      "text/plain": "<IPython.core.display.SVG object>",
      "image/svg+xml": "<svg xmlns=\"http://www.w3.org/2000/svg\" xmlns:xlink=\"http://www.w3.org/1999/xlink\" width=\"436pt\" height=\"476pt\" viewBox=\"0.00 0.00 436.00 476.00\">\n<g id=\"graph0\" class=\"graph\" transform=\"scale(1 1) rotate(0) translate(4 472)\">\n<polygon fill=\"white\" stroke=\"transparent\" points=\"-4,4 -4,-472 432,-472 432,4 -4,4\"/>\n<!-- 0 -->\n<g id=\"node1\" class=\"node\">\n<title>0</title>\n<ellipse fill=\"none\" stroke=\"black\" cx=\"371\" cy=\"-450\" rx=\"27\" ry=\"18\"/>\n<text text-anchor=\"middle\" x=\"371\" y=\"-446.3\" font-family=\"Times New Roman,serif\" font-size=\"14.00\">0</text>\n</g>\n<!-- 4 -->\n<g id=\"node2\" class=\"node\">\n<title>4</title>\n<ellipse fill=\"none\" stroke=\"black\" cx=\"297\" cy=\"-378\" rx=\"27\" ry=\"18\"/>\n<text text-anchor=\"middle\" x=\"297\" y=\"-374.3\" font-family=\"Times New Roman,serif\" font-size=\"14.00\">4</text>\n</g>\n<!-- 0&#45;&#45;4 -->\n<g id=\"edge1\" class=\"edge\">\n<title>0--4</title>\n<path fill=\"none\" stroke=\"black\" d=\"M356.02,-434.83C343.19,-422.69 324.78,-405.28 311.95,-393.14\"/>\n</g>\n<!-- 5 -->\n<g id=\"node3\" class=\"node\">\n<title>5</title>\n<ellipse fill=\"none\" stroke=\"black\" cx=\"245\" cy=\"-306\" rx=\"27\" ry=\"18\"/>\n<text text-anchor=\"middle\" x=\"245\" y=\"-302.3\" font-family=\"Times New Roman,serif\" font-size=\"14.00\">5</text>\n</g>\n<!-- 0&#45;&#45;5 -->\n<g id=\"edge2\" class=\"edge\">\n<title>0--5</title>\n<path fill=\"none\" stroke=\"black\" d=\"M367.09,-431.88C361.98,-412.59 351.42,-381.17 333,-360 315.2,-339.55 287.52,-324.7 267.96,-316.01\"/>\n</g>\n<!-- 7 -->\n<g id=\"node4\" class=\"node\">\n<title>7</title>\n<ellipse fill=\"none\" stroke=\"black\" cx=\"267\" cy=\"-162\" rx=\"27\" ry=\"18\"/>\n<text text-anchor=\"middle\" x=\"267\" y=\"-158.3\" font-family=\"Times New Roman,serif\" font-size=\"14.00\">7</text>\n</g>\n<!-- 0&#45;&#45;7 -->\n<g id=\"edge3\" class=\"edge\">\n<title>0--7</title>\n<path fill=\"none\" stroke=\"black\" d=\"M369.5,-431.85C365.39,-391.79 351.43,-289.82 311,-216 303.19,-201.73 291.26,-187.67 281.79,-177.62\"/>\n</g>\n<!-- 8 -->\n<g id=\"node5\" class=\"node\">\n<title>8</title>\n<ellipse fill=\"none\" stroke=\"black\" cx=\"152\" cy=\"-90\" rx=\"27\" ry=\"18\"/>\n<text text-anchor=\"middle\" x=\"152\" y=\"-86.3\" font-family=\"Times New Roman,serif\" font-size=\"14.00\">8</text>\n</g>\n<!-- 0&#45;&#45;8 -->\n<g id=\"edge4\" class=\"edge\">\n<title>0--8</title>\n<path fill=\"none\" stroke=\"black\" d=\"M381.99,-433.22C398.55,-407.85 428,-355.88 428,-307 428,-307 428,-307 428,-233 428,-121.72 248.42,-97.57 178.97,-92.39\"/>\n</g>\n<!-- 4&#45;&#45;5 -->\n<g id=\"edge18\" class=\"edge\">\n<title>4--5</title>\n<path fill=\"none\" stroke=\"black\" d=\"M285.46,-361.46C276.84,-349.86 265.12,-334.08 256.51,-322.49\"/>\n</g>\n<!-- 4&#45;&#45;7 -->\n<g id=\"edge19\" class=\"edge\">\n<title>4--7</title>\n<path fill=\"none\" stroke=\"black\" d=\"M299.45,-359.68C303.07,-329.74 308.03,-266.65 294,-216 290.36,-202.86 283.3,-189.18 277.31,-179.01\"/>\n</g>\n<!-- 5&#45;&#45;5 -->\n<g id=\"edge20\" class=\"edge\">\n<title>5--5</title>\n<path fill=\"none\" stroke=\"black\" d=\"M264.9,-318.43C277.69,-321.68 290,-317.53 290,-306 290,-294.47 277.69,-290.32 264.9,-293.57\"/>\n</g>\n<!-- 5&#45;&#45;8 -->\n<g id=\"edge22\" class=\"edge\">\n<title>5--8</title>\n<path fill=\"none\" stroke=\"black\" d=\"M222.95,-295.41C205.77,-286.71 182.89,-272.14 171,-252 143.81,-205.95 146.51,-139.57 149.72,-108.4\"/>\n</g>\n<!-- 6 -->\n<g id=\"node8\" class=\"node\">\n<title>6</title>\n<ellipse fill=\"none\" stroke=\"black\" cx=\"207\" cy=\"-234\" rx=\"27\" ry=\"18\"/>\n<text text-anchor=\"middle\" x=\"207\" y=\"-230.3\" font-family=\"Times New Roman,serif\" font-size=\"14.00\">6</text>\n</g>\n<!-- 5&#45;&#45;6 -->\n<g id=\"edge21\" class=\"edge\">\n<title>5--6</title>\n<path fill=\"none\" stroke=\"black\" d=\"M236.19,-288.76C230.05,-277.46 221.89,-262.44 215.77,-251.15\"/>\n</g>\n<!-- 7&#45;&#45;8 -->\n<g id=\"edge26\" class=\"edge\">\n<title>7--8</title>\n<path fill=\"none\" stroke=\"black\" d=\"M247.75,-149.28C226.52,-136.36 192.56,-115.69 171.31,-102.75\"/>\n</g>\n<!-- 9 -->\n<g id=\"node9\" class=\"node\">\n<title>9</title>\n<ellipse fill=\"none\" stroke=\"black\" cx=\"95\" cy=\"-18\" rx=\"27\" ry=\"18\"/>\n<text text-anchor=\"middle\" x=\"95\" y=\"-14.3\" font-family=\"Times New Roman,serif\" font-size=\"14.00\">9</text>\n</g>\n<!-- 7&#45;&#45;9 -->\n<g id=\"edge27\" class=\"edge\">\n<title>7--9</title>\n<path fill=\"none\" stroke=\"black\" d=\"M255.73,-145.44C241.47,-126.49 215.44,-94.25 188,-72 165.77,-53.97 136.63,-38.46 116.94,-28.95\"/>\n</g>\n<!-- 8&#45;&#45;9 -->\n<g id=\"edge28\" class=\"edge\">\n<title>8--9</title>\n<path fill=\"none\" stroke=\"black\" d=\"M139.63,-73.81C130.07,-62.07 116.9,-45.89 107.34,-34.16\"/>\n</g>\n<!-- 1 -->\n<g id=\"node6\" class=\"node\">\n<title>1</title>\n<ellipse fill=\"none\" stroke=\"black\" cx=\"57\" cy=\"-450\" rx=\"27\" ry=\"18\"/>\n<text text-anchor=\"middle\" x=\"57\" y=\"-446.3\" font-family=\"Times New Roman,serif\" font-size=\"14.00\">1</text>\n</g>\n<!-- 1&#45;&#45;8 -->\n<g id=\"edge8\" class=\"edge\">\n<title>1--8</title>\n<path fill=\"none\" stroke=\"black\" d=\"M59.26,-431.82C61.78,-413.8 66.26,-384.73 72,-360 94.47,-263.18 131.93,-149.85 146.22,-107.8\"/>\n</g>\n<!-- 1&#45;&#45;1 -->\n<g id=\"edge5\" class=\"edge\">\n<title>1--1</title>\n<path fill=\"none\" stroke=\"black\" d=\"M76.9,-462.43C89.69,-465.68 102,-461.53 102,-450 102,-438.47 89.69,-434.32 76.9,-437.57\"/>\n</g>\n<!-- 3 -->\n<g id=\"node7\" class=\"node\">\n<title>3</title>\n<ellipse fill=\"none\" stroke=\"black\" cx=\"131\" cy=\"-378\" rx=\"27\" ry=\"18\"/>\n<text text-anchor=\"middle\" x=\"131\" y=\"-374.3\" font-family=\"Times New Roman,serif\" font-size=\"14.00\">3</text>\n</g>\n<!-- 1&#45;&#45;3 -->\n<g id=\"edge6\" class=\"edge\">\n<title>1--3</title>\n<path fill=\"none\" stroke=\"black\" d=\"M71.98,-434.83C84.81,-422.69 103.22,-405.28 116.05,-393.14\"/>\n</g>\n<!-- 1&#45;&#45;6 -->\n<g id=\"edge7\" class=\"edge\">\n<title>1--6</title>\n<path fill=\"none\" stroke=\"black\" d=\"M62.35,-432.12C68.63,-413.6 80.11,-383.38 95,-360 123.49,-315.27 168.08,-270.96 191.48,-249.08\"/>\n</g>\n<!-- 1&#45;&#45;9 -->\n<g id=\"edge9\" class=\"edge\">\n<title>1--9</title>\n<path fill=\"none\" stroke=\"black\" d=\"M46.01,-433.22C29.45,-407.85 0,-355.88 0,-307 0,-307 0,-307 0,-161 0,-105.53 50.69,-55.33 78.02,-32.3\"/>\n</g>\n<!-- 3&#45;&#45;5 -->\n<g id=\"edge15\" class=\"edge\">\n<title>3--5</title>\n<path fill=\"none\" stroke=\"black\" d=\"M150.34,-365.13C171.3,-352.25 204.57,-331.83 225.57,-318.93\"/>\n</g>\n<!-- 3&#45;&#45;7 -->\n<g id=\"edge16\" class=\"edge\">\n<title>3--7</title>\n<path fill=\"none\" stroke=\"black\" d=\"M142.67,-361.49C157.09,-342.87 182.93,-311.25 209,-288 229.98,-269.29 247.12,-276.45 261,-252 273.69,-229.64 272.45,-198.86 270,-179.98\"/>\n</g>\n<!-- 3&#45;&#45;3 -->\n<g id=\"edge14\" class=\"edge\">\n<title>3--3</title>\n<path fill=\"none\" stroke=\"black\" d=\"M150.9,-390.43C163.69,-393.68 176,-389.53 176,-378 176,-366.47 163.69,-362.32 150.9,-365.57\"/>\n</g>\n<!-- 3&#45;&#45;9 -->\n<g id=\"edge17\" class=\"edge\">\n<title>3--9</title>\n<path fill=\"none\" stroke=\"black\" d=\"M119.21,-361.73C112.16,-351.63 103.85,-337.76 100,-324 70.32,-217.92 85.57,-82.87 92.33,-35.96\"/>\n</g>\n<!-- 6&#45;&#45;7 -->\n<g id=\"edge24\" class=\"edge\">\n<title>6--7</title>\n<path fill=\"none\" stroke=\"black\" d=\"M220.02,-217.81C230.08,-206.07 243.95,-189.89 254.01,-178.16\"/>\n</g>\n<!-- 6&#45;&#45;8 -->\n<g id=\"edge25\" class=\"edge\">\n<title>6--8</title>\n<path fill=\"none\" stroke=\"black\" d=\"M200.58,-216.43C190.04,-189.22 169.17,-135.33 158.55,-107.9\"/>\n</g>\n<!-- 6&#45;&#45;6 -->\n<g id=\"edge23\" class=\"edge\">\n<title>6--6</title>\n<path fill=\"none\" stroke=\"black\" d=\"M226.9,-246.43C239.69,-249.68 252,-245.53 252,-234 252,-222.47 239.69,-218.32 226.9,-221.57\"/>\n</g>\n<!-- 2 -->\n<g id=\"node10\" class=\"node\">\n<title>2</title>\n<ellipse fill=\"none\" stroke=\"black\" cx=\"242\" cy=\"-450\" rx=\"27\" ry=\"18\"/>\n<text text-anchor=\"middle\" x=\"242\" y=\"-446.3\" font-family=\"Times New Roman,serif\" font-size=\"14.00\">2</text>\n</g>\n<!-- 2&#45;&#45;4 -->\n<g id=\"edge11\" class=\"edge\">\n<title>2--4</title>\n<path fill=\"none\" stroke=\"black\" d=\"M253.93,-433.81C263.16,-422.07 275.87,-405.89 285.09,-394.16\"/>\n</g>\n<!-- 2&#45;&#45;5 -->\n<g id=\"edge12\" class=\"edge\">\n<title>2--5</title>\n<path fill=\"none\" stroke=\"black\" d=\"M242.36,-431.87C242.94,-404.58 244.06,-351.52 244.64,-324.19\"/>\n</g>\n<!-- 2&#45;&#45;8 -->\n<g id=\"edge13\" class=\"edge\">\n<title>2--8</title>\n<path fill=\"none\" stroke=\"black\" d=\"M232.66,-433.04C213.97,-400.32 172.06,-322.72 152,-252 143.2,-220.98 145,-212.19 143,-180 142.01,-164.03 141.66,-159.94 143,-144 144.02,-131.91 146.32,-118.43 148.35,-108.09\"/>\n</g>\n<!-- 2&#45;&#45;2 -->\n<g id=\"edge10\" class=\"edge\">\n<title>2--2</title>\n<path fill=\"none\" stroke=\"black\" d=\"M261.9,-462.43C274.69,-465.68 287,-461.53 287,-450 287,-438.47 274.69,-434.32 261.9,-437.57\"/>\n</g>\n</g>\n</svg>"
     },
     "metadata": {},
     "output_type": "display_data"
    }
   ],
   "source": [
    "import networkx as nx\n",
    "from IPython.display import SVG, display\n",
    "\n",
    "graph = nx.from_numpy_array(adj_mat, parallel_edges=True, create_using=nx.MultiGraph)\n",
    "\n",
    "agraph = nx.nx_agraph.to_agraph(graph)\n",
    "tmp_path = \"tmp_graph.svg\"\n",
    "agraph.draw(tmp_path, prog=\"dot\")\n",
    "display(SVG(tmp_path))\n"
   ],
   "metadata": {
    "collapsed": false,
    "pycharm": {
     "name": "#%%\n"
    }
   }
  },
  {
   "cell_type": "markdown",
   "metadata": {
    "pycharm": {
     "name": "#%% md\n"
    }
   },
   "source": [
    "En cherchant et en ce concertant quand aux meilleurs solutions pour repondre à ce problème nous sommes tombé sur 3 algorithmes qui semblait repondre aux besoins du projet :\n",
    "\n",
    "- K-Nearest Neighbors Algorithm\n",
    "- Greedy Algorithms\n",
    "- Tabu search\n",
    "\n",
    "\n",
    "\n",
    "#### K-Nearest Neightbors Algorithm :\n",
    "\n",
    "L'algorithme naïf de recherche de voisinage consiste à passer sur l'ensemble des n points de A et à regarder si ce point est plus proche ou non qu'un des plus proches voisins déjà sélectionné, et si oui, l'insérer. On obtient alors un temps de calcul linéaire en la taille de A : O(n) (tant que k << n). Cette méthode est appelée la recherche séquentielle ou recherche linéaire.\n",
    "\n",
    "Le probleme est que la recherche linéaire souffre d'un problème de lenteur. Si l'ensemble A est grand, il est alors extrêmement coûteux de tester les n points de l'espace.\n",
    "\n",
    "\n",
    "#### Greedy Algorithms :\n",
    "\n",
    "#### Tabu search :\n",
    "\n",
    "La recherche avec tabous est déterministe et a une notion de mémoire. Le choix du meilleur voisin d’une solution pousse l’algorithme à trouver les optima locaux ; et comme l’exploration de l’espace de recherche est effectué en limitant le voisinage de la solution en rendant « tabous » certains mouvements, l’algorithme doit théoriquement visiter l’optimum global."
   ]
  },
  {
   "cell_type": "markdown",
   "metadata": {
    "pycharm": {
     "name": "#%% md\n"
    }
   },
   "source": [
    "## 5. Exploitation"
   ]
  },
  {
   "cell_type": "markdown",
   "metadata": {
    "pycharm": {
     "name": "#%% md\n"
    }
   },
   "source": [
    "## Conclusion"
   ]
  }
 ],
 "metadata": {
  "language_info": {
   "name": "python"
  },
  "orig_nbformat": 4
 },
 "nbformat": 4,
 "nbformat_minor": 2
}